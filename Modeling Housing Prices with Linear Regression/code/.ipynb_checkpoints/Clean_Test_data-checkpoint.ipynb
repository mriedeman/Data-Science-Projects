{
 "cells": [
  {
   "cell_type": "markdown",
   "metadata": {},
   "source": [
    "# Modeling Ames Housing Data\n",
    "## Part 1: Data Cleaning"
   ]
  },
  {
   "cell_type": "markdown",
   "metadata": {},
   "source": [
    "**Imports**"
   ]
  },
  {
   "cell_type": "code",
   "execution_count": 53,
   "metadata": {},
   "outputs": [],
   "source": [
    "import numpy as np\n",
    "import pandas as pd\n",
    "import matplotlib.pyplot as plt\n",
    "import seaborn as sns\n",
    "\n",
    "from sklearn.linear_model import LinearRegression\n",
    "from sklearn.metrics import r2_score, mean_squared_error\n",
    "from sklearn.model_selection import train_test_split, cross_val_score\n",
    "from sklearn.preprocessing import StandardScaler, PolynomialFeatures\n",
    "from sklearn.linear_model import Ridge, RidgeCV\n",
    "from sklearn.linear_model import Lasso, LassoCV\n",
    "from sklearn.model_selection import GridSearchCV\n",
    "from sklearn.pipeline import Pipeline"
   ]
  },
  {
   "cell_type": "markdown",
   "metadata": {},
   "source": [
    "**Load Data**"
   ]
  },
  {
   "cell_type": "code",
   "execution_count": 2,
   "metadata": {
    "scrolled": true
   },
   "outputs": [
    {
     "data": {
      "text/html": [
       "<div>\n",
       "<style scoped>\n",
       "    .dataframe tbody tr th:only-of-type {\n",
       "        vertical-align: middle;\n",
       "    }\n",
       "\n",
       "    .dataframe tbody tr th {\n",
       "        vertical-align: top;\n",
       "    }\n",
       "\n",
       "    .dataframe thead th {\n",
       "        text-align: right;\n",
       "    }\n",
       "</style>\n",
       "<table border=\"1\" class=\"dataframe\">\n",
       "  <thead>\n",
       "    <tr style=\"text-align: right;\">\n",
       "      <th></th>\n",
       "      <th>Id</th>\n",
       "      <th>PID</th>\n",
       "      <th>MS SubClass</th>\n",
       "      <th>MS Zoning</th>\n",
       "      <th>Lot Frontage</th>\n",
       "      <th>Lot Area</th>\n",
       "      <th>Street</th>\n",
       "      <th>Alley</th>\n",
       "      <th>Lot Shape</th>\n",
       "      <th>Land Contour</th>\n",
       "      <th>...</th>\n",
       "      <th>Screen Porch</th>\n",
       "      <th>Pool Area</th>\n",
       "      <th>Pool QC</th>\n",
       "      <th>Fence</th>\n",
       "      <th>Misc Feature</th>\n",
       "      <th>Misc Val</th>\n",
       "      <th>Mo Sold</th>\n",
       "      <th>Yr Sold</th>\n",
       "      <th>Sale Type</th>\n",
       "      <th>SalePrice</th>\n",
       "    </tr>\n",
       "  </thead>\n",
       "  <tbody>\n",
       "    <tr>\n",
       "      <th>0</th>\n",
       "      <td>109</td>\n",
       "      <td>533352170</td>\n",
       "      <td>60</td>\n",
       "      <td>RL</td>\n",
       "      <td>NaN</td>\n",
       "      <td>13517</td>\n",
       "      <td>Pave</td>\n",
       "      <td>NaN</td>\n",
       "      <td>IR1</td>\n",
       "      <td>Lvl</td>\n",
       "      <td>...</td>\n",
       "      <td>0</td>\n",
       "      <td>0</td>\n",
       "      <td>NaN</td>\n",
       "      <td>NaN</td>\n",
       "      <td>NaN</td>\n",
       "      <td>0</td>\n",
       "      <td>3</td>\n",
       "      <td>2010</td>\n",
       "      <td>WD</td>\n",
       "      <td>130500</td>\n",
       "    </tr>\n",
       "    <tr>\n",
       "      <th>1</th>\n",
       "      <td>544</td>\n",
       "      <td>531379050</td>\n",
       "      <td>60</td>\n",
       "      <td>RL</td>\n",
       "      <td>43.0</td>\n",
       "      <td>11492</td>\n",
       "      <td>Pave</td>\n",
       "      <td>NaN</td>\n",
       "      <td>IR1</td>\n",
       "      <td>Lvl</td>\n",
       "      <td>...</td>\n",
       "      <td>0</td>\n",
       "      <td>0</td>\n",
       "      <td>NaN</td>\n",
       "      <td>NaN</td>\n",
       "      <td>NaN</td>\n",
       "      <td>0</td>\n",
       "      <td>4</td>\n",
       "      <td>2009</td>\n",
       "      <td>WD</td>\n",
       "      <td>220000</td>\n",
       "    </tr>\n",
       "    <tr>\n",
       "      <th>2</th>\n",
       "      <td>153</td>\n",
       "      <td>535304180</td>\n",
       "      <td>20</td>\n",
       "      <td>RL</td>\n",
       "      <td>68.0</td>\n",
       "      <td>7922</td>\n",
       "      <td>Pave</td>\n",
       "      <td>NaN</td>\n",
       "      <td>Reg</td>\n",
       "      <td>Lvl</td>\n",
       "      <td>...</td>\n",
       "      <td>0</td>\n",
       "      <td>0</td>\n",
       "      <td>NaN</td>\n",
       "      <td>NaN</td>\n",
       "      <td>NaN</td>\n",
       "      <td>0</td>\n",
       "      <td>1</td>\n",
       "      <td>2010</td>\n",
       "      <td>WD</td>\n",
       "      <td>109000</td>\n",
       "    </tr>\n",
       "    <tr>\n",
       "      <th>3</th>\n",
       "      <td>318</td>\n",
       "      <td>916386060</td>\n",
       "      <td>60</td>\n",
       "      <td>RL</td>\n",
       "      <td>73.0</td>\n",
       "      <td>9802</td>\n",
       "      <td>Pave</td>\n",
       "      <td>NaN</td>\n",
       "      <td>Reg</td>\n",
       "      <td>Lvl</td>\n",
       "      <td>...</td>\n",
       "      <td>0</td>\n",
       "      <td>0</td>\n",
       "      <td>NaN</td>\n",
       "      <td>NaN</td>\n",
       "      <td>NaN</td>\n",
       "      <td>0</td>\n",
       "      <td>4</td>\n",
       "      <td>2010</td>\n",
       "      <td>WD</td>\n",
       "      <td>174000</td>\n",
       "    </tr>\n",
       "    <tr>\n",
       "      <th>4</th>\n",
       "      <td>255</td>\n",
       "      <td>906425045</td>\n",
       "      <td>50</td>\n",
       "      <td>RL</td>\n",
       "      <td>82.0</td>\n",
       "      <td>14235</td>\n",
       "      <td>Pave</td>\n",
       "      <td>NaN</td>\n",
       "      <td>IR1</td>\n",
       "      <td>Lvl</td>\n",
       "      <td>...</td>\n",
       "      <td>0</td>\n",
       "      <td>0</td>\n",
       "      <td>NaN</td>\n",
       "      <td>NaN</td>\n",
       "      <td>NaN</td>\n",
       "      <td>0</td>\n",
       "      <td>3</td>\n",
       "      <td>2010</td>\n",
       "      <td>WD</td>\n",
       "      <td>138500</td>\n",
       "    </tr>\n",
       "  </tbody>\n",
       "</table>\n",
       "<p>5 rows × 81 columns</p>\n",
       "</div>"
      ],
      "text/plain": [
       "    Id        PID  MS SubClass MS Zoning  Lot Frontage  Lot Area Street Alley  \\\n",
       "0  109  533352170           60        RL           NaN     13517   Pave   NaN   \n",
       "1  544  531379050           60        RL          43.0     11492   Pave   NaN   \n",
       "2  153  535304180           20        RL          68.0      7922   Pave   NaN   \n",
       "3  318  916386060           60        RL          73.0      9802   Pave   NaN   \n",
       "4  255  906425045           50        RL          82.0     14235   Pave   NaN   \n",
       "\n",
       "  Lot Shape Land Contour  ... Screen Porch Pool Area Pool QC Fence  \\\n",
       "0       IR1          Lvl  ...            0         0     NaN   NaN   \n",
       "1       IR1          Lvl  ...            0         0     NaN   NaN   \n",
       "2       Reg          Lvl  ...            0         0     NaN   NaN   \n",
       "3       Reg          Lvl  ...            0         0     NaN   NaN   \n",
       "4       IR1          Lvl  ...            0         0     NaN   NaN   \n",
       "\n",
       "  Misc Feature Misc Val Mo Sold Yr Sold  Sale Type  SalePrice  \n",
       "0          NaN        0       3    2010        WD      130500  \n",
       "1          NaN        0       4    2009        WD      220000  \n",
       "2          NaN        0       1    2010        WD      109000  \n",
       "3          NaN        0       4    2010        WD      174000  \n",
       "4          NaN        0       3    2010        WD      138500  \n",
       "\n",
       "[5 rows x 81 columns]"
      ]
     },
     "execution_count": 2,
     "metadata": {},
     "output_type": "execute_result"
    }
   ],
   "source": [
    "test_data = \"./datasets/test.csv\"\n",
    "train_data = \"./datasets/train.csv\"\n",
    "test = pd.read_csv(test_data)\n",
    "train = pd.read_csv(train_data)\n",
    "\n",
    "df = train #This can be changed to test to run the test data\n",
    "df.head()"
   ]
  },
  {
   "cell_type": "markdown",
   "metadata": {},
   "source": [
    "**Correct Data Types**"
   ]
  },
  {
   "cell_type": "markdown",
   "metadata": {},
   "source": [
    "Due to the size of the data frame. The datatypes are analyzed 15 at a time."
   ]
  },
  {
   "cell_type": "code",
   "execution_count": 3,
   "metadata": {},
   "outputs": [
    {
     "data": {
      "text/plain": [
       "2nd Flr SF           int64\n",
       "Low Qual Fin SF      int64\n",
       "Gr Liv Area          int64\n",
       "Bsmt Full Bath     float64\n",
       "Bsmt Half Bath     float64\n",
       "Full Bath            int64\n",
       "Half Bath            int64\n",
       "Bedroom AbvGr        int64\n",
       "Kitchen AbvGr        int64\n",
       "Kitchen Qual        object\n",
       "TotRms AbvGrd        int64\n",
       "Functional          object\n",
       "Fireplaces           int64\n",
       "Fireplace Qu        object\n",
       "Garage Type         object\n",
       "Garage Yr Blt      float64\n",
       "Garage Finish       object\n",
       "Garage Cars        float64\n",
       "Garage Area        float64\n",
       "Garage Qual         object\n",
       "Garage Cond         object\n",
       "Paved Drive         object\n",
       "Wood Deck SF         int64\n",
       "Open Porch SF        int64\n",
       "Enclosed Porch       int64\n",
       "3Ssn Porch           int64\n",
       "Screen Porch         int64\n",
       "Pool Area            int64\n",
       "Pool QC             object\n",
       "Fence               object\n",
       "dtype: object"
      ]
     },
     "execution_count": 3,
     "metadata": {},
     "output_type": "execute_result"
    }
   ],
   "source": [
    "columns = df.columns\n",
    "\n",
    "df[columns[45:75]].dtypes"
   ]
  },
  {
   "cell_type": "code",
   "execution_count": 4,
   "metadata": {},
   "outputs": [
    {
     "data": {
      "text/plain": [
       "(2051, 81)"
      ]
     },
     "execution_count": 4,
     "metadata": {},
     "output_type": "execute_result"
    }
   ],
   "source": [
    "df.shape"
   ]
  },
  {
   "cell_type": "markdown",
   "metadata": {},
   "source": [
    "Data Types needed to be changed\n",
    "- Year Built - convert to home age column \n",
    "- Year Remod/Add -convert to age\n",
    "- Garage Yr Blt - convert to age"
   ]
  },
  {
   "cell_type": "markdown",
   "metadata": {},
   "source": [
    "**Handle Null/Missing Values**"
   ]
  },
  {
   "cell_type": "markdown",
   "metadata": {},
   "source": [
    "There are 18 columns with missing values. A few of these columns will be dropped, but the missing values for the ordinal data columns will be replaced with zeroes because the absence of a feature will be ranked as 0."
   ]
  },
  {
   "cell_type": "code",
   "execution_count": 5,
   "metadata": {},
   "outputs": [
    {
     "data": {
      "image/png": "[encoded data removed]",
      "text/plain": [
       "<Figure size 360x720 with 1 Axes>"
      ]
     },
     "metadata": {
      "needs_background": "light"
     },
     "output_type": "display_data"
    }
   ],
   "source": [
    "#All columns with missing values are plotted.\n",
    "missing_values = df[columns].isnull().sum().sort_values()[:-20:-1]\n",
    "plt.figure(figsize = (5,10))\n",
    "plt.title(\"Missing Values\")\n",
    "missing_values.plot(kind = 'barh');"
   ]
  },
  {
   "cell_type": "markdown",
   "metadata": {},
   "source": [
    "**Drop Columns**\n",
    "\n",
    "Fireplace Qu column column will have its null values assigned the value of zero instead of dropped. This is done in the ordinal data section."
   ]
  },
  {
   "cell_type": "code",
   "execution_count": 6,
   "metadata": {},
   "outputs": [
    {
     "data": {
      "text/plain": [
       "(2051, 74)"
      ]
     },
     "execution_count": 6,
     "metadata": {},
     "output_type": "execute_result"
    }
   ],
   "source": [
    "df = df.drop(columns = ['Id', 'PID','Misc Feature', 'Alley', 'Yr Sold', 'Sale Type','Lot Frontage'])\n",
    "\n",
    "df.shape"
   ]
  },
  {
   "cell_type": "markdown",
   "metadata": {},
   "source": [
    "**Assign Hierarchy Values to Ordinal Data**"
   ]
  },
  {
   "cell_type": "markdown",
   "metadata": {},
   "source": [
    "\n",
    "**Ordinal Columns**\n",
    "1. Utilities \n",
    "2. Land Slope \n",
    "3. Overall Qual \n",
    "4. Overall Cond \n",
    "5. Exter Qual\n",
    "6. Exter Cond\n",
    "7. Bsmt Cond\n",
    "8. Bsmt Qual\n",
    "9. Bsmt Exposure\n",
    "10. BsmtFin Type 1\n",
    "11. BsmtFin Type 2\n",
    "12. Heating QC\n",
    "13. Electrical\n",
    "14. Kitchen Qual\n",
    "15. FireplaceQu\n",
    "16. Garage Finish\n",
    "17. Garage Qual\n",
    "18. Garage Cond\n",
    "19. Paved Drive\n",
    "20. Pool QC\n",
    "21. Fence"
   ]
  },
  {
   "cell_type": "markdown",
   "metadata": {},
   "source": [
    "*Ordinize* function converts ordinal text data to numeric hierarchy."
   ]
  },
  {
   "cell_type": "code",
   "execution_count": 7,
   "metadata": {},
   "outputs": [
    {
     "data": {
      "text/plain": [
       "'No Errors'"
      ]
     },
     "execution_count": 7,
     "metadata": {},
     "output_type": "execute_result"
    }
   ],
   "source": [
    "\n",
    "def ordinize(df):\n",
    "\n",
    "    df['Utilities'] = df['Utilities'].map({'AllPub': 3,\n",
    "                                            'NoSeWa' : 2,\n",
    "                                           'NoSewr': 1})\n",
    "\n",
    "    df['Land Slope'] = df['Land Slope'].map({'Gtl': 3,\n",
    "                                            'Mod' : 2,\n",
    "                                           'Sev': 1})\n",
    "\n",
    "    df['Exter Qual'] = df['Exter Qual'].map({'Ex': 5,\n",
    "                                            'Gd' : 4,\n",
    "                                           'TA': 3,\n",
    "                                              'Fa': 2,\n",
    "                                              'Po': 1})\n",
    "    \n",
    "    \n",
    "    df['Lot Shape'] = df['Lot Shape'].map({'Reg': 3,\n",
    "                                            'IR1' : 2,\n",
    "                                           'IR2': 1,\n",
    "                                              'IR3': 0})\n",
    "\n",
    "\n",
    "    df['Exter Cond'] = df['Exter Cond'].map({'Ex': 5,\n",
    "                                            'Gd' : 4,\n",
    "                                           'TA': 3,\n",
    "                                              'Fa': 2,\n",
    "                                              'Po': 1})\n",
    "\n",
    "    df['Bsmt Cond'] = df['Bsmt Cond'].map({'Ex': 5,\n",
    "                                            'Gd' : 4,\n",
    "                                           'TA': 3,\n",
    "                                              'Fa': 2,\n",
    "                                              'Po': 1,\n",
    "                                          np.nan : 0})\n",
    "    \n",
    "    df['Bsmt Qual'] = df['Bsmt Qual'].map({'Ex': 5,\n",
    "                                            'Gd' : 4,\n",
    "                                           'TA': 3,\n",
    "                                              'Fa': 2,\n",
    "                                              'Po': 1,\n",
    "                                          np.nan : 0})\n",
    "\n",
    "    train['Bsmt Exposure'] = train['Bsmt Exposure'].map({'Gd': 5,\n",
    "                                            'Av' : 4,\n",
    "                                           'Mn': 3,\n",
    "                                              'No': 2}) \n",
    "\n",
    "\n",
    "    df['BsmtFin Type 1'] = df['BsmtFin Type 1'].map({'GLQ': 6,\n",
    "                                            'ALQ' : 5,\n",
    "                                            'BLQ': 4,\n",
    "                                            'Rec': 3,\n",
    "                                            'LwQ': 2,\n",
    "                                            'Unf':1,}) \n",
    "\n",
    "\n",
    "    df['BsmtFin Type 2'] = df['BsmtFin Type 2'].map({'GLQ': 6,\n",
    "                                            'ALQ' : 5,\n",
    "                                            'BLQ': 4,\n",
    "                                            'Rec': 3,\n",
    "                                            'LwQ': 2,\n",
    "                                            'Unf':1,}) \n",
    "\n",
    "    df['Heating QC'] = df['Heating QC'].map({'Ex': 5,\n",
    "                                                'Gd' : 4,\n",
    "                                               'TA': 3,\n",
    "                                                  'Fa': 2,\n",
    "                                                  'Po': 1})\n",
    "\n",
    "    df['Electrical'] = df['Electrical'].map({'SBrkr': 5,\n",
    "                                                'FuseA' : 4,\n",
    "                                               'FuseF': 3,\n",
    "                                                  'FuseP': 2,\n",
    "                                                  'Mix': 1})\n",
    "\n",
    "    df['Kitchen Qual'] = df['Kitchen Qual'].map({'Ex': 5,\n",
    "                                                'Gd' : 4,\n",
    "                                               'TA': 3,\n",
    "                                                  'Fa': 2,\n",
    "                                                  'Po': 1})\n",
    "\n",
    "    df['Fireplace Qu'] = df['Fireplace Qu'].map({'Ex': 5, \n",
    "                                                'Gd' : 4,\n",
    "                                               'TA': 3,\n",
    "                                                  'Fa': 2,\n",
    "                                                  'Po': 1})\n",
    "\n",
    "    df['Garage Qual'] = df['Garage Qual'].map({'Ex': 5,  \n",
    "                                                'Gd' : 4,\n",
    "                                               'TA': 3,\n",
    "                                                  'Fa': 2,\n",
    "                                                  'Po': 1})\n",
    "\n",
    "    df['Garage Cond'] = df['Garage Cond'].map({'Ex': 5,  \n",
    "                                                'Gd' : 4,\n",
    "                                               'TA': 3,\n",
    "                                                  'Fa': 2,\n",
    "                                                  'Po': 1})\n",
    "    \n",
    "    df['Garage Finish'] = df['Garage Finish'].map({'Fin': 5,  \n",
    "                                                'RFn' : 3,\n",
    "                                               'Unf': 1,\n",
    "                                                  np.nan: 0})\n",
    "\n",
    "\n",
    "    df['Paved Drive'] = df['Paved Drive'].map({'Y': 3,\n",
    "                                                'P' : 2,\n",
    "                                               'N': 1})\n",
    "\n",
    "\n",
    "    df['Pool QC'] = df['Pool QC'].map({'Ex': 10,  \n",
    "                                                'Gd' : 8,\n",
    "                                               'TA': 5,\n",
    "                                                  'Fa': 4})\n",
    "\n",
    "    df['Fence'] = df['Fence'].map({'GdPrv': 10,  \n",
    "                                                'MnPrv' : 8,\n",
    "                                               'GdWo': 5,\n",
    "                                                  'MnWw': 4})\n",
    "    \n",
    "    return \"No Errors\"\n",
    "    \n",
    "\n",
    "\n",
    "\n",
    "\n",
    "ordinize(df)"
   ]
  },
  {
   "cell_type": "markdown",
   "metadata": {},
   "source": [
    "This fills in the null values of the ordinal columns with 0. The null values in the ordinal columns indicate an absence of that feature."
   ]
  },
  {
   "cell_type": "code",
   "execution_count": 8,
   "metadata": {},
   "outputs": [],
   "source": [
    "ordinal_columns = ['Fence','Pool QC', 'Garage Cond', 'Garage Qual', 'Fireplace Qu', 'BsmtFin Type 1','BsmtFin Type 2','Bsmt Exposure']\n",
    "\n",
    "df.loc[:, ordinal_columns ] = df.loc[:, ordinal_columns].fillna(0)"
   ]
  },
  {
   "cell_type": "markdown",
   "metadata": {},
   "source": [
    "Replace the null values in Garage Type to the category 'No Garage'. This will be one hot encoded with the other nominal data columns later."
   ]
  },
  {
   "cell_type": "code",
   "execution_count": 9,
   "metadata": {},
   "outputs": [],
   "source": [
    "df['Garage Type'] = df['Garage Type'].replace(np.nan,'No Garage')"
   ]
  },
  {
   "cell_type": "code",
   "execution_count": 10,
   "metadata": {},
   "outputs": [
    {
     "data": {
      "text/plain": [
       "0       1976.0\n",
       "1       1997.0\n",
       "2       1953.0\n",
       "3       2007.0\n",
       "4       1957.0\n",
       "         ...  \n",
       "2046    2007.0\n",
       "2047    1961.0\n",
       "2048    1929.0\n",
       "2049    1956.0\n",
       "2050    1999.0\n",
       "Name: Garage Yr Blt, Length: 2051, dtype: float64"
      ]
     },
     "execution_count": 10,
     "metadata": {},
     "output_type": "execute_result"
    }
   ],
   "source": [
    "df['Garage Yr Blt']"
   ]
  },
  {
   "cell_type": "markdown",
   "metadata": {},
   "source": [
    "There were over 100 null values for the garage yr built existing because these are houses that do not have a garage. To avoid dropping large amounts of data, the null values are replaced with the year the house was built. This column was not simply dropped because it is ranked 10th best in correlation with Sale_Price. Replacing null values with the year the house was built was a fair compromise."
   ]
  },
  {
   "cell_type": "code",
   "execution_count": 11,
   "metadata": {},
   "outputs": [
    {
     "data": {
      "text/plain": [
       "1699    2207.0\n",
       "1241    2010.0\n",
       "144     2010.0\n",
       "625     2009.0\n",
       "1671    2009.0\n",
       "         ...  \n",
       "1793    1895.0\n",
       "457     1895.0\n",
       "1204    1890.0\n",
       "136     1875.0\n",
       "951     1872.0\n",
       "Name: Garage Yr Blt, Length: 2051, dtype: float64"
      ]
     },
     "execution_count": 11,
     "metadata": {},
     "output_type": "execute_result"
    }
   ],
   "source": [
    "#gyb is garage year built, hyb is house year built\n",
    "#because np.nan != np.nan, we will fill the nan values with something else first\n",
    "\n",
    "df['Garage Yr Blt'] = df['Garage Yr Blt'].fillna('filler')\n",
    "df['Garage Yr Blt'] = [hyb if gyb == 'filler' else gyb for gyb, hyb in zip(df['Garage Yr Blt'], df['Year Built'])]\n",
    "\n",
    "df['Garage Yr Blt'].sort_values(ascending = False)"
   ]
  },
  {
   "cell_type": "code",
   "execution_count": 12,
   "metadata": {},
   "outputs": [
    {
     "data": {
      "text/plain": [
       "951     1872.0\n",
       "136     1875.0\n",
       "1204    1890.0\n",
       "457     1895.0\n",
       "1793    1895.0\n",
       "         ...  \n",
       "637     2009.0\n",
       "81      2009.0\n",
       "963     2009.0\n",
       "1241    2010.0\n",
       "144     2010.0\n",
       "Name: Garage Yr Blt, Length: 2051, dtype: float64"
      ]
     },
     "execution_count": 12,
     "metadata": {},
     "output_type": "execute_result"
    }
   ],
   "source": [
    "#fix typo in data\n",
    "df['Garage Yr Blt'] = df['Garage Yr Blt'].replace(2207.0 , 2007.0)\n",
    "\n",
    "df['Garage Yr Blt'].sort_values()"
   ]
  },
  {
   "cell_type": "markdown",
   "metadata": {},
   "source": [
    "Convert years of home,remodel, and garage to age columns."
   ]
  },
  {
   "cell_type": "code",
   "execution_count": 13,
   "metadata": {},
   "outputs": [
    {
     "data": {
      "text/plain": [
       "Index(['MS SubClass', 'MS Zoning', 'Lot Area', 'Street', 'Lot Shape',\n",
       "       'Land Contour', 'Utilities', 'Lot Config', 'Land Slope', 'Neighborhood',\n",
       "       'Condition 1', 'Condition 2', 'Bldg Type', 'House Style',\n",
       "       'Overall Qual', 'Overall Cond', 'Roof Style', 'Roof Matl',\n",
       "       'Exterior 1st', 'Exterior 2nd', 'Mas Vnr Type', 'Mas Vnr Area',\n",
       "       'Exter Qual', 'Exter Cond', 'Foundation', 'Bsmt Qual', 'Bsmt Cond',\n",
       "       'Bsmt Exposure', 'BsmtFin Type 1', 'BsmtFin SF 1', 'BsmtFin Type 2',\n",
       "       'BsmtFin SF 2', 'Bsmt Unf SF', 'Total Bsmt SF', 'Heating', 'Heating QC',\n",
       "       'Central Air', 'Electrical', '1st Flr SF', '2nd Flr SF',\n",
       "       'Low Qual Fin SF', 'Gr Liv Area', 'Bsmt Full Bath', 'Bsmt Half Bath',\n",
       "       'Full Bath', 'Half Bath', 'Bedroom AbvGr', 'Kitchen AbvGr',\n",
       "       'Kitchen Qual', 'TotRms AbvGrd', 'Functional', 'Fireplaces',\n",
       "       'Fireplace Qu', 'Garage Type', 'Garage Finish', 'Garage Cars',\n",
       "       'Garage Area', 'Garage Qual', 'Garage Cond', 'Paved Drive',\n",
       "       'Wood Deck SF', 'Open Porch SF', 'Enclosed Porch', '3Ssn Porch',\n",
       "       'Screen Porch', 'Pool Area', 'Pool QC', 'Fence', 'Misc Val', 'Mo Sold',\n",
       "       'SalePrice', 'age_of_home', 'age_of_garage', 'age_of_remodel'],\n",
       "      dtype='object')"
      ]
     },
     "execution_count": 13,
     "metadata": {},
     "output_type": "execute_result"
    }
   ],
   "source": [
    "df['age_of_home'] = 2021 - df['Year Built']\n",
    "df['age_of_garage'] = 2021 - df['Garage Yr Blt']\n",
    "df['age_of_remodel'] = 2021 - df['Year Remod/Add']\n",
    "df = df.drop(columns = ['Year Built','Garage Yr Blt','Year Remod/Add'])\n",
    "df.columns"
   ]
  },
  {
   "cell_type": "code",
   "execution_count": 14,
   "metadata": {},
   "outputs": [
    {
     "data": {
      "text/plain": [
       "Mas Vnr Type      22\n",
       "Mas Vnr Area      22\n",
       "Bsmt Full Bath     2\n",
       "Bsmt Half Bath     2\n",
       "Total Bsmt SF      1\n",
       "Bsmt Unf SF        1\n",
       "BsmtFin SF 2       1\n",
       "Garage Cars        1\n",
       "BsmtFin SF 1       1\n",
       "Garage Area        1\n",
       "Exter Cond         0\n",
       "Exter Qual         0\n",
       "Bsmt Cond          0\n",
       "Foundation         0\n",
       "Bsmt Qual          0\n",
       "Exterior 1st       0\n",
       "Bsmt Exposure      0\n",
       "BsmtFin Type 1     0\n",
       "BsmtFin Type 2     0\n",
       "dtype: int64"
      ]
     },
     "execution_count": 14,
     "metadata": {},
     "output_type": "execute_result"
    }
   ],
   "source": [
    "#checking the progress of handling null values\n",
    "columns = df.columns #red\n",
    "df[columns].isnull().sum().sort_values(ascending = True)[:-20:-1]"
   ]
  },
  {
   "cell_type": "markdown",
   "metadata": {},
   "source": [
    "Enough of the missing values have been salvaged that the 25 rows with missing values will be dropped. This is roughly 1.2% of the data which is neglible."
   ]
  },
  {
   "cell_type": "code",
   "execution_count": 15,
   "metadata": {},
   "outputs": [
    {
     "data": {
      "text/plain": [
       "(2026, 74)"
      ]
     },
     "execution_count": 15,
     "metadata": {},
     "output_type": "execute_result"
    }
   ],
   "source": [
    "df = df.dropna()\n",
    "df.shape"
   ]
  },
  {
   "cell_type": "markdown",
   "metadata": {},
   "source": [
    "Null Values have been removed."
   ]
  },
  {
   "cell_type": "code",
   "execution_count": 16,
   "metadata": {},
   "outputs": [
    {
     "data": {
      "text/plain": [
       "age_of_remodel    0\n",
       "Exterior 1st      0\n",
       "Mas Vnr Type      0\n",
       "Mas Vnr Area      0\n",
       "Exter Qual        0\n",
       "Exter Cond        0\n",
       "Foundation        0\n",
       "Bsmt Qual         0\n",
       "Bsmt Cond         0\n",
       "Bsmt Exposure     0\n",
       "BsmtFin Type 1    0\n",
       "BsmtFin SF 1      0\n",
       "BsmtFin Type 2    0\n",
       "BsmtFin SF 2      0\n",
       "Bsmt Unf SF       0\n",
       "Total Bsmt SF     0\n",
       "Heating           0\n",
       "Exterior 2nd      0\n",
       "Roof Matl         0\n",
       "dtype: int64"
      ]
     },
     "execution_count": 16,
     "metadata": {},
     "output_type": "execute_result"
    }
   ],
   "source": [
    "columns = df.columns #red\n",
    "df[columns].isnull().sum().sort_values()[:-20:-1]"
   ]
  },
  {
   "cell_type": "markdown",
   "metadata": {},
   "source": [
    "**One Hot Encode Nominal Data**"
   ]
  },
  {
   "cell_type": "markdown",
   "metadata": {},
   "source": [
    "**Nominal Columns**\n",
    "1. PID - Dropped\n",
    "2. MS Subclass \n",
    "3. MS Zoning \n",
    "4. Street \n",
    "5. Land contour\n",
    "6. Lot Config\n",
    "7. Neighborhood\n",
    "8. Condition 1\n",
    "9. Condition 2\n",
    "10. Bldg Type\n",
    "11. House Style\n",
    "12. Roof Style\n",
    "13. Roof Matl\n",
    "14. Exterior 1st\n",
    "15. Exterior 2nd\n",
    "16. Mas Vnr Type\n",
    "17. Mas Vnr Area\n",
    "18. Foundation\n",
    "19. Heating\n",
    "20. Central Air\n",
    "21. Garage Type"
   ]
  },
  {
   "cell_type": "code",
   "execution_count": 17,
   "metadata": {},
   "outputs": [
    {
     "data": {
      "text/plain": [
       "Index(['MS SubClass', 'MS Zoning', 'Lot Area', 'Street', 'Lot Shape',\n",
       "       'Land Contour', 'Utilities', 'Lot Config', 'Land Slope', 'Neighborhood',\n",
       "       'Condition 1', 'Condition 2', 'Bldg Type', 'House Style',\n",
       "       'Overall Qual', 'Overall Cond', 'Roof Style', 'Roof Matl',\n",
       "       'Exterior 1st', 'Exterior 2nd', 'Mas Vnr Type', 'Mas Vnr Area',\n",
       "       'Exter Qual', 'Exter Cond', 'Foundation', 'Bsmt Qual', 'Bsmt Cond',\n",
       "       'Bsmt Exposure', 'BsmtFin Type 1', 'BsmtFin SF 1', 'BsmtFin Type 2',\n",
       "       'BsmtFin SF 2', 'Bsmt Unf SF', 'Total Bsmt SF', 'Heating', 'Heating QC',\n",
       "       'Central Air', 'Electrical', '1st Flr SF', '2nd Flr SF',\n",
       "       'Low Qual Fin SF', 'Gr Liv Area', 'Bsmt Full Bath', 'Bsmt Half Bath',\n",
       "       'Full Bath', 'Half Bath', 'Bedroom AbvGr', 'Kitchen AbvGr',\n",
       "       'Kitchen Qual', 'TotRms AbvGrd', 'Functional', 'Fireplaces',\n",
       "       'Fireplace Qu', 'Garage Type', 'Garage Finish', 'Garage Cars',\n",
       "       'Garage Area', 'Garage Qual', 'Garage Cond', 'Paved Drive',\n",
       "       'Wood Deck SF', 'Open Porch SF', 'Enclosed Porch', '3Ssn Porch',\n",
       "       'Screen Porch', 'Pool Area', 'Pool QC', 'Fence', 'Misc Val', 'Mo Sold',\n",
       "       'SalePrice', 'age_of_home', 'age_of_garage', 'age_of_remodel'],\n",
       "      dtype='object')"
      ]
     },
     "execution_count": 17,
     "metadata": {},
     "output_type": "execute_result"
    }
   ],
   "source": [
    "df.columns"
   ]
  },
  {
   "cell_type": "markdown",
   "metadata": {},
   "source": [
    "The following columns will not be dummified to avoid inserting to many noise parameters into the model.\n",
    "\n",
    "- ID\n",
    "- PID\n"
   ]
  },
  {
   "cell_type": "code",
   "execution_count": 18,
   "metadata": {},
   "outputs": [],
   "source": [
    "nominal_columns = ['MS SubClass', 'MS Zoning', 'Street', 'Land Contour','Lot Config','Neighborhood','Condition 1', 'Condition 2','Bldg Type', 'House Style','Roof Style', 'Roof Matl',\n",
    "                  'Exterior 1st', 'Exterior 2nd','Mas Vnr Type', 'Mas Vnr Area','Foundation','Heating','Central Air', 'Garage Type','Functional','Bsmt Exposure']"
   ]
  },
  {
   "cell_type": "markdown",
   "metadata": {},
   "source": [
    "The function below one-hot-encodes the categorical columns"
   ]
  },
  {
   "cell_type": "code",
   "execution_count": 19,
   "metadata": {},
   "outputs": [
    {
     "data": {
      "text/plain": [
       "(2026, 574)"
      ]
     },
     "execution_count": 19,
     "metadata": {},
     "output_type": "execute_result"
    }
   ],
   "source": [
    "def thats_one_hot_encoder(df, nc):\n",
    "    \n",
    "    df = pd.get_dummies(data = df, columns = nc, drop_first = True)\n",
    "    return df\n",
    "\n",
    "df = thats_one_hot_encoder(df, nominal_columns)\n",
    "\n",
    "df.shape"
   ]
  },
  {
   "cell_type": "markdown",
   "metadata": {},
   "source": [
    "This is a very high column:row ratio. Additional Columns may be dropped if there is excessive variance."
   ]
  },
  {
   "cell_type": "markdown",
   "metadata": {},
   "source": [
    "**Filter Discrete and Continuous Data Types**"
   ]
  },
  {
   "cell_type": "markdown",
   "metadata": {},
   "source": [
    "*Create a function to remove outliers"
   ]
  },
  {
   "cell_type": "code",
   "execution_count": 21,
   "metadata": {},
   "outputs": [
    {
     "data": {
      "text/plain": [
       "574"
      ]
     },
     "execution_count": 21,
     "metadata": {},
     "output_type": "execute_result"
    }
   ],
   "source": [
    "len(df._get_numeric_data().columns)"
   ]
  },
  {
   "cell_type": "code",
   "execution_count": 22,
   "metadata": {},
   "outputs": [],
   "source": [
    "# df.select_dtypes(exclude=['int64','float64','uint8'])\n",
    "#This was used to find columns that were not one hot encoded/numeric"
   ]
  },
  {
   "cell_type": "markdown",
   "metadata": {},
   "source": [
    "## Part 2: Exploratory Data Analysis"
   ]
  },
  {
   "cell_type": "code",
   "execution_count": 23,
   "metadata": {},
   "outputs": [
    {
     "data": {
      "text/plain": [
       "(array([ 42., 523., 812., 340., 164.,  77.,  40.,  15.,   6.,   7.]),\n",
       " array([ 12789. ,  72675.8, 132562.6, 192449.4, 252336.2, 312223. ,\n",
       "        372109.8, 431996.6, 491883.4, 551770.2, 611657. ]),\n",
       " <BarContainer object of 10 artists>)"
      ]
     },
     "execution_count": 23,
     "metadata": {},
     "output_type": "execute_result"
    },
    {
     "data": {
      "image/png": "[encoded data removed]",
      "text/plain": [
       "<Figure size 432x288 with 1 Axes>"
      ]
     },
     "metadata": {
      "needs_background": "light"
     },
     "output_type": "display_data"
    }
   ],
   "source": [
    "#the right skew will be converted to a more normal distribution using a log transformation\n",
    "plt.hist(df['SalePrice'])"
   ]
  },
  {
   "cell_type": "code",
   "execution_count": 29,
   "metadata": {},
   "outputs": [
    {
     "data": {
      "text/plain": [
       "(array([  2.,   0.,   6.,  13.,  80., 439., 829., 450., 173.,  34.]),\n",
       " array([ 9.45634071,  9.84309933, 10.22985795, 10.61661658, 11.0033752 ,\n",
       "        11.39013383, 11.77689245, 12.16365107, 12.5504097 , 12.93716832,\n",
       "        13.32392695]),\n",
       " <BarContainer object of 10 artists>)"
      ]
     },
     "execution_count": 29,
     "metadata": {},
     "output_type": "execute_result"
    },
    {
     "data": {
      "image/png": "[encoded data removed]",
      "text/plain": [
       "<Figure size 432x288 with 1 Axes>"
      ]
     },
     "metadata": {
      "needs_background": "light"
     },
     "output_type": "display_data"
    }
   ],
   "source": [
    "plt.hist(np.log(df['SalePrice']))"
   ]
  },
  {
   "cell_type": "code",
   "execution_count": 67,
   "metadata": {},
   "outputs": [
    {
     "data": {
      "image/png": "[encoded data removed]",
      "text/plain": [
       "<Figure size 432x288 with 1 Axes>"
      ]
     },
     "metadata": {
      "needs_background": "light"
     },
     "output_type": "display_data"
    }
   ],
   "source": [
    "#all sale price outliers are in the upper quartile\n",
    "plt.boxplot(train['SalePrice']);"
   ]
  },
  {
   "cell_type": "code",
   "execution_count": 35,
   "metadata": {},
   "outputs": [
    {
     "data": {
      "text/plain": [
       "Index(['SalePrice', 'Overall Qual', 'Exter Qual', 'Gr Liv Area',\n",
       "       'Kitchen Qual', 'Garage Area', 'Garage Cars', 'Total Bsmt SF',\n",
       "       '1st Flr SF', 'Bsmt Qual'],\n",
       "      dtype='object')"
      ]
     },
     "execution_count": 35,
     "metadata": {},
     "output_type": "execute_result"
    }
   ],
   "source": []
  },
  {
   "cell_type": "code",
   "execution_count": 30,
   "metadata": {},
   "outputs": [
    {
     "data": {
      "image/png": "[encoded data removed]",
      "text/plain": [
       "<Figure size 288x576 with 2 Axes>"
      ]
     },
     "metadata": {
      "needs_background": "light"
     },
     "output_type": "display_data"
    }
   ],
   "source": [
    "#The features most highly correlated with price\n",
    "corr = df.corr()\n",
    "plt.figure(figsize = (4,8))\n",
    "sns.heatmap(corr[['SalePrice']].sort_values(by = \"SalePrice\", ascending=False)[:10], cmap = 'coolwarm',\n",
    "            annot = True, vmin = -1, vmax = 1, linewidth = 0.1, linecolor = 'w');"
   ]
  },
  {
   "cell_type": "code",
   "execution_count": null,
   "metadata": {},
   "outputs": [],
   "source": []
  },
  {
   "cell_type": "code",
   "execution_count": 31,
   "metadata": {},
   "outputs": [
    {
     "data": {
      "image/png": "[encoded data removed]",
      "text/plain": [
       "<Figure size 288x576 with 2 Axes>"
      ]
     },
     "metadata": {
      "needs_background": "light"
     },
     "output_type": "display_data"
    }
   ],
   "source": [
    "#The features most inversely correlated with price\n",
    "corr = df.corr()\n",
    "plt.figure(figsize = (4,8))\n",
    "sns.heatmap(corr[['SalePrice']].sort_values(by = \"SalePrice\", ascending=True)[:10], cmap = 'coolwarm',\n",
    "            annot = True, vmin = -1, vmax = 1, linewidth = 0.1, linecolor = 'w');"
   ]
  },
  {
   "cell_type": "code",
   "execution_count": 39,
   "metadata": {},
   "outputs": [
    {
     "data": {
      "text/plain": [
       "Index(['SalePrice', 'Overall Qual', 'Exter Qual', 'Gr Liv Area',\n",
       "       'Kitchen Qual', 'Garage Area', 'Garage Cars', 'Total Bsmt SF',\n",
       "       '1st Flr SF', 'Bsmt Qual'],\n",
       "      dtype='object')"
      ]
     },
     "execution_count": 39,
     "metadata": {},
     "output_type": "execute_result"
    }
   ],
   "source": [
    "corr_cols = corr[['SalePrice']].sort_values(by = \"SalePrice\", ascending=False)[:10].index\n",
    "\n",
    "corr_cols"
   ]
  },
  {
   "cell_type": "markdown",
   "metadata": {},
   "source": [
    "Relationship between the top ten correlated values with sale price."
   ]
  },
  {
   "cell_type": "code",
   "execution_count": 38,
   "metadata": {},
   "outputs": [
    {
     "data": {
      "image/png": "[encoded data removed]",
      "text/plain": [
       "<Figure size 1620x180 with 9 Axes>"
      ]
     },
     "metadata": {
      "needs_background": "light"
     },
     "output_type": "display_data"
    }
   ],
   "source": [
    "#Linear relationships are a good sign for LR model, no need to log transform\n",
    "sns.pairplot(data = df,\n",
    "             y_vars = ['SalePrice'],\n",
    "             x_vars = ['Overall Qual', 'Exter Qual', 'Gr Liv Area',\n",
    "       'Kitchen Qual', 'Garage Area', 'Garage Cars', 'Total Bsmt SF',\n",
    "       '1st Flr SF', 'Bsmt Qual'],\n",
    "            diag_kind = None);"
   ]
  },
  {
   "cell_type": "markdown",
   "metadata": {},
   "source": [
    "Distributions of the top ten most correlated parameters."
   ]
  },
  {
   "cell_type": "code",
   "execution_count": 40,
   "metadata": {},
   "outputs": [
    {
     "data": {
      "image/png": "[encoded data removed]",
      "text/plain": [
       "<Figure size 864x720 with 12 Axes>"
      ]
     },
     "metadata": {
      "needs_background": "light"
     },
     "output_type": "display_data"
    }
   ],
   "source": [
    "#Sale Price, Gr Liv Area, \n",
    "df[corr_cols].hist(figsize = (12,10), grid = False);\n",
    "plt.tight_layout();"
   ]
  },
  {
   "cell_type": "code",
   "execution_count": 41,
   "metadata": {},
   "outputs": [
    {
     "data": {
      "text/plain": [
       "Index(['age_of_home', 'age_of_garage', 'age_of_remodel', 'Mas Vnr Type_None',\n",
       "       'Garage Type_Detchd', 'Foundation_CBlock', 'Lot Shape',\n",
       "       'Bsmt Exposure_No', 'MS Zoning_RM', 'Roof Style_Gable'],\n",
       "      dtype='object')"
      ]
     },
     "execution_count": 41,
     "metadata": {},
     "output_type": "execute_result"
    }
   ],
   "source": [
    "neg_corr_cols = corr[['SalePrice']].sort_values(by = \"SalePrice\", ascending=True)[:10].index\n",
    "\n",
    "neg_corr_cols"
   ]
  },
  {
   "cell_type": "markdown",
   "metadata": {},
   "source": [
    "Distribution of the ten inversely correltated features with sale price."
   ]
  },
  {
   "cell_type": "code",
   "execution_count": 42,
   "metadata": {},
   "outputs": [
    {
     "data": {
      "image/png": "[encoded data removed]",
      "text/plain": [
       "<Figure size 864x720 with 12 Axes>"
      ]
     },
     "metadata": {
      "needs_background": "light"
     },
     "output_type": "display_data"
    }
   ],
   "source": [
    "\n",
    "df[neg_corr_cols].hist(figsize = (12,10), grid = False);\n",
    "plt.tight_layout();"
   ]
  },
  {
   "cell_type": "markdown",
   "metadata": {},
   "source": [
    "## Part 3: First Model"
   ]
  },
  {
   "cell_type": "markdown",
   "metadata": {},
   "source": [
    "Here is the inital model with no polynomial features, scaler, regularization, or grid search."
   ]
  },
  {
   "cell_type": "code",
   "execution_count": 87,
   "metadata": {},
   "outputs": [
    {
     "name": "stdout",
     "output_type": "stream",
     "text": [
      "Train Mean Squared Error      : 175263236.998546\n",
      "Test Mean Squared Error       : 9878364669167612.0\n",
      "Train Root Mean Squared Error : 13238.702239968463\n",
      "Test Root Mean Squared Error  : 99389962.61779965\n",
      "Train R-Squared Score         : 0.9725549620119015\n",
      "Test R-Squared Score          : -1649384.3526829034\n"
     ]
    }
   ],
   "source": [
    " \n",
    "y = df['SalePrice'] #target parameter\n",
    "\n",
    "features = [col for col in df._get_numeric_data().columns if col != 'SalePrice'] #predictor parameters\n",
    "\n",
    "X = df[features]\n",
    "\n",
    "X_train, X_test, y_train, y_test = train_test_split(X,\n",
    "                                                y,\n",
    "                                                test_size = 0.33)\n",
    "\n",
    "lr = LinearRegression()\n",
    "lr.fit(X_train,y_train)\n",
    "\n",
    "train_preds = lr.predict(X_train)\n",
    "test_preds  = lr.predict(X_test)\n",
    "\n",
    "\n",
    "MSE_train = mean_squared_error(y_true = y_train, y_pred = train_preds)\n",
    "MSE_test = mean_squared_error(y_true = y_test, y_pred = test_preds)\n",
    "\n",
    "RMSE_train = mean_squared_error(y_true = y_train, y_pred = train_preds)**0.5\n",
    "RMSE_test = mean_squared_error(y_true = y_test, y_pred = test_preds)**0.5\n",
    "\n",
    "R2_train = lr.score(X_train, y_train)\n",
    "R2_test = lr.score(X_test, y_test)\n",
    "\n",
    "print(f\"Train Mean Squared Error      : {MSE_train}\")\n",
    "print(f\"Test Mean Squared Error       : {MSE_test}\")\n",
    "\n",
    "print(f\"Train Root Mean Squared Error : {RMSE_train}\")\n",
    "print(f\"Test Root Mean Squared Error  : {RMSE_test}\")\n",
    "\n",
    "print(f\"Train R-Squared Score         : {R2_train}\")\n",
    "print(f\"Test R-Squared Score          : {R2_test}\")"
   ]
  },
  {
   "cell_type": "markdown",
   "metadata": {},
   "source": [
    "The large variation from train R^2 to test R^2 is likely due to the excessive amount of columns. The next model attempts to minimize this effect."
   ]
  },
  {
   "cell_type": "code",
   "execution_count": 88,
   "metadata": {},
   "outputs": [
    {
     "data": {
      "text/html": [
       "<div>\n",
       "<style scoped>\n",
       "    .dataframe tbody tr th:only-of-type {\n",
       "        vertical-align: middle;\n",
       "    }\n",
       "\n",
       "    .dataframe tbody tr th {\n",
       "        vertical-align: top;\n",
       "    }\n",
       "\n",
       "    .dataframe thead th {\n",
       "        text-align: right;\n",
       "    }\n",
       "</style>\n",
       "<table border=\"1\" class=\"dataframe\">\n",
       "  <thead>\n",
       "    <tr style=\"text-align: right;\">\n",
       "      <th></th>\n",
       "      <th>column_name</th>\n",
       "      <th>coef</th>\n",
       "    </tr>\n",
       "  </thead>\n",
       "  <tbody>\n",
       "    <tr>\n",
       "      <th>0</th>\n",
       "      <td>Lot Area</td>\n",
       "      <td>8.010452e-01</td>\n",
       "    </tr>\n",
       "    <tr>\n",
       "      <th>1</th>\n",
       "      <td>Lot Shape</td>\n",
       "      <td>2.479424e+03</td>\n",
       "    </tr>\n",
       "    <tr>\n",
       "      <th>2</th>\n",
       "      <td>Utilities</td>\n",
       "      <td>-6.634892e+10</td>\n",
       "    </tr>\n",
       "    <tr>\n",
       "      <th>3</th>\n",
       "      <td>Land Slope</td>\n",
       "      <td>2.098473e+03</td>\n",
       "    </tr>\n",
       "    <tr>\n",
       "      <th>4</th>\n",
       "      <td>Overall Qual</td>\n",
       "      <td>6.460542e+03</td>\n",
       "    </tr>\n",
       "    <tr>\n",
       "      <th>...</th>\n",
       "      <td>...</td>\n",
       "      <td>...</td>\n",
       "    </tr>\n",
       "    <tr>\n",
       "      <th>568</th>\n",
       "      <td>Functional_Typ</td>\n",
       "      <td>2.874348e+04</td>\n",
       "    </tr>\n",
       "    <tr>\n",
       "      <th>569</th>\n",
       "      <td>Bsmt Exposure_Av</td>\n",
       "      <td>-1.126595e+04</td>\n",
       "    </tr>\n",
       "    <tr>\n",
       "      <th>570</th>\n",
       "      <td>Bsmt Exposure_Gd</td>\n",
       "      <td>-3.969103e+02</td>\n",
       "    </tr>\n",
       "    <tr>\n",
       "      <th>571</th>\n",
       "      <td>Bsmt Exposure_Mn</td>\n",
       "      <td>-1.672888e+04</td>\n",
       "    </tr>\n",
       "    <tr>\n",
       "      <th>572</th>\n",
       "      <td>Bsmt Exposure_No</td>\n",
       "      <td>-1.475409e+04</td>\n",
       "    </tr>\n",
       "  </tbody>\n",
       "</table>\n",
       "<p>573 rows × 2 columns</p>\n",
       "</div>"
      ],
      "text/plain": [
       "          column_name          coef\n",
       "0            Lot Area  8.010452e-01\n",
       "1           Lot Shape  2.479424e+03\n",
       "2           Utilities -6.634892e+10\n",
       "3          Land Slope  2.098473e+03\n",
       "4        Overall Qual  6.460542e+03\n",
       "..                ...           ...\n",
       "568    Functional_Typ  2.874348e+04\n",
       "569  Bsmt Exposure_Av -1.126595e+04\n",
       "570  Bsmt Exposure_Gd -3.969103e+02\n",
       "571  Bsmt Exposure_Mn -1.672888e+04\n",
       "572  Bsmt Exposure_No -1.475409e+04\n",
       "\n",
       "[573 rows x 2 columns]"
      ]
     },
     "execution_count": 88,
     "metadata": {},
     "output_type": "execute_result"
    }
   ],
   "source": [
    "coef_df = pd.DataFrame({\n",
    "    'column_name': X.columns,\n",
    "    'coef'       : lr.coef_\n",
    "})\n",
    "\n",
    "coef_df"
   ]
  },
  {
   "cell_type": "code",
   "execution_count": 86,
   "metadata": {},
   "outputs": [
    {
     "data": {
      "text/plain": [
       "(array([  2.,   0.,   4.,   0., 188., 375.,   0.,   1.,   0.,   3.]),\n",
       " array([-2.77233540e+12, -2.21786832e+12, -1.66340124e+12, -1.10893416e+12,\n",
       "        -5.54467080e+11,  2.13110352e+01,  5.54467080e+11,  1.10893416e+12,\n",
       "         1.66340124e+12,  2.21786832e+12,  2.77233540e+12]),\n",
       " <BarContainer object of 10 artists>)"
      ]
     },
     "execution_count": 86,
     "metadata": {},
     "output_type": "execute_result"
    },
    {
     "data": {
      "image/png": "[encoded data removed]",
      "text/plain": [
       "<Figure size 432x288 with 1 Axes>"
      ]
     },
     "metadata": {
      "needs_background": "light"
     },
     "output_type": "display_data"
    }
   ],
   "source": [
    "plt.hist(lr.coef_)"
   ]
  },
  {
   "cell_type": "markdown",
   "metadata": {},
   "source": [
    "## Second Model: Use of Standardscaler and LassoCV"
   ]
  },
  {
   "cell_type": "code",
   "execution_count": 89,
   "metadata": {},
   "outputs": [
    {
     "name": "stdout",
     "output_type": "stream",
     "text": [
      "Train Mean Squared Error      : 235729181.23135352\n",
      "Test Mean Squared Error       : 1302293473.4064898\n",
      "Train Root Mean Squared Error : 15353.47456543155\n",
      "Test Root Mean Squared Error  : 36087.303493146865\n",
      "Train R-Squared Score         : 0.9619048689600235\n",
      "Test R-Squared Score          : 0.7962695103127029\n"
     ]
    }
   ],
   "source": [
    "\n",
    "y = df['SalePrice'] #target parameter\n",
    "\n",
    "features = [col for col in df._get_numeric_data().columns if col != 'SalePrice'] #predictor parameters\n",
    "\n",
    "X = df[features]\n",
    "\n",
    "X_train, X_test, y_train, y_test = train_test_split(X,\n",
    "                                                y,\n",
    "                                                test_size = 0.33)\n",
    "\n",
    "\n",
    "#implement standard scaler to account for number size variation\n",
    "sc = StandardScaler()\n",
    "Z_train = sc.fit_transform(X_train)\n",
    "Z_test = sc.transform(X_test)\n",
    "\n",
    "\n",
    "# List of lasso alphas to test\n",
    "l_alphas = np.logspace(-3, 0, 100)\n",
    "# Cross-validate over our list of Lasso alphas.\n",
    "\n",
    "lasso_cv = LassoCV(alphas = l_alphas,\n",
    "                  cv = 5,\n",
    "                  max_iter = 5000,\n",
    "                  tol = 0.0015\n",
    "                  )\n",
    "\n",
    "#fit model with best alpha\n",
    "lasso_cv.fit(Z_train, y_train)\n",
    "\n",
    "\n",
    "train_preds = lasso_cv.predict(Z_train)\n",
    "test_preds  = lasso_cv.predict(Z_test)\n",
    "\n",
    "\n",
    "MSE_train = mean_squared_error(y_true = y_train, y_pred = train_preds)\n",
    "MSE_test = mean_squared_error(y_true = y_test, y_pred = test_preds)\n",
    "\n",
    "RMSE_train = mean_squared_error(y_true = y_train, y_pred = train_preds)**0.5\n",
    "RMSE_test = mean_squared_error(y_true = y_test, y_pred = test_preds)**0.5\n",
    "\n",
    "R2_train = lasso_cv.score(Z_train, y_train)\n",
    "R2_test = lasso_cv.score(Z_test, y_test)\n",
    "\n",
    "print(f\"Train Mean Squared Error      : {MSE_train}\")\n",
    "print(f\"Test Mean Squared Error       : {MSE_test}\")\n",
    "\n",
    "print(f\"Train Root Mean Squared Error : {RMSE_train}\")\n",
    "print(f\"Test Root Mean Squared Error  : {RMSE_test}\")\n",
    "\n",
    "print(f\"Train R-Squared Score         : {R2_train}\")\n",
    "print(f\"Test R-Squared Score          : {R2_test}\")\n",
    "\n"
   ]
  },
  {
   "cell_type": "markdown",
   "metadata": {},
   "source": [
    "The model is certainly overfit but the score on training data is good. Features will be dropped to reduce the noise"
   ]
  },
  {
   "cell_type": "code",
   "execution_count": null,
   "metadata": {},
   "outputs": [],
   "source": []
  },
  {
   "cell_type": "markdown",
   "metadata": {},
   "source": [
    "## Third Model: Model with minimal Features utilizing StandardScaler and RidgeCV"
   ]
  },
  {
   "cell_type": "code",
   "execution_count": 91,
   "metadata": {},
   "outputs": [
    {
     "data": {
      "text/plain": [
       "Index(['SalePrice', 'Overall Qual', 'Exter Qual', 'Gr Liv Area',\n",
       "       'Kitchen Qual', 'Garage Area', 'Garage Cars', 'Total Bsmt SF',\n",
       "       '1st Flr SF', 'Bsmt Qual'],\n",
       "      dtype='object')"
      ]
     },
     "execution_count": 91,
     "metadata": {},
     "output_type": "execute_result"
    }
   ],
   "source": [
    "corr_cols"
   ]
  },
  {
   "cell_type": "markdown",
   "metadata": {},
   "source": [
    "A dataframe of the 10 features most highly correlated with sale price."
   ]
  },
  {
   "cell_type": "code",
   "execution_count": 92,
   "metadata": {},
   "outputs": [
    {
     "data": {
      "text/html": [
       "<div>\n",
       "<style scoped>\n",
       "    .dataframe tbody tr th:only-of-type {\n",
       "        vertical-align: middle;\n",
       "    }\n",
       "\n",
       "    .dataframe tbody tr th {\n",
       "        vertical-align: top;\n",
       "    }\n",
       "\n",
       "    .dataframe thead th {\n",
       "        text-align: right;\n",
       "    }\n",
       "</style>\n",
       "<table border=\"1\" class=\"dataframe\">\n",
       "  <thead>\n",
       "    <tr style=\"text-align: right;\">\n",
       "      <th></th>\n",
       "      <th>SalePrice</th>\n",
       "      <th>Overall Qual</th>\n",
       "      <th>Exter Qual</th>\n",
       "      <th>Gr Liv Area</th>\n",
       "      <th>Kitchen Qual</th>\n",
       "      <th>Garage Area</th>\n",
       "      <th>Garage Cars</th>\n",
       "      <th>Total Bsmt SF</th>\n",
       "      <th>1st Flr SF</th>\n",
       "      <th>Bsmt Qual</th>\n",
       "    </tr>\n",
       "  </thead>\n",
       "  <tbody>\n",
       "    <tr>\n",
       "      <th>0</th>\n",
       "      <td>130500</td>\n",
       "      <td>6</td>\n",
       "      <td>4</td>\n",
       "      <td>1479</td>\n",
       "      <td>4</td>\n",
       "      <td>475.0</td>\n",
       "      <td>2.0</td>\n",
       "      <td>725.0</td>\n",
       "      <td>725</td>\n",
       "      <td>3</td>\n",
       "    </tr>\n",
       "    <tr>\n",
       "      <th>1</th>\n",
       "      <td>220000</td>\n",
       "      <td>7</td>\n",
       "      <td>4</td>\n",
       "      <td>2122</td>\n",
       "      <td>4</td>\n",
       "      <td>559.0</td>\n",
       "      <td>2.0</td>\n",
       "      <td>913.0</td>\n",
       "      <td>913</td>\n",
       "      <td>4</td>\n",
       "    </tr>\n",
       "    <tr>\n",
       "      <th>2</th>\n",
       "      <td>109000</td>\n",
       "      <td>5</td>\n",
       "      <td>3</td>\n",
       "      <td>1057</td>\n",
       "      <td>4</td>\n",
       "      <td>246.0</td>\n",
       "      <td>1.0</td>\n",
       "      <td>1057.0</td>\n",
       "      <td>1057</td>\n",
       "      <td>3</td>\n",
       "    </tr>\n",
       "    <tr>\n",
       "      <th>3</th>\n",
       "      <td>174000</td>\n",
       "      <td>5</td>\n",
       "      <td>3</td>\n",
       "      <td>1444</td>\n",
       "      <td>3</td>\n",
       "      <td>400.0</td>\n",
       "      <td>2.0</td>\n",
       "      <td>384.0</td>\n",
       "      <td>744</td>\n",
       "      <td>4</td>\n",
       "    </tr>\n",
       "    <tr>\n",
       "      <th>4</th>\n",
       "      <td>138500</td>\n",
       "      <td>6</td>\n",
       "      <td>3</td>\n",
       "      <td>1445</td>\n",
       "      <td>3</td>\n",
       "      <td>484.0</td>\n",
       "      <td>2.0</td>\n",
       "      <td>676.0</td>\n",
       "      <td>831</td>\n",
       "      <td>2</td>\n",
       "    </tr>\n",
       "  </tbody>\n",
       "</table>\n",
       "</div>"
      ],
      "text/plain": [
       "   SalePrice  Overall Qual  Exter Qual  Gr Liv Area  Kitchen Qual  \\\n",
       "0     130500             6           4         1479             4   \n",
       "1     220000             7           4         2122             4   \n",
       "2     109000             5           3         1057             4   \n",
       "3     174000             5           3         1444             3   \n",
       "4     138500             6           3         1445             3   \n",
       "\n",
       "   Garage Area  Garage Cars  Total Bsmt SF  1st Flr SF  Bsmt Qual  \n",
       "0        475.0          2.0          725.0         725          3  \n",
       "1        559.0          2.0          913.0         913          4  \n",
       "2        246.0          1.0         1057.0        1057          3  \n",
       "3        400.0          2.0          384.0         744          4  \n",
       "4        484.0          2.0          676.0         831          2  "
      ]
     },
     "execution_count": 92,
     "metadata": {},
     "output_type": "execute_result"
    }
   ],
   "source": [
    "df2 = df[corr_cols]\n",
    "df2.head()"
   ]
  },
  {
   "cell_type": "code",
   "execution_count": null,
   "metadata": {},
   "outputs": [],
   "source": []
  },
  {
   "cell_type": "code",
   "execution_count": 101,
   "metadata": {},
   "outputs": [
    {
     "name": "stdout",
     "output_type": "stream",
     "text": [
      "Train Mean Squared Error      : 1185703395.6225379\n",
      "Test Mean Squared Error       : 1266757756.9068227\n",
      "Train Root Mean Squared Error : 34434.04413690814\n",
      "Test Root Mean Squared Error  : 35591.540524495744\n",
      "Train R-Squared Score         : 0.8123634071564271\n",
      "Test R-Squared Score          : 0.7931010018340154\n"
     ]
    }
   ],
   "source": [
    "\n",
    "y = df2['SalePrice'] #target parameter\n",
    "\n",
    "features = [col for col in df2._get_numeric_data().columns if col != 'SalePrice'] #predictor parameters\n",
    "\n",
    "X = df2[features]\n",
    "\n",
    "X_train, X_test, y_train, y_test = train_test_split(X,\n",
    "                                                y,\n",
    "                                                test_size = 0.33)\n",
    "\n",
    "\n",
    "#implement standard scaler to account for number size variation\n",
    "sc = StandardScaler()\n",
    "Z_train = sc.fit_transform(X_train)\n",
    "Z_test = sc.transform(X_test)\n",
    "\n",
    "\n",
    "# List of ridge alphas to test\n",
    "ridge_alphas = np.logspace(0, 3, 100)\n",
    "# Find optimal alpha value\n",
    "ridge_cv = RidgeCV(alphas=ridge_alphas,\n",
    "                  scoring='r2',\n",
    "                  cv=5)\n",
    "# Fit model using best ridge alpha!\n",
    "ridge_cv.fit(Z_train, y_train)\n",
    "\n",
    "\n",
    "\n",
    "train_preds = ridge_cv.predict(Z_train)\n",
    "test_preds  = ridge_cv.predict(Z_test)\n",
    "\n",
    "\n",
    "MSE_train = mean_squared_error(y_true = y_train, y_pred = train_preds)\n",
    "MSE_test = mean_squared_error(y_true = y_test, y_pred = test_preds)\n",
    "\n",
    "RMSE_train = mean_squared_error(y_true = y_train, y_pred = train_preds)**0.5\n",
    "RMSE_test = mean_squared_error(y_true = y_test, y_pred = test_preds)**0.5\n",
    "\n",
    "R2_train = ridge_cv.score(Z_train, y_train)\n",
    "R2_test = ridge_cv.score(Z_test, y_test)\n",
    "\n",
    "print(f\"Train Mean Squared Error      : {MSE_train}\")\n",
    "print(f\"Test Mean Squared Error       : {MSE_test}\")\n",
    "\n",
    "print(f\"Train Root Mean Squared Error : {RMSE_train}\")\n",
    "print(f\"Test Root Mean Squared Error  : {RMSE_test}\")\n",
    "\n",
    "print(f\"Train R-Squared Score         : {R2_train}\")\n",
    "print(f\"Test R-Squared Score          : {R2_test}\")"
   ]
  },
  {
   "cell_type": "markdown",
   "metadata": {},
   "source": [
    "The model performs worse, however it is much more accurate on testing data compared to previous models."
   ]
  },
  {
   "cell_type": "markdown",
   "metadata": {},
   "source": [
    "## Fourth Model: Model with minimal Features, this time using PolynomialFeatures with StandardScaler and RidgeCV"
   ]
  },
  {
   "cell_type": "code",
   "execution_count": 99,
   "metadata": {},
   "outputs": [
    {
     "name": "stdout",
     "output_type": "stream",
     "text": [
      "Train Mean Squared Error      : 1045220630.9156698\n",
      "Test Mean Squared Error       : 933756416.0741599\n",
      "Train Root Mean Squared Error : 32329.872114124883\n",
      "Test Root Mean Squared Error  : 30557.42816524584\n",
      "Train R-Squared Score         : 0.8370773002917247\n",
      "Test R-Squared Score          : 0.8419331086811097\n"
     ]
    }
   ],
   "source": [
    "y = df2['SalePrice'] #target parameter\n",
    "\n",
    "features = [col for col in df2._get_numeric_data().columns if col != 'SalePrice'] #predictor parameters\n",
    "\n",
    "X = df2[features]\n",
    "\n",
    "\n",
    "\n",
    "#Instantiate PolynomialFeatures to model interactions of features\n",
    "poly = PolynomialFeatures(degree=2, interaction_only=False, include_bias=False)\n",
    "X_poly = poly.fit_transform(X)\n",
    "\n",
    "X_train, X_test, y_train, y_test = train_test_split(X_poly,\n",
    "                                                y,\n",
    "                                                test_size = 0.33)\n",
    "\n",
    "\n",
    "#implement standard scaler to account for number size variation\n",
    "sc = StandardScaler()\n",
    "Z_train = sc.fit_transform(X_train)\n",
    "Z_test = sc.transform(X_test)\n",
    "\n",
    "\n",
    "# List of ridge alphas to test\n",
    "ridge_alphas = np.logspace(0, 3, 100)\n",
    "# Find optimal alpha value\n",
    "ridge_cv = RidgeCV(alphas=ridge_alphas,\n",
    "                  scoring='r2',\n",
    "                  cv=5)\n",
    "# Fit model using best ridge alpha!\n",
    "ridge_cv.fit(Z_train, y_train)\n",
    "\n",
    "\n",
    "\n",
    "train_preds = ridge_cv.predict(Z_train)\n",
    "test_preds  = ridge_cv.predict(Z_test)\n",
    "\n",
    "\n",
    "MSE_train = mean_squared_error(y_true = y_train, y_pred = train_preds)\n",
    "MSE_test = mean_squared_error(y_true = y_test, y_pred = test_preds)\n",
    "\n",
    "RMSE_train = mean_squared_error(y_true = y_train, y_pred = train_preds)**0.5\n",
    "RMSE_test = mean_squared_error(y_true = y_test, y_pred = test_preds)**0.5\n",
    "\n",
    "R2_train = ridge_cv.score(Z_train, y_train)\n",
    "R2_test = ridge_cv.score(Z_test, y_test)\n",
    "\n",
    "print(f\"Train Mean Squared Error      : {MSE_train}\")\n",
    "print(f\"Test Mean Squared Error       : {MSE_test}\")\n",
    "\n",
    "print(f\"Train Root Mean Squared Error : {RMSE_train}\")\n",
    "print(f\"Test Root Mean Squared Error  : {RMSE_test}\")\n",
    "\n",
    "print(f\"Train R-Squared Score         : {R2_train}\")\n",
    "print(f\"Test R-Squared Score          : {R2_test}\")"
   ]
  },
  {
   "cell_type": "markdown",
   "metadata": {},
   "source": [
    "This has increased increased accuracy and low variance compared to previous models."
   ]
  },
  {
   "cell_type": "code",
   "execution_count": null,
   "metadata": {},
   "outputs": [],
   "source": [
    "poly = PolynomialFeatures(include_bias = False)"
   ]
  },
  {
   "cell_type": "code",
   "execution_count": null,
   "metadata": {},
   "outputs": [],
   "source": [
    "X = house_df.drop(columns=['SalePrice'])\n",
    "y = house_df.loc[:, 'SalePrice']\n",
    "column_list = list(range(2, 190))\n",
    "# Box-cox transform the target \n",
    "reg_strategy = TransformedTargetRegressor()\n",
    "bcox_transformer = PowerTransformer(method='box-cox')\n",
    "\n",
    "model_pipeline = Pipeline([(\"std_scaler\", StandardScaler()),\n",
    "                           ('feature_selector', SelectKBest(f_regression)),\n",
    "                           ('regress', reg_strategy)])\n",
    "parameter_grid = [{'feature_selector__k' : column_list,\n",
    "                   'regress__regressor' : [LinearRegression()],\n",
    "                   'regress__regressor__fit_intercept' : [False, True],\n",
    "                   'regress__transformer' : [None, bcox_transformer]}]\n",
    "score_types = {'r2' :'r2', 'MSE' : 'neg_mean_squared_error'}\n",
    "\n",
    "gs = GridSearchCV(estimator=model_pipeline, param_grid=parameter_grid, scoring=score_types, refit='MSE', cv=5, n_jobs=-1)\n",
    "gs.fit(X, y)\n",
    "\n",
    "PATH = './'\n",
    "gridsearch_result_filename = 'lr_gs_df.pkl'\n",
    "full_path = PATH + gridsearch_result_filename\n",
    "with open(full_path, 'wb') as file:\n",
    "  pickle.dump(gs, file)"
   ]
  },
  {
   "cell_type": "code",
   "execution_count": null,
   "metadata": {},
   "outputs": [],
   "source": []
  },
  {
   "cell_type": "code",
   "execution_count": null,
   "metadata": {},
   "outputs": [],
   "source": [
    "# Instantiate pipeline object.\n",
    "pipe = Pipeline([('poly',PolynomialFeatures(degree=2, interaction_only=False, include_bias=False)),\n",
    "                 ('sc', StandardScaler()),\n",
    "                 ('lasso_cv', LassoCV(alphas = l_alphas,\n",
    "                  cv = 5,\n",
    "                  max_iter = 5000,\n",
    "                  tol = 0.0015\n",
    "                  ))\n",
    "])\n",
    "\n",
    "pipe_params = {\n",
    "    'sc__with_mean':[True, False],\n",
    "    'sc__with_std' :[True, False],\n",
    "    'knn__n_neighbors':[3, 5, 7, 11, 25],\n",
    "    'knn__weights': ['uniform', 'distance']\n",
    "}\n",
    "\n",
    "pipe_gridsearch = GridSearchCV(pipe, # model to be fitted\n",
    "                                 pipe_params, # hyperparameters\n",
    "                                 cv=5, #cross folds\n",
    "                                 verbose=1)\n",
    "\n",
    "\n"
   ]
  },
  {
   "cell_type": "code",
   "execution_count": null,
   "metadata": {},
   "outputs": [],
   "source": []
  },
  {
   "cell_type": "code",
   "execution_count": null,
   "metadata": {},
   "outputs": [],
   "source": []
  },
  {
   "cell_type": "code",
   "execution_count": null,
   "metadata": {},
   "outputs": [],
   "source": []
  },
  {
   "cell_type": "code",
   "execution_count": null,
   "metadata": {},
   "outputs": [],
   "source": []
  },
  {
   "cell_type": "code",
   "execution_count": null,
   "metadata": {},
   "outputs": [],
   "source": []
  },
  {
   "cell_type": "code",
   "execution_count": null,
   "metadata": {},
   "outputs": [],
   "source": []
  },
  {
   "cell_type": "code",
   "execution_count": null,
   "metadata": {},
   "outputs": [],
   "source": []
  },
  {
   "cell_type": "code",
   "execution_count": null,
   "metadata": {},
   "outputs": [],
   "source": []
  },
  {
   "cell_type": "code",
   "execution_count": null,
   "metadata": {},
   "outputs": [],
   "source": []
  }
 ],
 "metadata": {
  "kernelspec": {
   "display_name": "Python 3",
   "language": "python",
   "name": "python3"
  },
  "language_info": {
   "codemirror_mode": {
    "name": "ipython",
    "version": 3
   },
   "file_extension": ".py",
   "mimetype": "text/x-python",
   "name": "python",
   "nbconvert_exporter": "python",
   "pygments_lexer": "ipython3",
   "version": "3.8.5"
  }
 },
 "nbformat": 4,
 "nbformat_minor": 4
}
