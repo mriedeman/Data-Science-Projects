{
 "cells": [
  {
   "cell_type": "markdown",
   "metadata": {},
   "source": [
    "# Cleaning Testing Data\n",
    "**This df was cleaned in a separate notebook to avoid errors that may occur while overwriting variables stored in the kernel. The cleaned dataframe was exported to a csv file named \"test_data_CLEAN.csv\" and is imported into the Ames_Housing_Model notebook to be run through the models.**"
   ]
  },
  {
   "cell_type": "markdown",
   "metadata": {},
   "source": [
    "**Imports**"
   ]
  },
  {
   "cell_type": "code",
   "execution_count": 1,
   "metadata": {},
   "outputs": [],
   "source": [
    "import numpy as np\n",
    "import pandas as pd\n",
    "import matplotlib.pyplot as plt\n",
    "import seaborn as sns"
   ]
  },
  {
   "cell_type": "markdown",
   "metadata": {},
   "source": [
    "**Load Data**"
   ]
  },
  {
   "cell_type": "code",
   "execution_count": 2,
   "metadata": {
    "scrolled": true
   },
   "outputs": [
    {
     "data": {
      "text/html": [
       "<div>\n",
       "<style scoped>\n",
       "    .dataframe tbody tr th:only-of-type {\n",
       "        vertical-align: middle;\n",
       "    }\n",
       "\n",
       "    .dataframe tbody tr th {\n",
       "        vertical-align: top;\n",
       "    }\n",
       "\n",
       "    .dataframe thead th {\n",
       "        text-align: right;\n",
       "    }\n",
       "</style>\n",
       "<table border=\"1\" class=\"dataframe\">\n",
       "  <thead>\n",
       "    <tr style=\"text-align: right;\">\n",
       "      <th></th>\n",
       "      <th>Id</th>\n",
       "      <th>PID</th>\n",
       "      <th>MS SubClass</th>\n",
       "      <th>MS Zoning</th>\n",
       "      <th>Lot Frontage</th>\n",
       "      <th>Lot Area</th>\n",
       "      <th>Street</th>\n",
       "      <th>Alley</th>\n",
       "      <th>Lot Shape</th>\n",
       "      <th>Land Contour</th>\n",
       "      <th>...</th>\n",
       "      <th>3Ssn Porch</th>\n",
       "      <th>Screen Porch</th>\n",
       "      <th>Pool Area</th>\n",
       "      <th>Pool QC</th>\n",
       "      <th>Fence</th>\n",
       "      <th>Misc Feature</th>\n",
       "      <th>Misc Val</th>\n",
       "      <th>Mo Sold</th>\n",
       "      <th>Yr Sold</th>\n",
       "      <th>Sale Type</th>\n",
       "    </tr>\n",
       "  </thead>\n",
       "  <tbody>\n",
       "    <tr>\n",
       "      <th>0</th>\n",
       "      <td>2658</td>\n",
       "      <td>902301120</td>\n",
       "      <td>190</td>\n",
       "      <td>RM</td>\n",
       "      <td>69.0</td>\n",
       "      <td>9142</td>\n",
       "      <td>Pave</td>\n",
       "      <td>Grvl</td>\n",
       "      <td>Reg</td>\n",
       "      <td>Lvl</td>\n",
       "      <td>...</td>\n",
       "      <td>0</td>\n",
       "      <td>0</td>\n",
       "      <td>0</td>\n",
       "      <td>NaN</td>\n",
       "      <td>NaN</td>\n",
       "      <td>NaN</td>\n",
       "      <td>0</td>\n",
       "      <td>4</td>\n",
       "      <td>2006</td>\n",
       "      <td>WD</td>\n",
       "    </tr>\n",
       "    <tr>\n",
       "      <th>1</th>\n",
       "      <td>2718</td>\n",
       "      <td>905108090</td>\n",
       "      <td>90</td>\n",
       "      <td>RL</td>\n",
       "      <td>NaN</td>\n",
       "      <td>9662</td>\n",
       "      <td>Pave</td>\n",
       "      <td>NaN</td>\n",
       "      <td>IR1</td>\n",
       "      <td>Lvl</td>\n",
       "      <td>...</td>\n",
       "      <td>0</td>\n",
       "      <td>0</td>\n",
       "      <td>0</td>\n",
       "      <td>NaN</td>\n",
       "      <td>NaN</td>\n",
       "      <td>NaN</td>\n",
       "      <td>0</td>\n",
       "      <td>8</td>\n",
       "      <td>2006</td>\n",
       "      <td>WD</td>\n",
       "    </tr>\n",
       "    <tr>\n",
       "      <th>2</th>\n",
       "      <td>2414</td>\n",
       "      <td>528218130</td>\n",
       "      <td>60</td>\n",
       "      <td>RL</td>\n",
       "      <td>58.0</td>\n",
       "      <td>17104</td>\n",
       "      <td>Pave</td>\n",
       "      <td>NaN</td>\n",
       "      <td>IR1</td>\n",
       "      <td>Lvl</td>\n",
       "      <td>...</td>\n",
       "      <td>0</td>\n",
       "      <td>0</td>\n",
       "      <td>0</td>\n",
       "      <td>NaN</td>\n",
       "      <td>NaN</td>\n",
       "      <td>NaN</td>\n",
       "      <td>0</td>\n",
       "      <td>9</td>\n",
       "      <td>2006</td>\n",
       "      <td>New</td>\n",
       "    </tr>\n",
       "    <tr>\n",
       "      <th>3</th>\n",
       "      <td>1989</td>\n",
       "      <td>902207150</td>\n",
       "      <td>30</td>\n",
       "      <td>RM</td>\n",
       "      <td>60.0</td>\n",
       "      <td>8520</td>\n",
       "      <td>Pave</td>\n",
       "      <td>NaN</td>\n",
       "      <td>Reg</td>\n",
       "      <td>Lvl</td>\n",
       "      <td>...</td>\n",
       "      <td>0</td>\n",
       "      <td>0</td>\n",
       "      <td>0</td>\n",
       "      <td>NaN</td>\n",
       "      <td>NaN</td>\n",
       "      <td>NaN</td>\n",
       "      <td>0</td>\n",
       "      <td>7</td>\n",
       "      <td>2007</td>\n",
       "      <td>WD</td>\n",
       "    </tr>\n",
       "    <tr>\n",
       "      <th>4</th>\n",
       "      <td>625</td>\n",
       "      <td>535105100</td>\n",
       "      <td>20</td>\n",
       "      <td>RL</td>\n",
       "      <td>NaN</td>\n",
       "      <td>9500</td>\n",
       "      <td>Pave</td>\n",
       "      <td>NaN</td>\n",
       "      <td>IR1</td>\n",
       "      <td>Lvl</td>\n",
       "      <td>...</td>\n",
       "      <td>0</td>\n",
       "      <td>185</td>\n",
       "      <td>0</td>\n",
       "      <td>NaN</td>\n",
       "      <td>NaN</td>\n",
       "      <td>NaN</td>\n",
       "      <td>0</td>\n",
       "      <td>7</td>\n",
       "      <td>2009</td>\n",
       "      <td>WD</td>\n",
       "    </tr>\n",
       "  </tbody>\n",
       "</table>\n",
       "<p>5 rows × 80 columns</p>\n",
       "</div>"
      ],
      "text/plain": [
       "     Id        PID  MS SubClass MS Zoning  Lot Frontage  Lot Area Street  \\\n",
       "0  2658  902301120          190        RM          69.0      9142   Pave   \n",
       "1  2718  905108090           90        RL           NaN      9662   Pave   \n",
       "2  2414  528218130           60        RL          58.0     17104   Pave   \n",
       "3  1989  902207150           30        RM          60.0      8520   Pave   \n",
       "4   625  535105100           20        RL           NaN      9500   Pave   \n",
       "\n",
       "  Alley Lot Shape Land Contour  ... 3Ssn Porch Screen Porch Pool Area Pool QC  \\\n",
       "0  Grvl       Reg          Lvl  ...          0            0         0     NaN   \n",
       "1   NaN       IR1          Lvl  ...          0            0         0     NaN   \n",
       "2   NaN       IR1          Lvl  ...          0            0         0     NaN   \n",
       "3   NaN       Reg          Lvl  ...          0            0         0     NaN   \n",
       "4   NaN       IR1          Lvl  ...          0          185         0     NaN   \n",
       "\n",
       "  Fence Misc Feature Misc Val Mo Sold  Yr Sold  Sale Type  \n",
       "0   NaN          NaN        0       4     2006        WD   \n",
       "1   NaN          NaN        0       8     2006        WD   \n",
       "2   NaN          NaN        0       9     2006        New  \n",
       "3   NaN          NaN        0       7     2007        WD   \n",
       "4   NaN          NaN        0       7     2009        WD   \n",
       "\n",
       "[5 rows x 80 columns]"
      ]
     },
     "execution_count": 2,
     "metadata": {},
     "output_type": "execute_result"
    }
   ],
   "source": [
    "test_data = \"./datasets/test.csv\" #might have to add a second period in the relative file path, this file was moved into a folder before and now this is the path that works\n",
    "test = pd.read_csv(test_data)\n",
    "df = test #This can be changed to test to run the test data\n",
    "df.head()"
   ]
  },
  {
   "cell_type": "markdown",
   "metadata": {},
   "source": [
    "**Correct Data Types**"
   ]
  },
  {
   "cell_type": "markdown",
   "metadata": {},
   "source": [
    "Due to the size of the data frame. The datatypes are analyzed 15 at a time."
   ]
  },
  {
   "cell_type": "code",
   "execution_count": 3,
   "metadata": {},
   "outputs": [
    {
     "data": {
      "text/plain": [
       "(878, 80)"
      ]
     },
     "execution_count": 3,
     "metadata": {},
     "output_type": "execute_result"
    }
   ],
   "source": [
    "df.shape"
   ]
  },
  {
   "cell_type": "code",
   "execution_count": 4,
   "metadata": {},
   "outputs": [
    {
     "data": {
      "text/plain": [
       "2nd Flr SF           int64\n",
       "Low Qual Fin SF      int64\n",
       "Gr Liv Area          int64\n",
       "Bsmt Full Bath       int64\n",
       "Bsmt Half Bath       int64\n",
       "Full Bath            int64\n",
       "Half Bath            int64\n",
       "Bedroom AbvGr        int64\n",
       "Kitchen AbvGr        int64\n",
       "Kitchen Qual        object\n",
       "TotRms AbvGrd        int64\n",
       "Functional          object\n",
       "Fireplaces           int64\n",
       "Fireplace Qu        object\n",
       "Garage Type         object\n",
       "Garage Yr Blt      float64\n",
       "Garage Finish       object\n",
       "Garage Cars          int64\n",
       "Garage Area          int64\n",
       "Garage Qual         object\n",
       "Garage Cond         object\n",
       "Paved Drive         object\n",
       "Wood Deck SF         int64\n",
       "Open Porch SF        int64\n",
       "Enclosed Porch       int64\n",
       "3Ssn Porch           int64\n",
       "Screen Porch         int64\n",
       "Pool Area            int64\n",
       "Pool QC             object\n",
       "Fence               object\n",
       "dtype: object"
      ]
     },
     "execution_count": 4,
     "metadata": {},
     "output_type": "execute_result"
    }
   ],
   "source": [
    "columns = df.columns\n",
    "\n",
    "df[columns[45:75]].dtypes"
   ]
  },
  {
   "cell_type": "markdown",
   "metadata": {},
   "source": [
    "Data Types needed to be changed\n",
    "- Year Built - convert to home age column \n",
    "- Year Remod/Add -convert to age\n",
    "- Garage Yr Blt - convert to age"
   ]
  },
  {
   "cell_type": "markdown",
   "metadata": {},
   "source": [
    "**Handle Null/Missing Values**"
   ]
  },
  {
   "cell_type": "markdown",
   "metadata": {},
   "source": [
    "There are 18 columns with missing values. A few of these columns will be dropped, but the missing values for the ordinal data columns will be replaced with zeroes because the absence of a feature will be ranked as 0."
   ]
  },
  {
   "cell_type": "code",
   "execution_count": 6,
   "metadata": {},
   "outputs": [
    {
     "data": {
      "image/png": "[encoded data removed]",
      "text/plain": [
       "<Figure size 360x720 with 1 Axes>"
      ]
     },
     "metadata": {
      "needs_background": "light"
     },
     "output_type": "display_data"
    }
   ],
   "source": [
    "#All columns with missing values are plotted.\n",
    "missing_values = df[columns].isnull().sum().sort_values()[:-20:-1]\n",
    "plt.figure(figsize = (5,10))\n",
    "plt.title(\"Missing Values\")\n",
    "missing_values.plot(kind = 'barh');"
   ]
  },
  {
   "cell_type": "markdown",
   "metadata": {},
   "source": [
    "**Drop Columns**\n",
    "\n",
    "Fireplace Qu column column will have its null values assigned the value of zero instead of dropped. This is done in the ordinal data section."
   ]
  },
  {
   "cell_type": "code",
   "execution_count": 7,
   "metadata": {},
   "outputs": [
    {
     "data": {
      "text/plain": [
       "(878, 74)"
      ]
     },
     "execution_count": 7,
     "metadata": {},
     "output_type": "execute_result"
    }
   ],
   "source": [
    "df = df.drop(columns = ['PID','Misc Feature', 'Alley', 'Yr Sold', 'Sale Type','Lot Frontage'])\n",
    "\n",
    "df.shape"
   ]
  },
  {
   "cell_type": "markdown",
   "metadata": {},
   "source": [
    "**Assign Hierarchy Values to Ordinal Data**"
   ]
  },
  {
   "cell_type": "markdown",
   "metadata": {},
   "source": [
    "\n",
    "**Ordinal Columns**\n",
    "1. Utilities \n",
    "2. Land Slope \n",
    "3. Overall Qual \n",
    "4. Overall Cond \n",
    "5. Exter Qual\n",
    "6. Exter Cond\n",
    "7. Bsmt Cond\n",
    "8. Bsmt Qual\n",
    "9. Bsmt Exposure\n",
    "10. BsmtFin Type 1\n",
    "11. BsmtFin Type 2\n",
    "12. Heating QC\n",
    "13. Electrical\n",
    "14. Kitchen Qual\n",
    "15. FireplaceQu\n",
    "16. Garage Finish\n",
    "17. Garage Qual\n",
    "18. Garage Cond\n",
    "19. Paved Drive\n",
    "20. Pool QC\n",
    "21. Fence"
   ]
  },
  {
   "cell_type": "markdown",
   "metadata": {},
   "source": [
    "*Ordinize* function converts ordinal text data to numeric hierarchy."
   ]
  },
  {
   "cell_type": "code",
   "execution_count": 8,
   "metadata": {},
   "outputs": [
    {
     "data": {
      "text/plain": [
       "'No Errors'"
      ]
     },
     "execution_count": 8,
     "metadata": {},
     "output_type": "execute_result"
    }
   ],
   "source": [
    "\n",
    "def ordinize(df):\n",
    "\n",
    "    df['Utilities'] = df['Utilities'].map({'AllPub': 3,\n",
    "                                            'NoSeWa' : 2,\n",
    "                                           'NoSewr': 1})\n",
    "\n",
    "    df['Land Slope'] = df['Land Slope'].map({'Gtl': 3,\n",
    "                                            'Mod' : 2,\n",
    "                                           'Sev': 1})\n",
    "\n",
    "    df['Exter Qual'] = df['Exter Qual'].map({'Ex': 5,\n",
    "                                            'Gd' : 4,\n",
    "                                           'TA': 3,\n",
    "                                              'Fa': 2,\n",
    "                                              'Po': 1})\n",
    "    \n",
    "    \n",
    "    df['Lot Shape'] = df['Lot Shape'].map({'Reg': 3,\n",
    "                                            'IR1' : 2,\n",
    "                                           'IR2': 1,\n",
    "                                              'IR3': 0})\n",
    "\n",
    "\n",
    "    df['Exter Cond'] = df['Exter Cond'].map({'Ex': 5,\n",
    "                                            'Gd' : 4,\n",
    "                                           'TA': 3,\n",
    "                                              'Fa': 2,\n",
    "                                              'Po': 1})\n",
    "\n",
    "    df['Bsmt Cond'] = df['Bsmt Cond'].map({'Ex': 5,\n",
    "                                            'Gd' : 4,\n",
    "                                           'TA': 3,\n",
    "                                              'Fa': 2,\n",
    "                                              'Po': 1,\n",
    "                                          np.nan : 0})\n",
    "    \n",
    "    df['Bsmt Qual'] = df['Bsmt Qual'].map({'Ex': 5,\n",
    "                                            'Gd' : 4,\n",
    "                                           'TA': 3,\n",
    "                                              'Fa': 2,\n",
    "                                              'Po': 1,\n",
    "                                          np.nan : 0})\n",
    "\n",
    "    df['Bsmt Exposure'] = df['Bsmt Exposure'].map({'Gd': 5,\n",
    "                                            'Av' : 4,\n",
    "                                           'Mn': 3,\n",
    "                                              'No': 2}) \n",
    "\n",
    "\n",
    "    df['BsmtFin Type 1'] = df['BsmtFin Type 1'].map({'GLQ': 6,\n",
    "                                            'ALQ' : 5,\n",
    "                                            'BLQ': 4,\n",
    "                                            'Rec': 3,\n",
    "                                            'LwQ': 2,\n",
    "                                            'Unf':1,}) \n",
    "\n",
    "\n",
    "    df['BsmtFin Type 2'] = df['BsmtFin Type 2'].map({'GLQ': 6,\n",
    "                                            'ALQ' : 5,\n",
    "                                            'BLQ': 4,\n",
    "                                            'Rec': 3,\n",
    "                                            'LwQ': 2,\n",
    "                                            'Unf':1,}) \n",
    "\n",
    "    df['Heating QC'] = df['Heating QC'].map({'Ex': 5,\n",
    "                                                'Gd' : 4,\n",
    "                                               'TA': 3,\n",
    "                                                  'Fa': 2,\n",
    "                                                  'Po': 1})\n",
    "\n",
    "    df['Electrical'] = df['Electrical'].map({'SBrkr': 5,\n",
    "                                                'FuseA' : 4,\n",
    "                                               'FuseF': 3,\n",
    "                                                  'FuseP': 2,\n",
    "                                                  'Mix': 1})\n",
    "\n",
    "    df['Kitchen Qual'] = df['Kitchen Qual'].map({'Ex': 5,\n",
    "                                                'Gd' : 4,\n",
    "                                               'TA': 3,\n",
    "                                                  'Fa': 2,\n",
    "                                                  'Po': 1})\n",
    "\n",
    "    df['Fireplace Qu'] = df['Fireplace Qu'].map({'Ex': 5, \n",
    "                                                'Gd' : 4,\n",
    "                                               'TA': 3,\n",
    "                                                  'Fa': 2,\n",
    "                                                  'Po': 1})\n",
    "\n",
    "    df['Garage Qual'] = df['Garage Qual'].map({'Ex': 5,  \n",
    "                                                'Gd' : 4,\n",
    "                                               'TA': 3,\n",
    "                                                  'Fa': 2,\n",
    "                                                  'Po': 1})\n",
    "\n",
    "    df['Garage Cond'] = df['Garage Cond'].map({'Ex': 5,  \n",
    "                                                'Gd' : 4,\n",
    "                                               'TA': 3,\n",
    "                                                  'Fa': 2,\n",
    "                                                  'Po': 1})\n",
    "    \n",
    "    df['Garage Finish'] = df['Garage Finish'].map({'Fin': 5,  \n",
    "                                                'RFn' : 3,\n",
    "                                               'Unf': 1,\n",
    "                                                  np.nan: 0})\n",
    "\n",
    "\n",
    "    df['Paved Drive'] = df['Paved Drive'].map({'Y': 3,\n",
    "                                                'P' : 2,\n",
    "                                               'N': 1})\n",
    "\n",
    "\n",
    "    df['Pool QC'] = df['Pool QC'].map({'Ex': 10,  \n",
    "                                                'Gd' : 8,\n",
    "                                               'TA': 5,\n",
    "                                                  'Fa': 4})\n",
    "\n",
    "    df['Fence'] = df['Fence'].map({'GdPrv': 10,  \n",
    "                                                'MnPrv' : 8,\n",
    "                                               'GdWo': 5,\n",
    "                                                  'MnWw': 4})\n",
    "    \n",
    "    return \"No Errors\"\n",
    "    \n",
    "\n",
    "\n",
    "\n",
    "\n",
    "ordinize(df)"
   ]
  },
  {
   "cell_type": "markdown",
   "metadata": {},
   "source": [
    "This fills in the null values of the ordinal columns with 0. The null values in the ordinal columns indicate an absence of that feature."
   ]
  },
  {
   "cell_type": "code",
   "execution_count": 10,
   "metadata": {},
   "outputs": [],
   "source": [
    "ordinal_columns = ['Fence','Pool QC', 'Garage Cond', 'Garage Qual', 'Fireplace Qu', 'BsmtFin Type 1','BsmtFin Type 2','Bsmt Exposure']\n",
    "\n",
    "df.loc[:, ordinal_columns ] = df.loc[:, ordinal_columns].fillna(0)"
   ]
  },
  {
   "cell_type": "code",
   "execution_count": 11,
   "metadata": {},
   "outputs": [
    {
     "data": {
      "text/plain": [
       "(878, 74)"
      ]
     },
     "execution_count": 11,
     "metadata": {},
     "output_type": "execute_result"
    }
   ],
   "source": [
    "df.shape"
   ]
  },
  {
   "cell_type": "markdown",
   "metadata": {},
   "source": [
    "Replace the null values in Garage Type to the category 'No Garage'. This will be one hot encoded with the other nominal data columns later."
   ]
  },
  {
   "cell_type": "code",
   "execution_count": 12,
   "metadata": {},
   "outputs": [],
   "source": [
    "df['Garage Type'] = df['Garage Type'].replace(np.nan,'No Garage')"
   ]
  },
  {
   "cell_type": "code",
   "execution_count": 13,
   "metadata": {},
   "outputs": [
    {
     "data": {
      "text/plain": [
       "0      1910.0\n",
       "1      1977.0\n",
       "2      2006.0\n",
       "3      1935.0\n",
       "4      1963.0\n",
       "        ...  \n",
       "873    1974.0\n",
       "874    1966.0\n",
       "875    1968.0\n",
       "876    1974.0\n",
       "877    1955.0\n",
       "Name: Garage Yr Blt, Length: 878, dtype: float64"
      ]
     },
     "execution_count": 13,
     "metadata": {},
     "output_type": "execute_result"
    }
   ],
   "source": [
    "df['Garage Yr Blt']"
   ]
  },
  {
   "cell_type": "markdown",
   "metadata": {},
   "source": [
    "There were over 100 null values for the garage yr built existing because these are houses that do not have a garage. To avoid dropping large amounts of data, the null values are replaced with the year the house was built. This column was not simply dropped because it is ranked 10th best in correlation with Sale_Price. Replacing null values with the year the house was built was a fair compromise."
   ]
  },
  {
   "cell_type": "code",
   "execution_count": 14,
   "metadata": {},
   "outputs": [
    {
     "data": {
      "text/plain": [
       "315    2010.0\n",
       "316    2010.0\n",
       "452    2010.0\n",
       "40     2009.0\n",
       "85     2009.0\n",
       "        ...  \n",
       "350    1902.0\n",
       "270    1900.0\n",
       "522    1900.0\n",
       "232    1900.0\n",
       "337    1890.0\n",
       "Name: Garage Yr Blt, Length: 878, dtype: float64"
      ]
     },
     "execution_count": 14,
     "metadata": {},
     "output_type": "execute_result"
    }
   ],
   "source": [
    "#gyb is garage year built, hyb is house year built\n",
    "#because np.nan != np.nan, we will fill the nan values with something else first\n",
    "\n",
    "df['Garage Yr Blt'] = df['Garage Yr Blt'].fillna('filler')\n",
    "df['Garage Yr Blt'] = [hyb if gyb == 'filler' else gyb for gyb, hyb in zip(df['Garage Yr Blt'], df['Year Built'])]\n",
    "\n",
    "df['Garage Yr Blt'].sort_values(ascending = False)"
   ]
  },
  {
   "cell_type": "code",
   "execution_count": 15,
   "metadata": {},
   "outputs": [
    {
     "data": {
      "text/plain": [
       "337    1890.0\n",
       "232    1900.0\n",
       "522    1900.0\n",
       "270    1900.0\n",
       "350    1902.0\n",
       "        ...  \n",
       "85     2009.0\n",
       "40     2009.0\n",
       "452    2010.0\n",
       "316    2010.0\n",
       "315    2010.0\n",
       "Name: Garage Yr Blt, Length: 878, dtype: float64"
      ]
     },
     "execution_count": 15,
     "metadata": {},
     "output_type": "execute_result"
    }
   ],
   "source": [
    "#fix typo in data\n",
    "df['Garage Yr Blt'] = df['Garage Yr Blt'].replace(2207.0 , 2007.0)\n",
    "\n",
    "df['Garage Yr Blt'].sort_values()"
   ]
  },
  {
   "cell_type": "code",
   "execution_count": 16,
   "metadata": {},
   "outputs": [
    {
     "data": {
      "text/plain": [
       "(878, 74)"
      ]
     },
     "execution_count": 16,
     "metadata": {},
     "output_type": "execute_result"
    }
   ],
   "source": [
    "df.shape"
   ]
  },
  {
   "cell_type": "markdown",
   "metadata": {},
   "source": [
    "Convert years of home,remodel, and garage to age columns."
   ]
  },
  {
   "cell_type": "code",
   "execution_count": 17,
   "metadata": {},
   "outputs": [
    {
     "data": {
      "text/plain": [
       "Index(['Id', 'MS SubClass', 'MS Zoning', 'Lot Area', 'Street', 'Lot Shape',\n",
       "       'Land Contour', 'Utilities', 'Lot Config', 'Land Slope', 'Neighborhood',\n",
       "       'Condition 1', 'Condition 2', 'Bldg Type', 'House Style',\n",
       "       'Overall Qual', 'Overall Cond', 'Roof Style', 'Roof Matl',\n",
       "       'Exterior 1st', 'Exterior 2nd', 'Mas Vnr Type', 'Mas Vnr Area',\n",
       "       'Exter Qual', 'Exter Cond', 'Foundation', 'Bsmt Qual', 'Bsmt Cond',\n",
       "       'Bsmt Exposure', 'BsmtFin Type 1', 'BsmtFin SF 1', 'BsmtFin Type 2',\n",
       "       'BsmtFin SF 2', 'Bsmt Unf SF', 'Total Bsmt SF', 'Heating', 'Heating QC',\n",
       "       'Central Air', 'Electrical', '1st Flr SF', '2nd Flr SF',\n",
       "       'Low Qual Fin SF', 'Gr Liv Area', 'Bsmt Full Bath', 'Bsmt Half Bath',\n",
       "       'Full Bath', 'Half Bath', 'Bedroom AbvGr', 'Kitchen AbvGr',\n",
       "       'Kitchen Qual', 'TotRms AbvGrd', 'Functional', 'Fireplaces',\n",
       "       'Fireplace Qu', 'Garage Type', 'Garage Finish', 'Garage Cars',\n",
       "       'Garage Area', 'Garage Qual', 'Garage Cond', 'Paved Drive',\n",
       "       'Wood Deck SF', 'Open Porch SF', 'Enclosed Porch', '3Ssn Porch',\n",
       "       'Screen Porch', 'Pool Area', 'Pool QC', 'Fence', 'Misc Val', 'Mo Sold',\n",
       "       'age_of_home', 'age_of_garage', 'age_of_remodel'],\n",
       "      dtype='object')"
      ]
     },
     "execution_count": 17,
     "metadata": {},
     "output_type": "execute_result"
    }
   ],
   "source": [
    "df['age_of_home'] = 2021 - df['Year Built']\n",
    "df['age_of_garage'] = 2021 - df['Garage Yr Blt']\n",
    "df['age_of_remodel'] = 2021 - df['Year Remod/Add']\n",
    "df = df.drop(columns = ['Year Built','Garage Yr Blt','Year Remod/Add'])\n",
    "df.columns"
   ]
  },
  {
   "cell_type": "code",
   "execution_count": 19,
   "metadata": {},
   "outputs": [
    {
     "data": {
      "text/plain": [
       "Electrical        1\n",
       "Mas Vnr Type      1\n",
       "Mas Vnr Area      1\n",
       "age_of_remodel    0\n",
       "Bsmt Qual         0\n",
       "Exterior 2nd      0\n",
       "Exter Qual        0\n",
       "Exter Cond        0\n",
       "Foundation        0\n",
       "Bsmt Cond         0\n",
       "Roof Matl         0\n",
       "Bsmt Exposure     0\n",
       "BsmtFin Type 1    0\n",
       "BsmtFin SF 1      0\n",
       "BsmtFin Type 2    0\n",
       "BsmtFin SF 2      0\n",
       "Bsmt Unf SF       0\n",
       "Exterior 1st      0\n",
       "Roof Style        0\n",
       "dtype: int64"
      ]
     },
     "execution_count": 19,
     "metadata": {},
     "output_type": "execute_result"
    }
   ],
   "source": [
    "#checking the progress of handling null values\n",
    "columns = df.columns #red\n",
    "df[columns].isnull().sum().sort_values(ascending = True)[:-20:-1]"
   ]
  },
  {
   "cell_type": "markdown",
   "metadata": {},
   "source": [
    "We can't drop missing values on the test set, otherwise there won't be enough rows for sale price predictions. There are 3 categorical values that will be filled with 0, assuming they do not have that feature."
   ]
  },
  {
   "cell_type": "code",
   "execution_count": 20,
   "metadata": {},
   "outputs": [
    {
     "data": {
      "text/plain": [
       "age_of_remodel    0\n",
       "Roof Matl         0\n",
       "Exterior 2nd      0\n",
       "Mas Vnr Type      0\n",
       "Mas Vnr Area      0\n",
       "Exter Qual        0\n",
       "Exter Cond        0\n",
       "Foundation        0\n",
       "Bsmt Qual         0\n",
       "Bsmt Cond         0\n",
       "Bsmt Exposure     0\n",
       "BsmtFin Type 1    0\n",
       "BsmtFin SF 1      0\n",
       "BsmtFin Type 2    0\n",
       "BsmtFin SF 2      0\n",
       "Bsmt Unf SF       0\n",
       "Total Bsmt SF     0\n",
       "Exterior 1st      0\n",
       "Roof Style        0\n",
       "dtype: int64"
      ]
     },
     "execution_count": 20,
     "metadata": {},
     "output_type": "execute_result"
    }
   ],
   "source": [
    "df['Electrical'] = df['Electrical'].fillna(0)\n",
    "df['Mas Vnr Type'] = df['Mas Vnr Type'].fillna(0)\n",
    "df['Mas Vnr Area'] = df['Mas Vnr Area'].fillna(0)\n",
    "df[columns].isnull().sum().sort_values(ascending = True)[:-20:-1]"
   ]
  },
  {
   "cell_type": "markdown",
   "metadata": {},
   "source": [
    "Null Values have been removed."
   ]
  },
  {
   "cell_type": "markdown",
   "metadata": {},
   "source": [
    "**One Hot Encode Nominal Data**"
   ]
  },
  {
   "cell_type": "markdown",
   "metadata": {},
   "source": [
    "**Nominal Columns**\n",
    "1. PID - Dropped\n",
    "2. MS Subclass \n",
    "3. MS Zoning \n",
    "4. Street \n",
    "5. Land contour\n",
    "6. Lot Config\n",
    "7. Neighborhood\n",
    "8. Condition 1\n",
    "9. Condition 2\n",
    "10. Bldg Type\n",
    "11. House Style\n",
    "12. Roof Style\n",
    "13. Roof Matl\n",
    "14. Exterior 1st\n",
    "15. Exterior 2nd\n",
    "16. Mas Vnr Type\n",
    "17. Mas Vnr Area\n",
    "18. Foundation\n",
    "19. Heating\n",
    "20. Central Air\n",
    "21. Garage Type"
   ]
  },
  {
   "cell_type": "markdown",
   "metadata": {},
   "source": [
    "The following columns will not be dummified to avoid inserting to many noise parameters into the model.\n",
    "\n",
    "- ID\n",
    "- PID\n"
   ]
  },
  {
   "cell_type": "code",
   "execution_count": 22,
   "metadata": {},
   "outputs": [
    {
     "data": {
      "text/plain": [
       "Index(['Id', 'MS SubClass', 'MS Zoning', 'Lot Area', 'Street', 'Lot Shape',\n",
       "       'Land Contour', 'Utilities', 'Lot Config', 'Land Slope', 'Neighborhood',\n",
       "       'Condition 1', 'Condition 2', 'Bldg Type', 'House Style',\n",
       "       'Overall Qual', 'Overall Cond', 'Roof Style', 'Roof Matl',\n",
       "       'Exterior 1st', 'Exterior 2nd', 'Mas Vnr Type', 'Mas Vnr Area',\n",
       "       'Exter Qual', 'Exter Cond', 'Foundation', 'Bsmt Qual', 'Bsmt Cond',\n",
       "       'Bsmt Exposure', 'BsmtFin Type 1', 'BsmtFin SF 1', 'BsmtFin Type 2',\n",
       "       'BsmtFin SF 2', 'Bsmt Unf SF', 'Total Bsmt SF', 'Heating', 'Heating QC',\n",
       "       'Central Air', 'Electrical', '1st Flr SF', '2nd Flr SF',\n",
       "       'Low Qual Fin SF', 'Gr Liv Area', 'Bsmt Full Bath', 'Bsmt Half Bath',\n",
       "       'Full Bath', 'Half Bath', 'Bedroom AbvGr', 'Kitchen AbvGr',\n",
       "       'Kitchen Qual', 'TotRms AbvGrd', 'Functional', 'Fireplaces',\n",
       "       'Fireplace Qu', 'Garage Type', 'Garage Finish', 'Garage Cars',\n",
       "       'Garage Area', 'Garage Qual', 'Garage Cond', 'Paved Drive',\n",
       "       'Wood Deck SF', 'Open Porch SF', 'Enclosed Porch', '3Ssn Porch',\n",
       "       'Screen Porch', 'Pool Area', 'Pool QC', 'Fence', 'Misc Val', 'Mo Sold',\n",
       "       'age_of_home', 'age_of_garage', 'age_of_remodel'],\n",
       "      dtype='object')"
      ]
     },
     "execution_count": 22,
     "metadata": {},
     "output_type": "execute_result"
    }
   ],
   "source": [
    "df.columns"
   ]
  },
  {
   "cell_type": "markdown",
   "metadata": {},
   "source": [
    "Delete nominal data that has a different number of categories than the training data."
   ]
  },
  {
   "cell_type": "code",
   "execution_count": 24,
   "metadata": {},
   "outputs": [],
   "source": [
    "nominal_columns = ['MS SubClass', 'MS Zoning', 'Street', 'Land Contour','Lot Config','Neighborhood','Condition 1', 'Condition 2','Bldg Type', 'House Style','Roof Style', 'Roof Matl',\n",
    "                  'Exterior 1st', 'Exterior 2nd','Mas Vnr Type', 'Mas Vnr Area','Foundation','Heating','Central Air', 'Garage Type','Functional','Bsmt Exposure']"
   ]
  },
  {
   "cell_type": "code",
   "execution_count": 25,
   "metadata": {},
   "outputs": [
    {
     "data": {
      "text/plain": [
       "['Street',\n",
       " 'Land Contour',\n",
       " 'Lot Config',\n",
       " 'Condition 1',\n",
       " 'Bldg Type',\n",
       " 'House Style',\n",
       " 'Roof Style',\n",
       " 'Roof Matl',\n",
       " 'Foundation',\n",
       " 'Central Air',\n",
       " 'Garage Type',\n",
       " 'Bsmt Exposure']"
      ]
     },
     "execution_count": 25,
     "metadata": {},
     "output_type": "execute_result"
    }
   ],
   "source": [
    "train_cats = [16, 7, 2, 4, 5, 28, 9, 8, 5, 8, 6, 6, 15, 15, 4, 373, 6, 5, 2, 7, 8, 5] #these are the value counts of training data catagories for each nominal column\n",
    "[val  for i,val in enumerate(nominal_columns) if (len(df[val].unique())) == train_cats[i]]\n",
    "#These are the nominal data columns we can use for both the training and test data, such that the model uses the same number of columns"
   ]
  },
  {
   "cell_type": "markdown",
   "metadata": {},
   "source": [
    "**Because we are only using these 12 categorical columns, not all categorical features will be one-hot encoded.**"
   ]
  },
  {
   "cell_type": "code",
   "execution_count": 26,
   "metadata": {},
   "outputs": [],
   "source": [
    "nominal_columns= ['Street',\n",
    " 'Land Contour',\n",
    " 'Lot Config',\n",
    " 'Condition 1',\n",
    " 'Bldg Type',\n",
    " 'House Style',\n",
    " 'Roof Style',\n",
    " 'Roof Matl',\n",
    " 'Foundation',\n",
    " 'Central Air',\n",
    " 'Garage Type',\n",
    " 'Bsmt Exposure']"
   ]
  },
  {
   "cell_type": "code",
   "execution_count": 27,
   "metadata": {},
   "outputs": [
    {
     "data": {
      "text/plain": [
       "12"
      ]
     },
     "execution_count": 27,
     "metadata": {},
     "output_type": "execute_result"
    }
   ],
   "source": [
    "len(nominal_columns)"
   ]
  },
  {
   "cell_type": "markdown",
   "metadata": {},
   "source": [
    "The function below one-hot-encodes the categorical columns"
   ]
  },
  {
   "cell_type": "code",
   "execution_count": 28,
   "metadata": {},
   "outputs": [
    {
     "data": {
      "text/plain": [
       "(878, 115)"
      ]
     },
     "execution_count": 28,
     "metadata": {},
     "output_type": "execute_result"
    }
   ],
   "source": [
    "def thats_one_hot_encoder(df, nc):\n",
    "    \n",
    "    df = pd.get_dummies(data = df, columns = nc, drop_first = True)\n",
    "    return df\n",
    "\n",
    "df = thats_one_hot_encoder(df, nominal_columns)\n",
    "\n",
    "df.shape"
   ]
  },
  {
   "cell_type": "code",
   "execution_count": 29,
   "metadata": {},
   "outputs": [],
   "source": [
    "report = df\n",
    "report.to_csv('./datasets/test_data_CLEAN.csv',index = False)"
   ]
  },
  {
   "cell_type": "code",
   "execution_count": 30,
   "metadata": {},
   "outputs": [
    {
     "data": {
      "text/plain": [
       "107"
      ]
     },
     "execution_count": 30,
     "metadata": {},
     "output_type": "execute_result"
    }
   ],
   "source": [
    "len(df._get_numeric_data().columns)"
   ]
  },
  {
   "cell_type": "code",
   "execution_count": null,
   "metadata": {},
   "outputs": [],
   "source": []
  }
 ],
 "metadata": {
  "kernelspec": {
   "display_name": "Python 3",
   "language": "python",
   "name": "python3"
  },
  "language_info": {
   "codemirror_mode": {
    "name": "ipython",
    "version": 3
   },
   "file_extension": ".py",
   "mimetype": "text/x-python",
   "name": "python",
   "nbconvert_exporter": "python",
   "pygments_lexer": "ipython3",
   "version": "3.8.5"
  }
 },
 "nbformat": 4,
 "nbformat_minor": 4
}
