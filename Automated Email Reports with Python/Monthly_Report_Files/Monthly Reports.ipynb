{
 "cells": [
  {
   "cell_type": "code",
   "execution_count": 1,
   "metadata": {},
   "outputs": [],
   "source": [
    "# imports for SQL data part\n",
    "\n",
    "import pandas as pd"
   ]
  },
  {
   "cell_type": "code",
   "execution_count": 2,
   "metadata": {},
   "outputs": [],
   "source": [
    "# imports for sending email\n",
    "from email.mime.text import MIMEText\n",
    "from email.mime.multipart import MIMEMultipart\n",
    "import smtplib\n"
   ]
  },
  {
   "cell_type": "code",
   "execution_count": 3,
   "metadata": {},
   "outputs": [
    {
     "name": "stderr",
     "output_type": "stream",
     "text": [
      "c:\\Users\\mriedeman\\Anaconda3\\lib\\site-packages\\pandas\\io\\sql.py:761: UserWarning: pandas only support SQLAlchemy connectable(engine/connection) ordatabase string URI or sqlite3 DBAPI2 connectionother DBAPI2 objects are not tested, please consider using SQLAlchemy\n",
      "  warnings.warn(\n"
     ]
    }
   ],
   "source": [
    "import pyodbc \n",
    "conn1 = pyodbc.connect('Driver={SQL Server};'\n",
    "                      'Server=SERVER_NAME;'                \n",
    "                      'Database=purchase_order;'\n",
    "                      'Trusted_Connection=yes;')\n",
    "\n",
    "cursor = conn1.cursor()\n",
    "query1= \"select * from [purchase_order].[dbo].[poData] WHERE DATEPART(m, requestDate) = DATEPART(m, DATEADD(m, -1, getdate())) AND DATEPART(yyyy, requestDate) = DATEPART(yyyy, DATEADD(m, -1, getdate())) order by requestDate;\"\n",
    "\n",
    "results = cursor.execute(query1).fetchall()\n",
    "\n",
    "df1=pd.read_sql_query(query1,conn1)\n",
    "\n",
    "df1.to_excel('purchase_order.xlsx', index = False)\n",
    "\n",
    "conn1.close()\n"
   ]
  },
  {
   "cell_type": "code",
   "execution_count": 4,
   "metadata": {},
   "outputs": [
    {
     "name": "stderr",
     "output_type": "stream",
     "text": [
      "c:\\Users\\mriedeman\\Anaconda3\\lib\\site-packages\\pandas\\io\\sql.py:761: UserWarning: pandas only support SQLAlchemy connectable(engine/connection) ordatabase string URI or sqlite3 DBAPI2 connectionother DBAPI2 objects are not tested, please consider using SQLAlchemy\n",
      "  warnings.warn(\n"
     ]
    }
   ],
   "source": [
    "\n",
    "conn2 = pyodbc.connect('Driver={SQL Server};'\n",
    "                      'Server=SERVER_NAME;'                \n",
    "                      'Database=oneway_processing;'\n",
    "                      'Trusted_Connection=yes;')\n",
    "\n",
    "cursor = conn2.cursor()\n",
    "query2= \"select * from [oneway_processing].[dbo].[onewayRequests] where DATEPART(m, reqDate) = DATEPART(m, DATEADD(m, -1, getdate())) AND DATEPART(yyyy, reqDate) = DATEPART(yyyy, DATEADD(m, -1, getdate())) order by reqDate;\"\n",
    "\n",
    "results = cursor.execute(query2).fetchall()\n",
    "\n",
    "df2=pd.read_sql_query(query2,conn2)\n",
    "\n",
    "df2.to_excel('oneway_requests.xlsx', index = False)\n",
    "\n",
    "conn2.close()"
   ]
  },
  {
   "cell_type": "code",
   "execution_count": 5,
   "metadata": {},
   "outputs": [
    {
     "name": "stderr",
     "output_type": "stream",
     "text": [
      "c:\\Users\\mriedeman\\Anaconda3\\lib\\site-packages\\pandas\\io\\sql.py:761: UserWarning: pandas only support SQLAlchemy connectable(engine/connection) ordatabase string URI or sqlite3 DBAPI2 connectionother DBAPI2 objects are not tested, please consider using SQLAlchemy\n",
      "  warnings.warn(\n"
     ]
    }
   ],
   "source": [
    "\n",
    "conn3 = pyodbc.connect('Driver={SQL Server};'\n",
    "                      'Server=SERVER_NAME;'                \n",
    "                      'Database=travelers_assistance;'\n",
    "                      'Trusted_Connection=yes;')\n",
    "\n",
    "cursor = conn3.cursor()\n",
    "query3= \"SELECT * FROM [travelers_assistance].[DBO].[crLogV2] WHERE DATEPART(m, logDateTime) = DATEPART(m, DATEADD(m, -1, getdate())) AND DATEPART(yyyy, logDateTime) = DATEPART(yyyy, DATEADD(m, -1, getdate()));\"\n",
    "\n",
    "results = cursor.execute(query3).fetchall()\n",
    "\n",
    "df3=pd.read_sql_query(query3,conn3)\n",
    "\n",
    "df3.to_excel('CR_logs.xlsx', index = False)\n",
    "\n",
    "conn3.close()"
   ]
  },
  {
   "cell_type": "code",
   "execution_count": 6,
   "metadata": {},
   "outputs": [
    {
     "name": "stderr",
     "output_type": "stream",
     "text": [
      "c:\\Users\\mriedeman\\Anaconda3\\lib\\site-packages\\pandas\\io\\sql.py:761: UserWarning: pandas only support SQLAlchemy connectable(engine/connection) ordatabase string URI or sqlite3 DBAPI2 connectionother DBAPI2 objects are not tested, please consider using SQLAlchemy\n",
      "  warnings.warn(\n"
     ]
    }
   ],
   "source": [
    "conn4 = pyodbc.connect('Driver={SQL Server};'\n",
    "                      'Server=SERVER_NAME;'                \n",
    "                      'Database=travelers_assistance;'\n",
    "                      'Trusted_Connection=yes;')\n",
    "\n",
    "cursor = conn4.cursor()\n",
    "query4= \"SELECT * FROM [travelers_assistance].[DBO].[taAssistanceLogsV2] WHERE DATEPART(m, logDateTime) = DATEPART(m, DATEADD(m, -1, getdate())) AND DATEPART(yyyy, logDateTime) = DATEPART(yyyy, DATEADD(m, -1, getdate()));\"\n",
    "\n",
    "results = cursor.execute(query4).fetchall()\n",
    "\n",
    "df4=pd.read_sql_query(query4,conn4)\n",
    "\n",
    "df4.to_excel('TA_logs.xlsx', index = False)\n",
    "\n",
    "conn4.close()"
   ]
  },
  {
   "cell_type": "code",
   "execution_count": 7,
   "metadata": {},
   "outputs": [
    {
     "data": {
      "text/plain": [
       "(221, b'2.0.0 Service closing transmission channel')"
      ]
     },
     "execution_count": 7,
     "metadata": {},
     "output_type": "execute_result"
    }
   ],
   "source": [
    "import smtplib\n",
    "from email.mime.text import MIMEText\n",
    "from email.mime.multipart import MIMEMultipart\n",
    "from email.mime.base import MIMEBase\n",
    "from email.utils import formatdate\n",
    "from email import encoders\n",
    "\n",
    "\n",
    "    \n",
    "msg_txt= \"**Automated Email**\\n\\nHey Joey,\\n\\nHere are the monthly reports for last month.\\n\\nBest,\\nMichael\"\n",
    "  \n",
    "\n",
    "msg = MIMEMultipart()\n",
    "    \n",
    "msg['Subject'] = \"Monthly Reports\"\n",
    "msg.attach(MIMEText(msg_txt))# add text contents\n",
    "\n",
    "\n",
    "part1 = MIMEBase('application', \"octet-stream\")\n",
    "part1.set_payload(open(\"purchase_order.xlsx\", \"rb\").read())\n",
    "encoders.encode_base64(part1)\n",
    "part1.add_header('Content-Disposition', 'attachment; filename=\"purchase_order.xlsx\"')\n",
    "msg.attach(part1)\n",
    "\n",
    "part2 = MIMEBase('application', \"octet-stream\")\n",
    "part2.set_payload(open(\"oneway_requests.xlsx\", \"rb\").read())\n",
    "encoders.encode_base64(part2)\n",
    "part2.add_header('Content-Disposition', 'attachment; filename=\"oneway_requests.xlsx\"')\n",
    "msg.attach(part2)\n",
    "\n",
    "part3 = MIMEBase('application', \"octet-stream\")\n",
    "part3.set_payload(open(\"CR_logs.xlsx\", \"rb\").read())\n",
    "encoders.encode_base64(part3)\n",
    "part3.add_header('Content-Disposition', 'attachment; filename=\"CR_logs.xlsx\"')\n",
    "msg.attach(part3)\n",
    "\n",
    "part4 = MIMEBase('application', \"octet-stream\")\n",
    "part4.set_payload(open(\"TA_logs.xlsx\", \"rb\").read())\n",
    "encoders.encode_base64(part4)\n",
    "part4.add_header('Content-Disposition', 'attachment; filename=\"TA_logs.xlsx\"')\n",
    "msg.attach(part4)\n",
    "\n",
    "\n",
    "# we will send via outlook, first we initialise connection to mail server\n",
    "smtp = smtplib.SMTP('smtp-mail.outlook.com', '587')\n",
    "smtp.ehlo()  # say hello to the server\n",
    "smtp.starttls()\n",
    "\n",
    "# change these as per use\n",
    "smtp.login('MYEMAIL@OUTLOOK.COM', 'PASSWORD')\n",
    "\n",
    "# send email to our boss\n",
    "smtp.sendmail('MYEMAIL@OUTLOOK.COM', 'COWORKER@OUTLOOK.COM', msg.as_string())  # 'jreed@cruiseamerica.com'\n",
    "    \n",
    "smtp.quit()"
   ]
  },
  {
   "cell_type": "code",
   "execution_count": null,
   "metadata": {},
   "outputs": [],
   "source": []
  }
 ],
 "metadata": {
  "interpreter": {
   "hash": "29b3082124edaad559b18bf6d45f1f8684191a0c4a23f8bc3b2f284e4ccc27be"
  },
  "kernelspec": {
   "display_name": "Python 3.9.12 ('base')",
   "language": "python",
   "name": "python3"
  },
  "language_info": {
   "codemirror_mode": {
    "name": "ipython",
    "version": 3
   },
   "file_extension": ".py",
   "mimetype": "text/x-python",
   "name": "python",
   "nbconvert_exporter": "python",
   "pygments_lexer": "ipython3",
   "version": "3.9.12"
  }
 },
 "nbformat": 4,
 "nbformat_minor": 4
}
