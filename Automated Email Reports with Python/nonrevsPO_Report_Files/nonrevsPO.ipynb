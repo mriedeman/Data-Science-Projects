{
 "cells": [
  {
   "cell_type": "code",
   "execution_count": 1,
   "metadata": {},
   "outputs": [],
   "source": [
    "# imports for SQL data part\n",
    "\n",
    "import pandas as pd\n",
    "import numpy as np\n"
   ]
  },
  {
   "cell_type": "code",
   "execution_count": 2,
   "metadata": {},
   "outputs": [],
   "source": [
    "# imports for sending email\n",
    "from email.mime.text import MIMEText\n",
    "from email.mime.multipart import MIMEMultipart\n",
    "import smtplib"
   ]
  },
  {
   "cell_type": "code",
   "execution_count": 3,
   "metadata": {},
   "outputs": [],
   "source": [
    "import pyodbc \n",
    "conn = pyodbc.connect('Driver={SQL Server};'\n",
    "                      'Server=SERVER_NAME;'                \n",
    "                      'Database=purchase_order;'\n",
    "                      'Trusted_Connection=yes;')"
   ]
  },
  {
   "cell_type": "code",
   "execution_count": 4,
   "metadata": {},
   "outputs": [
    {
     "name": "stderr",
     "output_type": "stream",
     "text": [
      "c:\\Users\\mriedeman\\Anaconda3\\lib\\site-packages\\pandas\\io\\sql.py:761: UserWarning: pandas only support SQLAlchemy connectable(engine/connection) ordatabase string URI or sqlite3 DBAPI2 connectionother DBAPI2 objects are not tested, please consider using SQLAlchemy\n",
      "  warnings.warn(\n"
     ]
    }
   ],
   "source": [
    "cursor = conn.cursor()\n",
    "query= \"with records as (select f.vehNum,vehVIN, f.vehYear, f.vehStatus, f.idleDate , f.vehLoc, requestDate,row_number() over (partition by[VehVIN] order by requestDate desc ) as sr from purchase_order.dbo.fleet f left join purchase_order.dbo.poData p on f.vehNum = p.vehNum where f.vehStatus = 'N') Select vehLoc,vehNum,cast(idleDate as date) as nonrevDate,cast(requestDate as date) as latestPO, DATEDIFF(DAY,   idleDate, GETDATE()) as idleDays,isnull(DATEDIFF(DAY,requestDate, GETDATE()),null) as days_sincePO from records where sr=1  order by days_sincePO desc, idleDays, vehLoc \"\n",
    "results = cursor.execute(query).fetchall()\n",
    "\n",
    "df=pd.read_sql_query(query,conn)"
   ]
  },
  {
   "cell_type": "code",
   "execution_count": 5,
   "metadata": {},
   "outputs": [],
   "source": [
    "df['days_sincePO'] = np.where(df['days_sincePO'] >= df['idleDays'], df['idleDays'],df['days_sincePO'] )"
   ]
  },
  {
   "cell_type": "code",
   "execution_count": 6,
   "metadata": {
    "scrolled": true
   },
   "outputs": [],
   "source": [
    "df=df.sort_values (by='days_sincePO',ascending=False)"
   ]
  },
  {
   "cell_type": "code",
   "execution_count": 7,
   "metadata": {},
   "outputs": [],
   "source": [
    "df.to_excel('nonrevsPO.xlsx', index = False)\n",
    "conn.close()"
   ]
  },
  {
   "cell_type": "code",
   "execution_count": 8,
   "metadata": {},
   "outputs": [
    {
     "data": {
      "text/plain": [
       "(221, b'2.0.0 Service closing transmission channel')"
      ]
     },
     "execution_count": 8,
     "metadata": {},
     "output_type": "execute_result"
    }
   ],
   "source": [
    "import smtplib\n",
    "from email.mime.text import MIMEText\n",
    "from email.mime.multipart import MIMEMultipart\n",
    "from email.mime.base import MIMEBase\n",
    "from email.utils import formatdate\n",
    "from email import encoders\n",
    "\n",
    "msg_txt= \"**Automated Email**\\n\\nGentlemen,\\n\\nHere is the weekly report for purchase orders made for vehicles in non-rev.\\n\\nMichael\"\n",
    "  \n",
    "\n",
    "msg = MIMEMultipart()\n",
    "\n",
    "from_addr = 'MY_EMAIL@OUTLOOK.COM'\n",
    "to_addr = ['COWORKER_EMAIL@OUTLOOK.COM']\n",
    "msg = MIMEMultipart()\n",
    "msg['From'] = from_addr\n",
    "msg['To'] = \", \".join(to_addr)\n",
    "    \n",
    "msg['Subject'] = \"Non-Rev Purchase Orders\"\n",
    "msg.attach(MIMEText(msg_txt))\n",
    "\n",
    "part = MIMEBase('application', \"octet-stream\")\n",
    "part.set_payload(open(\"nonrevsPO.xlsx\", \"rb\").read())\n",
    "encoders.encode_base64(part)\n",
    "part.add_header('Content-Disposition', 'attachment; filename=\"nonrevsPO.xlsx\"')\n",
    "msg.attach(part)\n",
    "\n",
    "# we will send via outlook, first we initialise connection to mail server\n",
    "server = smtplib.SMTP('smtp-mail.outlook.com', '587')\n",
    "server.ehlo()  # say hello to the server\n",
    "server.starttls()\n",
    "\n",
    "server.login('MY_EMAIL@OUTLOOK.COM', 'PASSWORD')\n",
    "\n",
    "text = msg.as_string()\n",
    "\n",
    "#Compile email: From, To, Email body\n",
    "server.sendmail(from_addr, to_addr, text)\n",
    "  \n",
    "    \n",
    "server.quit()"
   ]
  },
  {
   "cell_type": "code",
   "execution_count": null,
   "metadata": {},
   "outputs": [],
   "source": []
  }
 ],
 "metadata": {
  "interpreter": {
   "hash": "29b3082124edaad559b18bf6d45f1f8684191a0c4a23f8bc3b2f284e4ccc27be"
  },
  "kernelspec": {
   "display_name": "Python 3.9.12 ('base')",
   "language": "python",
   "name": "python3"
  },
  "language_info": {
   "codemirror_mode": {
    "name": "ipython",
    "version": 3
   },
   "file_extension": ".py",
   "mimetype": "text/x-python",
   "name": "python",
   "nbconvert_exporter": "python",
   "pygments_lexer": "ipython3",
   "version": "3.9.12"
  }
 },
 "nbformat": 4,
 "nbformat_minor": 4
}
