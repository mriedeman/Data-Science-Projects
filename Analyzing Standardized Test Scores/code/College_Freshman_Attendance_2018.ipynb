{
 "cells": [
  {
   "cell_type": "markdown",
   "metadata": {},
   "source": [
    "<img src=\"http://imgur.com/1ZcRyrc.png\" style=\"float: left; margin: 20px; height: 55px\">\n",
    "\n",
    "# Project 1: Standardized Test Analysis"
   ]
  },
  {
   "cell_type": "markdown",
   "metadata": {},
   "source": [
    "--- \n",
    "# Part 1\n",
    "\n",
    "Part 1 requires knowledge of basic Python.\n",
    "\n",
    "---"
   ]
  },
  {
   "cell_type": "markdown",
   "metadata": {},
   "source": [
    "## Problem Statement"
   ]
  },
  {
   "cell_type": "markdown",
   "metadata": {},
   "source": [
    "Decide on your problem statement that will guide your analysis for this project. For guidelines, sample prompts, or inspiration, check out the README.\n",
    "\n",
    "**To-Do:** *Replace this cell with your problem statement.*"
   ]
  },
  {
   "cell_type": "markdown",
   "metadata": {},
   "source": [
    "### Contents:\n",
    "- [Background](#Background)\n",
    "- [Data Import & Cleaning](#Data-Import-and-Cleaning)\n",
    "- [Exploratory Data Analysis](#Exploratory-Data-Analysis)\n",
    "- [Data Visualization](#Visualize-the-Data)\n",
    "- [Conclusions and Recommendations](#Conclusions-and-Recommendations)"
   ]
  },
  {
   "cell_type": "markdown",
   "metadata": {},
   "source": [
    "## Background"
   ]
  },
  {
   "cell_type": "markdown",
   "metadata": {},
   "source": [
    "The SAT and ACT are standardized tests that many colleges and universities in the United States require for their admissions process. This score is used along with other materials such as grade point average (GPA) and essay responses to determine whether or not a potential student will be accepted to the university.\n",
    "\n",
    "The SAT has two sections of the test: Evidence-Based Reading and Writing and Math ([*source*](https://www.princetonreview.com/college/sat-sections)). The ACT has 4 sections: English, Mathematics, Reading, and Science, with an additional optional writing section ([*source*](https://www.act.org/content/act/en/products-and-services/the-act/scores/understanding-your-scores.html)). They have different score ranges, which you can read more about on their websites or additional outside sources (a quick Google search will help you understand the scores for each test):\n",
    "* [SAT](https://collegereadiness.collegeboard.org/sat)\n",
    "* [ACT](https://www.act.org/content/act/en.html)\n",
    "\n",
    "Standardized tests have long been a controversial topic for students, administrators, and legislators. Since the 1940's, an increasing number of colleges have been using scores from sudents' performances on tests like the SAT and the ACT as a measure for college readiness and aptitude ([*source*](https://www.minotdailynews.com/news/local-news/2017/04/a-brief-history-of-the-sat-and-act/)). Supporters of these tests argue that these scores can be used as an objective measure to determine college admittance. Opponents of these tests claim that these tests are not accurate measures of students potential or ability and serve as an inequitable barrier to entry. Lately, more and more schools are opting to drop the SAT/ACT requirement for their Fall 2021 applications ([*read more about this here*](https://www.cnn.com/2020/04/14/us/coronavirus-colleges-sat-act-test-trnd/index.html))."
   ]
  },
  {
   "cell_type": "markdown",
   "metadata": {},
   "source": [
    "**To-Do:** *Fill out this cell (or edit the above cell) with any other background or information that is necessary for your problem statement.*"
   ]
  },
  {
   "cell_type": "markdown",
   "metadata": {},
   "source": [
    "### Choose your Data\n",
    "\n",
    "There are 10 datasets included in the [`data`](./data/) folder for this project. You are required to pick **at least two** of these to complete your analysis. Feel free to use more than two if you would like, or add other relevant datasets you find online.\n",
    "\n",
    "* [`act_2017.csv`](./data/act_2017.csv): 2017 ACT Scores by State\n",
    "* [`act_2018.csv`](./data/act_2018.csv): 2018 ACT Scores by State\n",
    "* [`act_2019.csv`](./data/act_2019.csv): 2019 ACT Scores by State\n",
    "* [`act_2019_ca.csv`](./data/act_2019_ca.csv): 2019 ACT Scores in California by School\n",
    "* [`sat_2017.csv`](./data/sat_2017.csv): 2017 SAT Scores by State\n",
    "* [`sat_2018.csv`](./data/sat_2018.csv): 2018 SAT Scores by State\n",
    "* [`sat_2019.csv`](./data/sat_2019.csv): 2019 SAT Scores by State\n",
    "* [`sat_2019_by_intended_college_major.csv`](./data/sat_2019_by_intended_college_major.csv): 2019 SAT Scores by Intended College Major\n",
    "* [`sat_2019_ca.csv`](./data/sat_2019_ca.csv): 2019 SAT Scores in California by School\n",
    "* [`sat_act_by_college.csv`](./data/sat_act_by_college.csv): Ranges of Accepted ACT & SAT Student Scores by Colleges"
   ]
  },
  {
   "cell_type": "markdown",
   "metadata": {},
   "source": [
    "**To-Do:** *Fill out this cell with the datasets you will use for your analysis. Write a brief description of the contents for each dataset that you choose.*"
   ]
  },
  {
   "cell_type": "markdown",
   "metadata": {},
   "source": [
    "### Outside Research"
   ]
  },
  {
   "cell_type": "markdown",
   "metadata": {},
   "source": [
    "Based on your problem statement and your chosen datasets, spend some time doing outside research on state policies or additional information that might be relevant. Summarize your findings below. If you bring in any outside tables or charts, make sure you are explicit about having borrowed them. If you quote any text, make sure that it renders as being quoted. **Make sure that you cite your sources.**"
   ]
  },
  {
   "cell_type": "markdown",
   "metadata": {},
   "source": [
    "**To-Do:** *Fill out this cell with outside research or any additional background information that will support your analysis.*"
   ]
  },
  {
   "cell_type": "markdown",
   "metadata": {},
   "source": [
    "### Coding Challenges\n",
    "\n",
    "1. Manually calculate mean:\n",
    "\n",
    "    Write a function that takes in values and returns the mean of the values. Create a list of numbers that you test on your function to check to make sure your function works!\n",
    "    \n",
    "    *Note*: Do not use any mean methods built-in to any Python libraries to do this! This should be done without importing any additional libraries."
   ]
  },
  {
   "cell_type": "code",
   "execution_count": 1,
   "metadata": {},
   "outputs": [
    {
     "data": {
      "text/plain": [
       "7.0"
      ]
     },
     "execution_count": 1,
     "metadata": {},
     "output_type": "execute_result"
    }
   ],
   "source": [
    "numbered_list = [2,4,7,8, 14]\n",
    "\n",
    "def calc_mean(numbers):\n",
    "    \"\"\"Calculates the mean value given a list of numbers\"\"\"\n",
    "    #initialize a counter called total at 0 and loop through each number in the list and add it to the total. Divide by the length of the list to calculate the mean.\n",
    "    total = 0\n",
    "    \n",
    "    for num in numbers:\n",
    "        total += num\n",
    "    mean = total/len(numbers)\n",
    "    return mean\n",
    "\n",
    "calc_mean(numbered_list)"
   ]
  },
  {
   "cell_type": "markdown",
   "metadata": {},
   "source": [
    "2. Manually calculate standard deviation:\n",
    "\n",
    "    The formula for standard deviation is below:\n",
    "\n",
    "    $$\\sigma = \\sqrt{\\frac{1}{n}\\sum_{i=1}^n(x_i - \\mu)^2}$$\n",
    "\n",
    "    Where $x_i$ represents each value in the dataset, $\\mu$ represents the mean of all values in the dataset and $n$ represents the number of values in the dataset.\n",
    "\n",
    "    Write a function that takes in values and returns the standard deviation of the values using the formula above. Hint: use the function you wrote above to calculate the mean! Use the list of numbers you created above to test on your function.\n",
    "    \n",
    "    *Note*: Do not use any standard deviation methods built-in to any Python libraries to do this! This should be done without importing any additional libraries."
   ]
  },
  {
   "cell_type": "code",
   "execution_count": 2,
   "metadata": {},
   "outputs": [
    {
     "data": {
      "text/plain": [
       "4.09878030638384"
      ]
     },
     "execution_count": 2,
     "metadata": {},
     "output_type": "execute_result"
    }
   ],
   "source": [
    "def st_dev(num_list):\n",
    "    \"\"\"Calculates the standard deviation given a list of numbers.\"\"\"\n",
    "    #use the calc_mean function created above to calculate the mean of the given list of numbers\n",
    "    mean = calc_mean(num_list)\n",
    "    \n",
    "    #create a count variable that is the sum of the individual deviations from the mean squared \n",
    "    sum_dev_squared = 0\n",
    "    \n",
    "    #loop through each number in the list to perform the calculation stated above\n",
    "    for num in num_list:\n",
    "        \n",
    "        i = (num-mean)**2\n",
    "        \n",
    "        sum_dev_squared += i\n",
    "    \n",
    "    #finish the calculation by dividing by the total number of values and square that figure to finish the std calc\n",
    "    std = (sum_dev_squared/len(num_list))**(1/2)\n",
    "    \n",
    "    return std\n",
    "\n",
    "st_dev(numbered_list)\n",
    "        \n",
    "    "
   ]
  },
  {
   "cell_type": "markdown",
   "metadata": {},
   "source": [
    "3. Data cleaning function:\n",
    "    \n",
    "    Write a function that takes in a string that is a number and a percent symbol (ex. '50%', '30.5%', etc.) and converts this to a float that is the decimal approximation of the percent. For example, inputting '50%' in your function should return 0.5, '30.5%' should return 0.305, etc. Make sure to test your function to make sure it works!\n",
    "\n",
    "You will use these functions later on in the project!"
   ]
  },
  {
   "cell_type": "code",
   "execution_count": 3,
   "metadata": {},
   "outputs": [
    {
     "data": {
      "text/plain": [
       "0.305"
      ]
     },
     "execution_count": 3,
     "metadata": {},
     "output_type": "execute_result"
    }
   ],
   "source": [
    "percent_string = '30.5%'\n",
    "\n",
    "def convert_percent_string(value):\n",
    "    \"\"\"Converts a percentage that is a string type into a normalized float\"\"\"\n",
    "    \n",
    "    #The strip method removes the percent sign from the string. It is then converted to a float value so it can be divided by 100\n",
    "    convert = float((value.strip('%')))/100\n",
    "    return convert\n",
    "\n",
    "convert_percent_string(percent_string)\n"
   ]
  },
  {
   "cell_type": "markdown",
   "metadata": {},
   "source": [
    "--- \n",
    "# Part 2\n",
    "\n",
    "Part 2 requires knowledge of Pandas, EDA, data cleaning, and data visualization.\n",
    "\n",
    "---"
   ]
  },
  {
   "cell_type": "markdown",
   "metadata": {},
   "source": [
    "*All libraries used should be added here*"
   ]
  },
  {
   "cell_type": "code",
   "execution_count": 4,
   "metadata": {},
   "outputs": [],
   "source": [
    "# Imports:\n",
    "import numpy as np\n",
    "import pandas as pd\n",
    "import matplotlib.pyplot as plt\n",
    "import seaborn as sns"
   ]
  },
  {
   "cell_type": "markdown",
   "metadata": {},
   "source": [
    "## Data Import and Cleaning"
   ]
  },
  {
   "cell_type": "markdown",
   "metadata": {},
   "source": [
    "### Data Import & Cleaning\n",
    "\n",
    "Import the datasets that you selected for this project and go through the following steps at a minimum. You are welcome to do further cleaning as you feel necessary:\n",
    "1. Display the data: print the first 5 rows of each dataframe to your Jupyter notebook.\n",
    "2. Check for missing values.\n",
    "3. Check for any obvious issues with the observations (keep in mind the minimum & maximum possible values for each test/subtest).\n",
    "4. Fix any errors you identified in steps 2-3.\n",
    "5. Display the data types of each feature.\n",
    "6. Fix any incorrect data types found in step 5.\n",
    "    - Fix any individual values preventing other columns from being the appropriate type.\n",
    "    - If your dataset has a column of percents (ex. '50%', '30.5%', etc.), use the function you wrote in Part 1 (coding challenges, number 3) to convert this to floats! *Hint*: use `.map()` or `.apply()`.\n",
    "7. Rename Columns.\n",
    "    - Column names should be all lowercase.\n",
    "    - Column names should not contain spaces (underscores will suffice--this allows for using the `df.column_name` method to access columns in addition to `df['column_name']`).\n",
    "    - Column names should be unique and informative.\n",
    "8. Drop unnecessary rows (if needed).\n",
    "9. Merge dataframes that can be merged.\n",
    "10. Perform any additional cleaning that you feel is necessary.\n",
    "11. Save your cleaned and merged dataframes as csv files."
   ]
  },
  {
   "cell_type": "markdown",
   "metadata": {},
   "source": [
    "1. Display the Data"
   ]
  },
  {
   "cell_type": "code",
   "execution_count": 5,
   "metadata": {
    "scrolled": true
   },
   "outputs": [
    {
     "data": {
      "text/html": [
       "<div>\n",
       "<style scoped>\n",
       "    .dataframe tbody tr th:only-of-type {\n",
       "        vertical-align: middle;\n",
       "    }\n",
       "\n",
       "    .dataframe tbody tr th {\n",
       "        vertical-align: top;\n",
       "    }\n",
       "\n",
       "    .dataframe thead th {\n",
       "        text-align: right;\n",
       "    }\n",
       "</style>\n",
       "<table border=\"1\" class=\"dataframe\">\n",
       "  <thead>\n",
       "    <tr style=\"text-align: right;\">\n",
       "      <th></th>\n",
       "      <th>State</th>\n",
       "      <th>Percent of High School Graduates Going Directly to College (%)</th>\n",
       "      <th>Projected High School Graduates - 2018</th>\n",
       "      <th>First-Time Freshmen Directly from High School Enrolled Anywhere in the US - Fall 2018</th>\n",
       "    </tr>\n",
       "  </thead>\n",
       "  <tbody>\n",
       "    <tr>\n",
       "      <th>0</th>\n",
       "      <td>Alabama</td>\n",
       "      <td>65.95</td>\n",
       "      <td>48,690</td>\n",
       "      <td>32,111</td>\n",
       "    </tr>\n",
       "    <tr>\n",
       "      <th>1</th>\n",
       "      <td>Alaska</td>\n",
       "      <td>41.14</td>\n",
       "      <td>7,758</td>\n",
       "      <td>3,192</td>\n",
       "    </tr>\n",
       "    <tr>\n",
       "      <th>2</th>\n",
       "      <td>Arizona</td>\n",
       "      <td>50.09</td>\n",
       "      <td>68,985</td>\n",
       "      <td>34,558</td>\n",
       "    </tr>\n",
       "    <tr>\n",
       "      <th>3</th>\n",
       "      <td>Arkansas</td>\n",
       "      <td>63.13</td>\n",
       "      <td>31,315</td>\n",
       "      <td>19,770</td>\n",
       "    </tr>\n",
       "    <tr>\n",
       "      <th>4</th>\n",
       "      <td>California</td>\n",
       "      <td>66.01</td>\n",
       "      <td>431,009</td>\n",
       "      <td>284,529</td>\n",
       "    </tr>\n",
       "  </tbody>\n",
       "</table>\n",
       "</div>"
      ],
      "text/plain": [
       "        State  Percent of High School Graduates Going Directly to College (%)  \\\n",
       "0     Alabama                                              65.95                \n",
       "1      Alaska                                              41.14                \n",
       "2     Arizona                                              50.09                \n",
       "3    Arkansas                                              63.13                \n",
       "4  California                                              66.01                \n",
       "\n",
       "  Projected High School Graduates - 2018  \\\n",
       "0                                 48,690   \n",
       "1                                  7,758   \n",
       "2                                 68,985   \n",
       "3                                 31,315   \n",
       "4                                431,009   \n",
       "\n",
       "  First-Time Freshmen Directly from High School Enrolled Anywhere in the US - Fall 2018  \n",
       "0                                             32,111                                     \n",
       "1                                              3,192                                     \n",
       "2                                             34,558                                     \n",
       "3                                             19,770                                     \n",
       "4                                            284,529                                     "
      ]
     },
     "execution_count": 5,
     "metadata": {},
     "output_type": "execute_result"
    }
   ],
   "source": [
    "att = pd.read_csv('../data/college_attendance_2018.csv')\n",
    "att.head()"
   ]
  },
  {
   "cell_type": "markdown",
   "metadata": {},
   "source": [
    "2. Check for missing values."
   ]
  },
  {
   "cell_type": "code",
   "execution_count": 6,
   "metadata": {},
   "outputs": [
    {
     "data": {
      "text/plain": [
       "State                                                                                    0\n",
       "Percent of High School Graduates Going Directly to College (%)                           0\n",
       "Projected High School Graduates - 2018                                                   0\n",
       "First-Time Freshmen Directly from High School Enrolled Anywhere in the US - Fall 2018    0\n",
       "dtype: int64"
      ]
     },
     "execution_count": 6,
     "metadata": {},
     "output_type": "execute_result"
    }
   ],
   "source": [
    "#no missing values\n",
    "att.isnull().sum()"
   ]
  },
  {
   "cell_type": "markdown",
   "metadata": {},
   "source": [
    "3. Check for any obvious issues with the observations"
   ]
  },
  {
   "cell_type": "code",
   "execution_count": 7,
   "metadata": {},
   "outputs": [
    {
     "data": {
      "text/plain": [
       "(51, 4)"
      ]
     },
     "execution_count": 7,
     "metadata": {},
     "output_type": "execute_result"
    }
   ],
   "source": [
    "att.shape"
   ]
  },
  {
   "cell_type": "code",
   "execution_count": 8,
   "metadata": {},
   "outputs": [
    {
     "data": {
      "text/plain": [
       "array(['Alabama', 'Alaska', 'Arizona', 'Arkansas', 'California',\n",
       "       'Colorado', 'Connecticut', 'Delaware', 'Florida', 'Georgia',\n",
       "       'Hawaii', 'Idaho', 'Illinois', 'Indiana', 'Iowa', 'Kansas',\n",
       "       'Kentucky', 'Louisiana', 'Maine', 'Maryland', 'Massachusetts',\n",
       "       'Michigan', 'Minnesota', 'Mississippi', 'Missouri', 'Montana',\n",
       "       'Nebraska', 'Nevada', 'New Hampshire', 'New Jersey', 'New Mexico',\n",
       "       'New York', 'North Carolina', 'North Dakota', 'Ohio', 'Oklahoma',\n",
       "       'Oregon', 'Pennsylvania', 'Rhode Island', 'South Carolina',\n",
       "       'South Dakota', 'Tennessee', 'Texas', 'Utah', 'Vermont',\n",
       "       'Virginia', 'Washington', 'West Virginia', 'Wisconsin', 'Wyoming',\n",
       "       'Nation'], dtype=object)"
      ]
     },
     "execution_count": 8,
     "metadata": {},
     "output_type": "execute_result"
    }
   ],
   "source": [
    "att['State'].unique()"
   ]
  },
  {
   "cell_type": "code",
   "execution_count": 9,
   "metadata": {},
   "outputs": [
    {
     "data": {
      "text/plain": [
       "Index(['State',\n",
       "       'Percent of High School Graduates Going Directly to College (%)',\n",
       "       'Projected High School Graduates - 2018',\n",
       "       'First-Time Freshmen Directly from High School Enrolled Anywhere in the US - Fall 2018'],\n",
       "      dtype='object')"
      ]
     },
     "execution_count": 9,
     "metadata": {},
     "output_type": "execute_result"
    }
   ],
   "source": [
    "att.columns"
   ]
  },
  {
   "cell_type": "code",
   "execution_count": 10,
   "metadata": {},
   "outputs": [
    {
     "data": {
      "text/plain": [
       "Missouri          1\n",
       "Florida           1\n",
       "North Dakota      1\n",
       "Tennessee         1\n",
       "Utah              1\n",
       "California        1\n",
       "Arkansas          1\n",
       "South Carolina    1\n",
       "Pennsylvania      1\n",
       "New Hampshire     1\n",
       "Louisiana         1\n",
       "Rhode Island      1\n",
       "Virginia          1\n",
       "Wyoming           1\n",
       "Maine             1\n",
       "Massachusetts     1\n",
       "Arizona           1\n",
       "New York          1\n",
       "Colorado          1\n",
       "Illinois          1\n",
       "Connecticut       1\n",
       "Michigan          1\n",
       "Nebraska          1\n",
       "Wisconsin         1\n",
       "Georgia           1\n",
       "Alaska            1\n",
       "West Virginia     1\n",
       "Texas             1\n",
       "Oklahoma          1\n",
       "Iowa              1\n",
       "Indiana           1\n",
       "Minnesota         1\n",
       "Nation            1\n",
       "Delaware          1\n",
       "New Mexico        1\n",
       "Kansas            1\n",
       "Mississippi       1\n",
       "South Dakota      1\n",
       "Kentucky          1\n",
       "Hawaii            1\n",
       "Idaho             1\n",
       "Washington        1\n",
       "North Carolina    1\n",
       "Maryland          1\n",
       "Oregon            1\n",
       "New Jersey        1\n",
       "Ohio              1\n",
       "Montana           1\n",
       "Nevada            1\n",
       "Alabama           1\n",
       "Vermont           1\n",
       "Name: State, dtype: int64"
      ]
     },
     "execution_count": 10,
     "metadata": {},
     "output_type": "execute_result"
    }
   ],
   "source": [
    "#Nation value will be dropped\n",
    "att['State'].value_counts()"
   ]
  },
  {
   "cell_type": "markdown",
   "metadata": {},
   "source": [
    "4. Fix any errors identified in steps 2-3"
   ]
  },
  {
   "cell_type": "code",
   "execution_count": 11,
   "metadata": {},
   "outputs": [],
   "source": [
    "#Nation value will be dropped below\n",
    "#The only column to remain will be the % of high school graduates going directly to college."
   ]
  },
  {
   "cell_type": "markdown",
   "metadata": {},
   "source": [
    "5. Display the data types of each feature."
   ]
  },
  {
   "cell_type": "code",
   "execution_count": 12,
   "metadata": {},
   "outputs": [
    {
     "name": "stdout",
     "output_type": "stream",
     "text": [
      "<class 'pandas.core.frame.DataFrame'>\n",
      "RangeIndex: 51 entries, 0 to 50\n",
      "Data columns (total 4 columns):\n",
      " #   Column                                                                                 Non-Null Count  Dtype  \n",
      "---  ------                                                                                 --------------  -----  \n",
      " 0   State                                                                                  51 non-null     object \n",
      " 1   Percent of High School Graduates Going Directly to College (%)                         51 non-null     float64\n",
      " 2   Projected High School Graduates - 2018                                                 51 non-null     object \n",
      " 3   First-Time Freshmen Directly from High School Enrolled Anywhere in the US - Fall 2018  51 non-null     object \n",
      "dtypes: float64(1), object(3)\n",
      "memory usage: 1.7+ KB\n"
     ]
    }
   ],
   "source": [
    "#All values \n",
    "att.info()"
   ]
  },
  {
   "cell_type": "markdown",
   "metadata": {},
   "source": [
    "6. Fix any incorrect data types found in step 5."
   ]
  },
  {
   "cell_type": "code",
   "execution_count": null,
   "metadata": {},
   "outputs": [],
   "source": []
  },
  {
   "cell_type": "code",
   "execution_count": null,
   "metadata": {},
   "outputs": [],
   "source": []
  },
  {
   "cell_type": "code",
   "execution_count": 13,
   "metadata": {},
   "outputs": [
    {
     "name": "stdout",
     "output_type": "stream",
     "text": [
      "<class 'pandas.core.frame.DataFrame'>\n",
      "RangeIndex: 51 entries, 0 to 50\n",
      "Data columns (total 4 columns):\n",
      " #   Column                                                                                 Non-Null Count  Dtype  \n",
      "---  ------                                                                                 --------------  -----  \n",
      " 0   State                                                                                  51 non-null     object \n",
      " 1   Percent of High School Graduates Going Directly to College (%)                         51 non-null     float64\n",
      " 2   Projected High School Graduates - 2018                                                 51 non-null     object \n",
      " 3   First-Time Freshmen Directly from High School Enrolled Anywhere in the US - Fall 2018  51 non-null     object \n",
      "dtypes: float64(1), object(3)\n",
      "memory usage: 1.7+ KB\n"
     ]
    }
   ],
   "source": [
    "#Convert object strings to integers, \n",
    "att['Projected High School Graduates - 2018'] = [value.replace(\",\",\"\") for value in att['Projected High School Graduates - 2018']]\n",
    "att.info()"
   ]
  },
  {
   "cell_type": "code",
   "execution_count": 14,
   "metadata": {},
   "outputs": [
    {
     "name": "stdout",
     "output_type": "stream",
     "text": [
      "<class 'pandas.core.frame.DataFrame'>\n",
      "RangeIndex: 51 entries, 0 to 50\n",
      "Data columns (total 4 columns):\n",
      " #   Column                                                                                 Non-Null Count  Dtype  \n",
      "---  ------                                                                                 --------------  -----  \n",
      " 0   State                                                                                  51 non-null     object \n",
      " 1   Percent of High School Graduates Going Directly to College (%)                         51 non-null     float64\n",
      " 2   Projected High School Graduates - 2018                                                 51 non-null     int64  \n",
      " 3   First-Time Freshmen Directly from High School Enrolled Anywhere in the US - Fall 2018  51 non-null     object \n",
      "dtypes: float64(1), int64(1), object(2)\n",
      "memory usage: 1.7+ KB\n"
     ]
    }
   ],
   "source": [
    "att['Projected High School Graduates - 2018'] = [int(value) for value in att['Projected High School Graduates - 2018']]\n",
    "att.info()"
   ]
  },
  {
   "cell_type": "code",
   "execution_count": null,
   "metadata": {},
   "outputs": [],
   "source": []
  },
  {
   "cell_type": "code",
   "execution_count": 15,
   "metadata": {},
   "outputs": [
    {
     "name": "stdout",
     "output_type": "stream",
     "text": [
      "<class 'pandas.core.frame.DataFrame'>\n",
      "RangeIndex: 51 entries, 0 to 50\n",
      "Data columns (total 4 columns):\n",
      " #   Column                                                                                 Non-Null Count  Dtype  \n",
      "---  ------                                                                                 --------------  -----  \n",
      " 0   State                                                                                  51 non-null     object \n",
      " 1   Percent of High School Graduates Going Directly to College (%)                         51 non-null     float64\n",
      " 2   Projected High School Graduates - 2018                                                 51 non-null     int64  \n",
      " 3   First-Time Freshmen Directly from High School Enrolled Anywhere in the US - Fall 2018  51 non-null     object \n",
      "dtypes: float64(1), int64(1), object(2)\n",
      "memory usage: 1.7+ KB\n"
     ]
    }
   ],
   "source": [
    "#Convert object strings to integers, \n",
    "att['First-Time Freshmen Directly from High School Enrolled Anywhere in the US - Fall 2018'] = [value.replace(\",\",\"\") for value in att['First-Time Freshmen Directly from High School Enrolled Anywhere in the US - Fall 2018']]\n",
    "att.info()\n"
   ]
  },
  {
   "cell_type": "code",
   "execution_count": 16,
   "metadata": {},
   "outputs": [
    {
     "name": "stdout",
     "output_type": "stream",
     "text": [
      "<class 'pandas.core.frame.DataFrame'>\n",
      "RangeIndex: 51 entries, 0 to 50\n",
      "Data columns (total 4 columns):\n",
      " #   Column                                                                                 Non-Null Count  Dtype  \n",
      "---  ------                                                                                 --------------  -----  \n",
      " 0   State                                                                                  51 non-null     object \n",
      " 1   Percent of High School Graduates Going Directly to College (%)                         51 non-null     float64\n",
      " 2   Projected High School Graduates - 2018                                                 51 non-null     int64  \n",
      " 3   First-Time Freshmen Directly from High School Enrolled Anywhere in the US - Fall 2018  51 non-null     int32  \n",
      "dtypes: float64(1), int32(1), int64(1), object(1)\n",
      "memory usage: 1.5+ KB\n"
     ]
    }
   ],
   "source": [
    "#same operation as above\n",
    "att['First-Time Freshmen Directly from High School Enrolled Anywhere in the US - Fall 2018'] = att['First-Time Freshmen Directly from High School Enrolled Anywhere in the US - Fall 2018'].astype(int)\n",
    "att.info()"
   ]
  },
  {
   "cell_type": "code",
   "execution_count": null,
   "metadata": {},
   "outputs": [],
   "source": []
  },
  {
   "cell_type": "markdown",
   "metadata": {},
   "source": [
    "7. Rename Columns"
   ]
  },
  {
   "cell_type": "code",
   "execution_count": 17,
   "metadata": {},
   "outputs": [
    {
     "data": {
      "text/plain": [
       "Index(['State',\n",
       "       'Percent of High School Graduates Going Directly to College (%)',\n",
       "       'Projected High School Graduates - 2018',\n",
       "       'First-Time Freshmen Directly from High School Enrolled Anywhere in the US - Fall 2018'],\n",
       "      dtype='object')"
      ]
     },
     "execution_count": 17,
     "metadata": {},
     "output_type": "execute_result"
    }
   ],
   "source": [
    "att.columns"
   ]
  },
  {
   "cell_type": "code",
   "execution_count": 18,
   "metadata": {},
   "outputs": [
    {
     "data": {
      "text/plain": [
       "Index(['state',\n",
       "       'percent_of_high_school_graduates_going_directly_to_college_(%)',\n",
       "       'projected_high_school_graduates_-_2018',\n",
       "       'first-time_freshmen_directly_from_high_school_enrolled_anywhere_in_the_us_-_fall_2018'],\n",
       "      dtype='object')"
      ]
     },
     "execution_count": 18,
     "metadata": {},
     "output_type": "execute_result"
    }
   ],
   "source": [
    "#bring to lowercase and replace spaces with underscores\n",
    "att.columns = att.columns.str.lower()\n",
    "\n",
    "att.columns = att.columns.str.replace(\" \",\"_\")\n",
    "\n",
    "att.columns"
   ]
  },
  {
   "cell_type": "code",
   "execution_count": 19,
   "metadata": {},
   "outputs": [
    {
     "data": {
      "text/plain": [
       "Index(['state', 'attending_college', 'projected_graduates',\n",
       "       'college_enrollment'],\n",
       "      dtype='object')"
      ]
     },
     "execution_count": 19,
     "metadata": {},
     "output_type": "execute_result"
    }
   ],
   "source": [
    "# Rename longwinded columns, descriptions will be in data dictionaries\n",
    "new_columns = {\n",
    "\n",
    "       'percent_of_high_school_graduates_going_directly_to_college_(%)':'attending_college',\n",
    "       'projected_high_school_graduates_-_2018':'projected_graduates',\n",
    "       'first-time_freshmen_directly_from_high_school_enrolled_anywhere_in_the_us_-_fall_2018':\"college_enrollment\"\n",
    "}\n",
    "att = att.rename(columns = new_columns)\n",
    "\n",
    "att.columns"
   ]
  },
  {
   "cell_type": "markdown",
   "metadata": {},
   "source": [
    "8. Drop Unnecessary Rows and Columns"
   ]
  },
  {
   "cell_type": "code",
   "execution_count": 20,
   "metadata": {},
   "outputs": [
    {
     "data": {
      "text/plain": [
       "(50, 4)"
      ]
     },
     "execution_count": 20,
     "metadata": {},
     "output_type": "execute_result"
    }
   ],
   "source": [
    "#This was done above to fix issue\n",
    "#National Statistics, other data doesn't have national statistics so this makes all dataframes the same size\n",
    "att = att[att['state'] != 'Nation']\n",
    "att.shape"
   ]
  },
  {
   "cell_type": "code",
   "execution_count": 21,
   "metadata": {},
   "outputs": [
    {
     "data": {
      "text/html": [
       "<div>\n",
       "<style scoped>\n",
       "    .dataframe tbody tr th:only-of-type {\n",
       "        vertical-align: middle;\n",
       "    }\n",
       "\n",
       "    .dataframe tbody tr th {\n",
       "        vertical-align: top;\n",
       "    }\n",
       "\n",
       "    .dataframe thead th {\n",
       "        text-align: right;\n",
       "    }\n",
       "</style>\n",
       "<table border=\"1\" class=\"dataframe\">\n",
       "  <thead>\n",
       "    <tr style=\"text-align: right;\">\n",
       "      <th></th>\n",
       "      <th>state</th>\n",
       "      <th>attending_college</th>\n",
       "    </tr>\n",
       "  </thead>\n",
       "  <tbody>\n",
       "    <tr>\n",
       "      <th>0</th>\n",
       "      <td>Alabama</td>\n",
       "      <td>65.95</td>\n",
       "    </tr>\n",
       "    <tr>\n",
       "      <th>1</th>\n",
       "      <td>Alaska</td>\n",
       "      <td>41.14</td>\n",
       "    </tr>\n",
       "    <tr>\n",
       "      <th>2</th>\n",
       "      <td>Arizona</td>\n",
       "      <td>50.09</td>\n",
       "    </tr>\n",
       "    <tr>\n",
       "      <th>3</th>\n",
       "      <td>Arkansas</td>\n",
       "      <td>63.13</td>\n",
       "    </tr>\n",
       "    <tr>\n",
       "      <th>4</th>\n",
       "      <td>California</td>\n",
       "      <td>66.01</td>\n",
       "    </tr>\n",
       "  </tbody>\n",
       "</table>\n",
       "</div>"
      ],
      "text/plain": [
       "        state  attending_college\n",
       "0     Alabama              65.95\n",
       "1      Alaska              41.14\n",
       "2     Arizona              50.09\n",
       "3    Arkansas              63.13\n",
       "4  California              66.01"
      ]
     },
     "execution_count": 21,
     "metadata": {},
     "output_type": "execute_result"
    }
   ],
   "source": [
    "#We are only concerned with rate at which high school students go directly to college\n",
    "att = att.drop(columns = ['projected_graduates', 'college_enrollment'])\n",
    "att.head()"
   ]
  },
  {
   "cell_type": "code",
   "execution_count": 22,
   "metadata": {},
   "outputs": [
    {
     "data": {
      "text/html": [
       "<div>\n",
       "<style scoped>\n",
       "    .dataframe tbody tr th:only-of-type {\n",
       "        vertical-align: middle;\n",
       "    }\n",
       "\n",
       "    .dataframe tbody tr th {\n",
       "        vertical-align: top;\n",
       "    }\n",
       "\n",
       "    .dataframe thead th {\n",
       "        text-align: right;\n",
       "    }\n",
       "</style>\n",
       "<table border=\"1\" class=\"dataframe\">\n",
       "  <thead>\n",
       "    <tr style=\"text-align: right;\">\n",
       "      <th></th>\n",
       "      <th>state</th>\n",
       "      <th>attending_college</th>\n",
       "    </tr>\n",
       "  </thead>\n",
       "  <tbody>\n",
       "    <tr>\n",
       "      <th>45</th>\n",
       "      <td>Virginia</td>\n",
       "      <td>69.00</td>\n",
       "    </tr>\n",
       "    <tr>\n",
       "      <th>46</th>\n",
       "      <td>Washington</td>\n",
       "      <td>53.23</td>\n",
       "    </tr>\n",
       "    <tr>\n",
       "      <th>47</th>\n",
       "      <td>West Virginia</td>\n",
       "      <td>54.85</td>\n",
       "    </tr>\n",
       "    <tr>\n",
       "      <th>48</th>\n",
       "      <td>Wisconsin</td>\n",
       "      <td>58.28</td>\n",
       "    </tr>\n",
       "    <tr>\n",
       "      <th>49</th>\n",
       "      <td>Wyoming</td>\n",
       "      <td>56.12</td>\n",
       "    </tr>\n",
       "  </tbody>\n",
       "</table>\n",
       "</div>"
      ],
      "text/plain": [
       "            state  attending_college\n",
       "45       Virginia              69.00\n",
       "46     Washington              53.23\n",
       "47  West Virginia              54.85\n",
       "48      Wisconsin              58.28\n",
       "49        Wyoming              56.12"
      ]
     },
     "execution_count": 22,
     "metadata": {},
     "output_type": "execute_result"
    }
   ],
   "source": [
    "#ensure states are alphabetized so data is aligned with merged with other dataframs\n",
    "att.sort_values('state',ascending = True, inplace = True)\n",
    "att.tail(5)"
   ]
  },
  {
   "cell_type": "markdown",
   "metadata": {},
   "source": [
    "9. Merge DataFrames"
   ]
  },
  {
   "cell_type": "code",
   "execution_count": 23,
   "metadata": {},
   "outputs": [
    {
     "data": {
      "text/html": [
       "<div>\n",
       "<style scoped>\n",
       "    .dataframe tbody tr th:only-of-type {\n",
       "        vertical-align: middle;\n",
       "    }\n",
       "\n",
       "    .dataframe tbody tr th {\n",
       "        vertical-align: top;\n",
       "    }\n",
       "\n",
       "    .dataframe thead th {\n",
       "        text-align: right;\n",
       "    }\n",
       "</style>\n",
       "<table border=\"1\" class=\"dataframe\">\n",
       "  <thead>\n",
       "    <tr style=\"text-align: right;\">\n",
       "      <th></th>\n",
       "      <th>sat_participation</th>\n",
       "      <th>total</th>\n",
       "    </tr>\n",
       "  </thead>\n",
       "  <tbody>\n",
       "    <tr>\n",
       "      <th>0</th>\n",
       "      <td>5.0</td>\n",
       "      <td>1165.0</td>\n",
       "    </tr>\n",
       "    <tr>\n",
       "      <th>1</th>\n",
       "      <td>38.0</td>\n",
       "      <td>1080.0</td>\n",
       "    </tr>\n",
       "    <tr>\n",
       "      <th>2</th>\n",
       "      <td>30.0</td>\n",
       "      <td>1116.0</td>\n",
       "    </tr>\n",
       "    <tr>\n",
       "      <th>3</th>\n",
       "      <td>3.0</td>\n",
       "      <td>1208.0</td>\n",
       "    </tr>\n",
       "    <tr>\n",
       "      <th>4</th>\n",
       "      <td>53.0</td>\n",
       "      <td>1055.0</td>\n",
       "    </tr>\n",
       "  </tbody>\n",
       "</table>\n",
       "</div>"
      ],
      "text/plain": [
       "   sat_participation   total\n",
       "0                5.0  1165.0\n",
       "1               38.0  1080.0\n",
       "2               30.0  1116.0\n",
       "3                3.0  1208.0\n",
       "4               53.0  1055.0"
      ]
     },
     "execution_count": 23,
     "metadata": {},
     "output_type": "execute_result"
    }
   ],
   "source": [
    "#import the cleaned sat file, drop duplicate index and state columns for the merge, and rename particpation because it has the same name as the ACT participation column\n",
    "sat = pd.read_csv('../data/sat_2017_clean.csv')\n",
    "sat.drop(columns = ['Unnamed: 0','state'], inplace = True)\n",
    "new_columns_dict = {\n",
    "    'participation': 'sat_participation',\n",
    "   \n",
    "}\n",
    "sat = sat.rename(columns= new_columns_dict)\n",
    "sat.head()"
   ]
  },
  {
   "cell_type": "code",
   "execution_count": 24,
   "metadata": {},
   "outputs": [
    {
     "data": {
      "text/html": [
       "<div>\n",
       "<style scoped>\n",
       "    .dataframe tbody tr th:only-of-type {\n",
       "        vertical-align: middle;\n",
       "    }\n",
       "\n",
       "    .dataframe tbody tr th {\n",
       "        vertical-align: top;\n",
       "    }\n",
       "\n",
       "    .dataframe thead th {\n",
       "        text-align: right;\n",
       "    }\n",
       "</style>\n",
       "<table border=\"1\" class=\"dataframe\">\n",
       "  <thead>\n",
       "    <tr style=\"text-align: right;\">\n",
       "      <th></th>\n",
       "      <th>act_participation</th>\n",
       "      <th>composite</th>\n",
       "    </tr>\n",
       "  </thead>\n",
       "  <tbody>\n",
       "    <tr>\n",
       "      <th>0</th>\n",
       "      <td>100.0</td>\n",
       "      <td>19.2</td>\n",
       "    </tr>\n",
       "    <tr>\n",
       "      <th>1</th>\n",
       "      <td>65.0</td>\n",
       "      <td>19.8</td>\n",
       "    </tr>\n",
       "    <tr>\n",
       "      <th>2</th>\n",
       "      <td>62.0</td>\n",
       "      <td>19.7</td>\n",
       "    </tr>\n",
       "    <tr>\n",
       "      <th>3</th>\n",
       "      <td>100.0</td>\n",
       "      <td>19.4</td>\n",
       "    </tr>\n",
       "    <tr>\n",
       "      <th>4</th>\n",
       "      <td>31.0</td>\n",
       "      <td>22.8</td>\n",
       "    </tr>\n",
       "  </tbody>\n",
       "</table>\n",
       "</div>"
      ],
      "text/plain": [
       "   act_participation  composite\n",
       "0              100.0       19.2\n",
       "1               65.0       19.8\n",
       "2               62.0       19.7\n",
       "3              100.0       19.4\n",
       "4               31.0       22.8"
      ]
     },
     "execution_count": 24,
     "metadata": {},
     "output_type": "execute_result"
    }
   ],
   "source": [
    "#import the cleaned act file, drop duplicate index and state columns for the merge, and rename particpation because it has the same name as the SAT participation column\n",
    "act = pd.read_csv('../data/act_2017_clean.csv')\n",
    "act.drop(columns = ['Unnamed: 0','state'], inplace = True)\n",
    "new_columns_dict = {\n",
    "    'participation': 'act_participation',\n",
    "   \n",
    "}\n",
    "act = act.rename(columns= new_columns_dict)\n",
    "act.head()\n"
   ]
  },
  {
   "cell_type": "code",
   "execution_count": 25,
   "metadata": {},
   "outputs": [
    {
     "data": {
      "text/html": [
       "<div>\n",
       "<style scoped>\n",
       "    .dataframe tbody tr th:only-of-type {\n",
       "        vertical-align: middle;\n",
       "    }\n",
       "\n",
       "    .dataframe tbody tr th {\n",
       "        vertical-align: top;\n",
       "    }\n",
       "\n",
       "    .dataframe thead th {\n",
       "        text-align: right;\n",
       "    }\n",
       "</style>\n",
       "<table border=\"1\" class=\"dataframe\">\n",
       "  <thead>\n",
       "    <tr style=\"text-align: right;\">\n",
       "      <th></th>\n",
       "      <th>state</th>\n",
       "      <th>attending_college</th>\n",
       "      <th>act_participation</th>\n",
       "      <th>composite</th>\n",
       "      <th>sat_participation</th>\n",
       "      <th>total</th>\n",
       "    </tr>\n",
       "  </thead>\n",
       "  <tbody>\n",
       "    <tr>\n",
       "      <th>0</th>\n",
       "      <td>Alabama</td>\n",
       "      <td>65.95</td>\n",
       "      <td>100.0</td>\n",
       "      <td>19.2</td>\n",
       "      <td>5.0</td>\n",
       "      <td>1165.0</td>\n",
       "    </tr>\n",
       "    <tr>\n",
       "      <th>1</th>\n",
       "      <td>Alaska</td>\n",
       "      <td>41.14</td>\n",
       "      <td>65.0</td>\n",
       "      <td>19.8</td>\n",
       "      <td>38.0</td>\n",
       "      <td>1080.0</td>\n",
       "    </tr>\n",
       "    <tr>\n",
       "      <th>2</th>\n",
       "      <td>Arizona</td>\n",
       "      <td>50.09</td>\n",
       "      <td>62.0</td>\n",
       "      <td>19.7</td>\n",
       "      <td>30.0</td>\n",
       "      <td>1116.0</td>\n",
       "    </tr>\n",
       "    <tr>\n",
       "      <th>3</th>\n",
       "      <td>Arkansas</td>\n",
       "      <td>63.13</td>\n",
       "      <td>100.0</td>\n",
       "      <td>19.4</td>\n",
       "      <td>3.0</td>\n",
       "      <td>1208.0</td>\n",
       "    </tr>\n",
       "    <tr>\n",
       "      <th>4</th>\n",
       "      <td>California</td>\n",
       "      <td>66.01</td>\n",
       "      <td>31.0</td>\n",
       "      <td>22.8</td>\n",
       "      <td>53.0</td>\n",
       "      <td>1055.0</td>\n",
       "    </tr>\n",
       "  </tbody>\n",
       "</table>\n",
       "</div>"
      ],
      "text/plain": [
       "        state  attending_college  act_participation  composite  \\\n",
       "0     Alabama              65.95              100.0       19.2   \n",
       "1      Alaska              41.14               65.0       19.8   \n",
       "2     Arizona              50.09               62.0       19.7   \n",
       "3    Arkansas              63.13              100.0       19.4   \n",
       "4  California              66.01               31.0       22.8   \n",
       "\n",
       "   sat_participation   total  \n",
       "0                5.0  1165.0  \n",
       "1               38.0  1080.0  \n",
       "2               30.0  1116.0  \n",
       "3                3.0  1208.0  \n",
       "4               53.0  1055.0  "
      ]
     },
     "execution_count": 25,
     "metadata": {},
     "output_type": "execute_result"
    }
   ],
   "source": [
    "#Found similar code on pandas documentation https://pandas.pydata.org/pandas-docs/stable/user_guide/merging.html\n",
    "#Merges dataframes\n",
    "dfs = [att,act,sat]\n",
    "df_final = pd.concat(dfs,axis = 1) #axis =1 to merge columns and not rows\n",
    "df_final.head()"
   ]
  },
  {
   "cell_type": "code",
   "execution_count": null,
   "metadata": {},
   "outputs": [],
   "source": []
  },
  {
   "cell_type": "markdown",
   "metadata": {},
   "source": [
    "11. Save your cleaned and merged dataframes as csv files."
   ]
  },
  {
   "cell_type": "code",
   "execution_count": 26,
   "metadata": {},
   "outputs": [],
   "source": [
    "report = df_final\n",
    "report.to_csv('../data/project1_final_df.csv')"
   ]
  },
  {
   "cell_type": "code",
   "execution_count": null,
   "metadata": {},
   "outputs": [],
   "source": []
  },
  {
   "cell_type": "markdown",
   "metadata": {},
   "source": [
    "### Data Dictionary\n",
    "\n",
    "Now that we've fixed our data, and given it appropriate names, let's create a [data dictionary](http://library.ucmerced.edu/node/10249). \n",
    "\n",
    "A data dictionary provides a quick overview of features/variables/columns, alongside data types and descriptions. The more descriptive you can be, the more useful this document is.\n",
    "\n",
    "Example of a Fictional Data Dictionary Entry: \n",
    "\n",
    "|Feature|Type|Dataset|Description|\n",
    "|---|---|---|---|\n",
    "|**county_pop**|*integer*|2010 census|The population of the county (units in thousands, where 2.5 represents 2500 people).| \n",
    "|**per_poverty**|*float*|2010 census|The percent of the county over the age of 18 living below the 200% of official US poverty rate (units percent to two decimal places 98.10 means 98.1%)|\n",
    "\n",
    "[Here's a quick link to a short guide for formatting markdown in Jupyter notebooks](https://jupyter-notebook.readthedocs.io/en/stable/examples/Notebook/Working%20With%20Markdown%20Cells.html).\n",
    "\n",
    "Provided is the skeleton for formatting a markdown table, with columns headers that will help you create a data dictionary to quickly summarize your data, as well as some examples. **This would be a great thing to copy and paste into your custom README for this project.**\n",
    "\n",
    "*Note*: if you are unsure of what a feature is, check the source of the data! This can be found in the README."
   ]
  },
  {
   "cell_type": "code",
   "execution_count": 27,
   "metadata": {},
   "outputs": [
    {
     "data": {
      "text/plain": [
       "'|                     | 0                                                                                     |\\n|:--------------------|:--------------------------------------------------------------------------------------|\\n| State               | US State                                                                              |\\n| attending_college   | Percent of High School Graduates Going Directly to College (%)                        |\\n| projected_graduates | Projected High School Graduates - 2018                                                |\\n| college_enrollment  | First-Time Freshmen Directly from High School Enrolled Anywhere in the US - Fall 2018 |'"
      ]
     },
     "execution_count": 27,
     "metadata": {},
     "output_type": "execute_result"
    }
   ],
   "source": [
    "#Data Dictionary\n",
    "\n",
    "att_data_dict = {\n",
    "    'State': [\"US State\"],\n",
    "    'attending_college': ['Percent of High School Graduates Going Directly to College (%)'],\n",
    "    'projected_graduates': ['Projected High School Graduates - 2018'],\n",
    "    'college_enrollment' : ['First-Time Freshmen Directly from High School Enrolled Anywhere in the US - Fall 2018']\n",
    "}\n",
    "\n",
    "\n",
    "#This places the dataframe in a markdown friendly format so it can be copy/pasted into the README\n",
    "dict_df = pd.DataFrame(att_data_dict).T.to_markdown()\n",
    "\n",
    "dict_df"
   ]
  },
  {
   "cell_type": "code",
   "execution_count": 28,
   "metadata": {},
   "outputs": [],
   "source": [
    "#I credit Braden Anderson for these next three lines of code.\n",
    "#The output above displays the data dict in markdown format, but is not properly structured\n",
    "#Braden gave me the idea of saving it as text file where the output is properly structured\n",
    "#This was then copied and pasted in the README.md file\n",
    "text_file = open(\"../data/att_data_dict\",\"w\") #if you don't include the \"w\" it will assume there is a file already called that and try to open a file that doesn't exist\n",
    "#The \"w\" writes the file\n",
    "\n",
    "#this populates the text file with the data dictionary in markdown format\n",
    "text_file.write(dict_df)\n",
    "\n",
    "\n",
    "#this closes the file\n",
    "text_file.close()"
   ]
  },
  {
   "cell_type": "markdown",
   "metadata": {},
   "source": [
    "**To-Do:** *Edit the table below to create your own data dictionary for the datasets you chose.*\n",
    "\n",
    "|Feature|Type|Dataset|Description|\n",
    "|---|---|---|---|\n",
    "|column name|int/float/object|ACT/SAT|This is an example| \n"
   ]
  },
  {
   "cell_type": "markdown",
   "metadata": {},
   "source": [
    "## Exploratory Data Analysis\n",
    "\n",
    "Complete the following steps to explore your data. You are welcome to do more EDA than the steps outlined here as you feel necessary:\n",
    "1. Summary Statistics.\n",
    "2. Use a **dictionary comprehension** to apply the standard deviation function you create in part 1 to each numeric column in the dataframe.  **No loops**.\n",
    "    - Assign the output to variable `sd` as a dictionary where: \n",
    "        - Each column name is now a key \n",
    "        - That standard deviation of the column is the value \n",
    "        - *Example Output :* `{'ACT_Math': 120, 'ACT_Reading': 120, ...}`\n",
    "3. Investigate trends in the data.\n",
    "    - Using sorting and/or masking (along with the `.head()` method to avoid printing our entire dataframe), consider questions relevant to your problem statement. Some examples are provided below (but feel free to change these questions for your specific problem):\n",
    "        - Which states have the highest and lowest participation rates for the 2017, 2019, or 2019 SAT and ACT?\n",
    "        - Which states have the highest and lowest mean total/composite scores for the 2017, 2019, or 2019 SAT and ACT?\n",
    "        - Do any states with 100% participation on a given test have a rate change year-to-year?\n",
    "        - Do any states show have >50% participation on *both* tests each year?\n",
    "        - Which colleges have the highest median SAT and ACT scores for admittance?\n",
    "        - Which California school districts have the highest and lowest mean test scores?\n",
    "    - **You should comment on your findings at each step in a markdown cell below your code block**. Make sure you include at least one example of sorting your dataframe by a column, and one example of using boolean filtering (i.e., masking) to select a subset of the dataframe."
   ]
  },
  {
   "cell_type": "markdown",
   "metadata": {},
   "source": [
    "1. Summary Statistics"
   ]
  },
  {
   "cell_type": "code",
   "execution_count": 29,
   "metadata": {},
   "outputs": [
    {
     "data": {
      "text/html": [
       "<div>\n",
       "<style scoped>\n",
       "    .dataframe tbody tr th:only-of-type {\n",
       "        vertical-align: middle;\n",
       "    }\n",
       "\n",
       "    .dataframe tbody tr th {\n",
       "        vertical-align: top;\n",
       "    }\n",
       "\n",
       "    .dataframe thead th {\n",
       "        text-align: right;\n",
       "    }\n",
       "</style>\n",
       "<table border=\"1\" class=\"dataframe\">\n",
       "  <thead>\n",
       "    <tr style=\"text-align: right;\">\n",
       "      <th></th>\n",
       "      <th>attending_college</th>\n",
       "      <th>act_participation</th>\n",
       "      <th>composite</th>\n",
       "      <th>sat_participation</th>\n",
       "      <th>total</th>\n",
       "    </tr>\n",
       "  </thead>\n",
       "  <tbody>\n",
       "    <tr>\n",
       "      <th>count</th>\n",
       "      <td>50.000000</td>\n",
       "      <td>50.000000</td>\n",
       "      <td>50.000000</td>\n",
       "      <td>50.000000</td>\n",
       "      <td>50.000000</td>\n",
       "    </tr>\n",
       "    <tr>\n",
       "      <th>mean</th>\n",
       "      <td>62.323600</td>\n",
       "      <td>65.920000</td>\n",
       "      <td>21.466000</td>\n",
       "      <td>38.600000</td>\n",
       "      <td>1129.620000</td>\n",
       "    </tr>\n",
       "    <tr>\n",
       "      <th>std</th>\n",
       "      <td>7.893801</td>\n",
       "      <td>32.110676</td>\n",
       "      <td>2.004241</td>\n",
       "      <td>34.560211</td>\n",
       "      <td>89.913085</td>\n",
       "    </tr>\n",
       "    <tr>\n",
       "      <th>min</th>\n",
       "      <td>41.140000</td>\n",
       "      <td>8.000000</td>\n",
       "      <td>17.800000</td>\n",
       "      <td>2.000000</td>\n",
       "      <td>996.000000</td>\n",
       "    </tr>\n",
       "    <tr>\n",
       "      <th>25%</th>\n",
       "      <td>58.025000</td>\n",
       "      <td>31.000000</td>\n",
       "      <td>19.800000</td>\n",
       "      <td>4.000000</td>\n",
       "      <td>1057.000000</td>\n",
       "    </tr>\n",
       "    <tr>\n",
       "      <th>50%</th>\n",
       "      <td>62.240000</td>\n",
       "      <td>71.000000</td>\n",
       "      <td>21.400000</td>\n",
       "      <td>34.000000</td>\n",
       "      <td>1107.500000</td>\n",
       "    </tr>\n",
       "    <tr>\n",
       "      <th>75%</th>\n",
       "      <td>67.292500</td>\n",
       "      <td>100.000000</td>\n",
       "      <td>23.400000</td>\n",
       "      <td>65.000000</td>\n",
       "      <td>1214.000000</td>\n",
       "    </tr>\n",
       "    <tr>\n",
       "      <th>max</th>\n",
       "      <td>80.470000</td>\n",
       "      <td>100.000000</td>\n",
       "      <td>25.500000</td>\n",
       "      <td>100.000000</td>\n",
       "      <td>1295.000000</td>\n",
       "    </tr>\n",
       "  </tbody>\n",
       "</table>\n",
       "</div>"
      ],
      "text/plain": [
       "       attending_college  act_participation  composite  sat_participation  \\\n",
       "count          50.000000          50.000000  50.000000          50.000000   \n",
       "mean           62.323600          65.920000  21.466000          38.600000   \n",
       "std             7.893801          32.110676   2.004241          34.560211   \n",
       "min            41.140000           8.000000  17.800000           2.000000   \n",
       "25%            58.025000          31.000000  19.800000           4.000000   \n",
       "50%            62.240000          71.000000  21.400000          34.000000   \n",
       "75%            67.292500         100.000000  23.400000          65.000000   \n",
       "max            80.470000         100.000000  25.500000         100.000000   \n",
       "\n",
       "             total  \n",
       "count    50.000000  \n",
       "mean   1129.620000  \n",
       "std      89.913085  \n",
       "min     996.000000  \n",
       "25%    1057.000000  \n",
       "50%    1107.500000  \n",
       "75%    1214.000000  \n",
       "max    1295.000000  "
      ]
     },
     "execution_count": 29,
     "metadata": {},
     "output_type": "execute_result"
    }
   ],
   "source": [
    "#sat participation and sat total scores have the highest standard deviation, while act has almost no standard deviation\n",
    "df_final.describe()"
   ]
  },
  {
   "cell_type": "code",
   "execution_count": 30,
   "metadata": {},
   "outputs": [
    {
     "data": {
      "text/html": [
       "<div>\n",
       "<style scoped>\n",
       "    .dataframe tbody tr th:only-of-type {\n",
       "        vertical-align: middle;\n",
       "    }\n",
       "\n",
       "    .dataframe tbody tr th {\n",
       "        vertical-align: top;\n",
       "    }\n",
       "\n",
       "    .dataframe thead th {\n",
       "        text-align: right;\n",
       "    }\n",
       "</style>\n",
       "<table border=\"1\" class=\"dataframe\">\n",
       "  <thead>\n",
       "    <tr style=\"text-align: right;\">\n",
       "      <th></th>\n",
       "      <th>attending_college</th>\n",
       "      <th>act_participation</th>\n",
       "      <th>composite</th>\n",
       "      <th>sat_participation</th>\n",
       "      <th>total</th>\n",
       "    </tr>\n",
       "  </thead>\n",
       "  <tbody>\n",
       "    <tr>\n",
       "      <th>attending_college</th>\n",
       "      <td>1.000000</td>\n",
       "      <td>-0.104700</td>\n",
       "      <td>0.285650</td>\n",
       "      <td>0.135374</td>\n",
       "      <td>0.012310</td>\n",
       "    </tr>\n",
       "    <tr>\n",
       "      <th>act_participation</th>\n",
       "      <td>-0.104700</td>\n",
       "      <td>1.000000</td>\n",
       "      <td>-0.854834</td>\n",
       "      <td>-0.839471</td>\n",
       "      <td>0.694816</td>\n",
       "    </tr>\n",
       "    <tr>\n",
       "      <th>composite</th>\n",
       "      <td>0.285650</td>\n",
       "      <td>-0.854834</td>\n",
       "      <td>1.000000</td>\n",
       "      <td>0.681073</td>\n",
       "      <td>-0.416453</td>\n",
       "    </tr>\n",
       "    <tr>\n",
       "      <th>sat_participation</th>\n",
       "      <td>0.135374</td>\n",
       "      <td>-0.839471</td>\n",
       "      <td>0.681073</td>\n",
       "      <td>1.000000</td>\n",
       "      <td>-0.858530</td>\n",
       "    </tr>\n",
       "    <tr>\n",
       "      <th>total</th>\n",
       "      <td>0.012310</td>\n",
       "      <td>0.694816</td>\n",
       "      <td>-0.416453</td>\n",
       "      <td>-0.858530</td>\n",
       "      <td>1.000000</td>\n",
       "    </tr>\n",
       "  </tbody>\n",
       "</table>\n",
       "</div>"
      ],
      "text/plain": [
       "                   attending_college  act_participation  composite  \\\n",
       "attending_college           1.000000          -0.104700   0.285650   \n",
       "act_participation          -0.104700           1.000000  -0.854834   \n",
       "composite                   0.285650          -0.854834   1.000000   \n",
       "sat_participation           0.135374          -0.839471   0.681073   \n",
       "total                       0.012310           0.694816  -0.416453   \n",
       "\n",
       "                   sat_participation     total  \n",
       "attending_college           0.135374  0.012310  \n",
       "act_participation          -0.839471  0.694816  \n",
       "composite                   0.681073 -0.416453  \n",
       "sat_participation           1.000000 -0.858530  \n",
       "total                      -0.858530  1.000000  "
      ]
     },
     "execution_count": 30,
     "metadata": {},
     "output_type": "execute_result"
    }
   ],
   "source": [
    "#negative correlation between act and sat particpation, states tend to choose one test to administer, not both\n",
    "df_final.corr()\n",
    "\n",
    "#the act composite score has the highest correlation with attending_college, but its correlation value is not significant"
   ]
  },
  {
   "cell_type": "markdown",
   "metadata": {},
   "source": [
    "2.Use a dictionary comprehension to apply the standard deviation function you create in part 1 to each numeric column in the dataframe (no loops)"
   ]
  },
  {
   "cell_type": "code",
   "execution_count": 31,
   "metadata": {},
   "outputs": [
    {
     "data": {
      "image/png": "[encoded data removed]",
      "text/plain": [
       "<Figure size 864x864 with 2 Axes>"
      ]
     },
     "metadata": {
      "needs_background": "light"
     },
     "output_type": "display_data"
    }
   ],
   "source": [
    "#code used from lesson on EDA with Pandas\n",
    "corr = df_final.corr()\n",
    "mask = np.zeros_like(corr) #numpy array with a dataframe populated with zeroes that is the same size as the correlation dataframe above\n",
    "mask[np.triu_indices_from(mask)] = True #assigns the value of true to to the upper triangle of an array, this allows the mask to be used in the heatmap to ignore the redundant values\n",
    "plt.figure(figsize = (12,12))\n",
    "sns.heatmap(corr, cmap = 'YlGnBu', annot = True, square = True, vmin = -1, vmax = 1, mask = mask);\n",
    "plt.title(\"Correlation of Attending College and Choosing Standardized Tests by State\",fontsize = 15)\n",
    "\n",
    "\n",
    "plt.savefig(\"../Plots_&_Images/correlation_heatmap.png\", bbox_inches=\"tight\")"
   ]
  },
  {
   "cell_type": "code",
   "execution_count": 32,
   "metadata": {},
   "outputs": [
    {
     "data": {
      "text/plain": [
       "{'attending_college': 7.814463963702181,\n",
       " 'act_participation': 31.787947401491657,\n",
       " 'composite': 1.9840977798485642,\n",
       " 'sat_participation': 34.21286307808804,\n",
       " 'total': 89.00941298536914}"
      ]
     },
     "execution_count": 32,
     "metadata": {},
     "output_type": "execute_result"
    }
   ],
   "source": [
    "\n",
    "# found on stackoverflow and converted names https://stackoverflow.com/questions/55048445/dictionary-comprehension-to-apply-a-function-to-dataframe-columns\n",
    "#The dictionary comprhension has a nested list comprehension that is seletive for computable data types before they are fed to the st_dev formula\n",
    "st_dev ={col.name:st_dev(col) for col in [df_final[i] for i in   df_final.columns if (df_final[i].dtype=='float64') or (df_final[i].dtype=='int64')]}\n",
    "st_dev"
   ]
  },
  {
   "cell_type": "code",
   "execution_count": 33,
   "metadata": {},
   "outputs": [
    {
     "data": {
      "text/html": [
       "<div>\n",
       "<style scoped>\n",
       "    .dataframe tbody tr th:only-of-type {\n",
       "        vertical-align: middle;\n",
       "    }\n",
       "\n",
       "    .dataframe tbody tr th {\n",
       "        vertical-align: top;\n",
       "    }\n",
       "\n",
       "    .dataframe thead th {\n",
       "        text-align: right;\n",
       "    }\n",
       "</style>\n",
       "<table border=\"1\" class=\"dataframe\">\n",
       "  <thead>\n",
       "    <tr style=\"text-align: right;\">\n",
       "      <th></th>\n",
       "      <th>state</th>\n",
       "      <th>attending_college</th>\n",
       "      <th>act_participation</th>\n",
       "      <th>composite</th>\n",
       "      <th>sat_participation</th>\n",
       "      <th>total</th>\n",
       "    </tr>\n",
       "  </thead>\n",
       "  <tbody>\n",
       "    <tr>\n",
       "      <th>1</th>\n",
       "      <td>Alaska</td>\n",
       "      <td>41.14</td>\n",
       "      <td>65.0</td>\n",
       "      <td>19.8</td>\n",
       "      <td>38.0</td>\n",
       "      <td>1080.0</td>\n",
       "    </tr>\n",
       "    <tr>\n",
       "      <th>11</th>\n",
       "      <td>Idaho</td>\n",
       "      <td>43.93</td>\n",
       "      <td>38.0</td>\n",
       "      <td>22.3</td>\n",
       "      <td>93.0</td>\n",
       "      <td>1005.0</td>\n",
       "    </tr>\n",
       "    <tr>\n",
       "      <th>43</th>\n",
       "      <td>Utah</td>\n",
       "      <td>46.96</td>\n",
       "      <td>100.0</td>\n",
       "      <td>20.3</td>\n",
       "      <td>3.0</td>\n",
       "      <td>1238.0</td>\n",
       "    </tr>\n",
       "    <tr>\n",
       "      <th>2</th>\n",
       "      <td>Arizona</td>\n",
       "      <td>50.09</td>\n",
       "      <td>62.0</td>\n",
       "      <td>19.7</td>\n",
       "      <td>30.0</td>\n",
       "      <td>1116.0</td>\n",
       "    </tr>\n",
       "    <tr>\n",
       "      <th>46</th>\n",
       "      <td>Washington</td>\n",
       "      <td>53.23</td>\n",
       "      <td>29.0</td>\n",
       "      <td>21.9</td>\n",
       "      <td>64.0</td>\n",
       "      <td>1075.0</td>\n",
       "    </tr>\n",
       "    <tr>\n",
       "      <th>25</th>\n",
       "      <td>Montana</td>\n",
       "      <td>53.97</td>\n",
       "      <td>100.0</td>\n",
       "      <td>20.3</td>\n",
       "      <td>10.0</td>\n",
       "      <td>1196.0</td>\n",
       "    </tr>\n",
       "    <tr>\n",
       "      <th>47</th>\n",
       "      <td>West Virginia</td>\n",
       "      <td>54.85</td>\n",
       "      <td>69.0</td>\n",
       "      <td>20.4</td>\n",
       "      <td>14.0</td>\n",
       "      <td>1086.0</td>\n",
       "    </tr>\n",
       "    <tr>\n",
       "      <th>44</th>\n",
       "      <td>Vermont</td>\n",
       "      <td>55.11</td>\n",
       "      <td>29.0</td>\n",
       "      <td>23.6</td>\n",
       "      <td>60.0</td>\n",
       "      <td>1114.0</td>\n",
       "    </tr>\n",
       "    <tr>\n",
       "      <th>36</th>\n",
       "      <td>Oregon</td>\n",
       "      <td>55.63</td>\n",
       "      <td>40.0</td>\n",
       "      <td>21.8</td>\n",
       "      <td>43.0</td>\n",
       "      <td>1108.0</td>\n",
       "    </tr>\n",
       "    <tr>\n",
       "      <th>49</th>\n",
       "      <td>Wyoming</td>\n",
       "      <td>56.12</td>\n",
       "      <td>100.0</td>\n",
       "      <td>20.2</td>\n",
       "      <td>3.0</td>\n",
       "      <td>1230.0</td>\n",
       "    </tr>\n",
       "  </tbody>\n",
       "</table>\n",
       "</div>"
      ],
      "text/plain": [
       "            state  attending_college  act_participation  composite  \\\n",
       "1          Alaska              41.14               65.0       19.8   \n",
       "11          Idaho              43.93               38.0       22.3   \n",
       "43           Utah              46.96              100.0       20.3   \n",
       "2         Arizona              50.09               62.0       19.7   \n",
       "46     Washington              53.23               29.0       21.9   \n",
       "25        Montana              53.97              100.0       20.3   \n",
       "47  West Virginia              54.85               69.0       20.4   \n",
       "44        Vermont              55.11               29.0       23.6   \n",
       "36         Oregon              55.63               40.0       21.8   \n",
       "49        Wyoming              56.12              100.0       20.2   \n",
       "\n",
       "    sat_participation   total  \n",
       "1                38.0  1080.0  \n",
       "11               93.0  1005.0  \n",
       "43                3.0  1238.0  \n",
       "2                30.0  1116.0  \n",
       "46               64.0  1075.0  \n",
       "25               10.0  1196.0  \n",
       "47               14.0  1086.0  \n",
       "44               60.0  1114.0  \n",
       "36               43.0  1108.0  \n",
       "49                3.0  1230.0  "
      ]
     },
     "execution_count": 33,
     "metadata": {},
     "output_type": "execute_result"
    }
   ],
   "source": [
    "#states with the lowest college attendance rates\n",
    "lowest_att = df_final.sort_values(by = 'attending_college', ascending = True)\n",
    "lowest_att[:10]"
   ]
  },
  {
   "cell_type": "code",
   "execution_count": null,
   "metadata": {},
   "outputs": [],
   "source": []
  },
  {
   "cell_type": "code",
   "execution_count": 34,
   "metadata": {},
   "outputs": [
    {
     "data": {
      "text/html": [
       "<div>\n",
       "<style scoped>\n",
       "    .dataframe tbody tr th:only-of-type {\n",
       "        vertical-align: middle;\n",
       "    }\n",
       "\n",
       "    .dataframe tbody tr th {\n",
       "        vertical-align: top;\n",
       "    }\n",
       "\n",
       "    .dataframe thead th {\n",
       "        text-align: right;\n",
       "    }\n",
       "</style>\n",
       "<table border=\"1\" class=\"dataframe\">\n",
       "  <thead>\n",
       "    <tr style=\"text-align: right;\">\n",
       "      <th></th>\n",
       "      <th>state</th>\n",
       "      <th>attending_college</th>\n",
       "      <th>act_participation</th>\n",
       "      <th>composite</th>\n",
       "      <th>sat_participation</th>\n",
       "      <th>total</th>\n",
       "    </tr>\n",
       "  </thead>\n",
       "  <tbody>\n",
       "    <tr>\n",
       "      <th>23</th>\n",
       "      <td>Mississippi</td>\n",
       "      <td>80.47</td>\n",
       "      <td>100.0</td>\n",
       "      <td>18.6</td>\n",
       "      <td>2.0</td>\n",
       "      <td>1242.0</td>\n",
       "    </tr>\n",
       "    <tr>\n",
       "      <th>6</th>\n",
       "      <td>Connecticut</td>\n",
       "      <td>78.05</td>\n",
       "      <td>31.0</td>\n",
       "      <td>25.2</td>\n",
       "      <td>100.0</td>\n",
       "      <td>1041.0</td>\n",
       "    </tr>\n",
       "    <tr>\n",
       "      <th>20</th>\n",
       "      <td>Massachusetts</td>\n",
       "      <td>74.09</td>\n",
       "      <td>29.0</td>\n",
       "      <td>25.4</td>\n",
       "      <td>76.0</td>\n",
       "      <td>1107.0</td>\n",
       "    </tr>\n",
       "    <tr>\n",
       "      <th>29</th>\n",
       "      <td>New Jersey</td>\n",
       "      <td>74.02</td>\n",
       "      <td>34.0</td>\n",
       "      <td>23.9</td>\n",
       "      <td>70.0</td>\n",
       "      <td>1056.0</td>\n",
       "    </tr>\n",
       "    <tr>\n",
       "      <th>31</th>\n",
       "      <td>New York</td>\n",
       "      <td>72.42</td>\n",
       "      <td>31.0</td>\n",
       "      <td>24.2</td>\n",
       "      <td>67.0</td>\n",
       "      <td>1052.0</td>\n",
       "    </tr>\n",
       "    <tr>\n",
       "      <th>7</th>\n",
       "      <td>Delaware</td>\n",
       "      <td>70.93</td>\n",
       "      <td>18.0</td>\n",
       "      <td>24.1</td>\n",
       "      <td>100.0</td>\n",
       "      <td>996.0</td>\n",
       "    </tr>\n",
       "    <tr>\n",
       "      <th>38</th>\n",
       "      <td>Rhode Island</td>\n",
       "      <td>69.81</td>\n",
       "      <td>21.0</td>\n",
       "      <td>24.0</td>\n",
       "      <td>71.0</td>\n",
       "      <td>1062.0</td>\n",
       "    </tr>\n",
       "    <tr>\n",
       "      <th>40</th>\n",
       "      <td>South Dakota</td>\n",
       "      <td>69.32</td>\n",
       "      <td>80.0</td>\n",
       "      <td>21.8</td>\n",
       "      <td>3.0</td>\n",
       "      <td>1216.0</td>\n",
       "    </tr>\n",
       "    <tr>\n",
       "      <th>45</th>\n",
       "      <td>Virginia</td>\n",
       "      <td>69.00</td>\n",
       "      <td>29.0</td>\n",
       "      <td>23.8</td>\n",
       "      <td>65.0</td>\n",
       "      <td>1102.0</td>\n",
       "    </tr>\n",
       "    <tr>\n",
       "      <th>39</th>\n",
       "      <td>South Carolina</td>\n",
       "      <td>68.89</td>\n",
       "      <td>100.0</td>\n",
       "      <td>18.7</td>\n",
       "      <td>50.0</td>\n",
       "      <td>1064.0</td>\n",
       "    </tr>\n",
       "  </tbody>\n",
       "</table>\n",
       "</div>"
      ],
      "text/plain": [
       "             state  attending_college  act_participation  composite  \\\n",
       "23     Mississippi              80.47              100.0       18.6   \n",
       "6      Connecticut              78.05               31.0       25.2   \n",
       "20   Massachusetts              74.09               29.0       25.4   \n",
       "29      New Jersey              74.02               34.0       23.9   \n",
       "31        New York              72.42               31.0       24.2   \n",
       "7         Delaware              70.93               18.0       24.1   \n",
       "38    Rhode Island              69.81               21.0       24.0   \n",
       "40    South Dakota              69.32               80.0       21.8   \n",
       "45        Virginia              69.00               29.0       23.8   \n",
       "39  South Carolina              68.89              100.0       18.7   \n",
       "\n",
       "    sat_participation   total  \n",
       "23                2.0  1242.0  \n",
       "6               100.0  1041.0  \n",
       "20               76.0  1107.0  \n",
       "29               70.0  1056.0  \n",
       "31               67.0  1052.0  \n",
       "7               100.0   996.0  \n",
       "38               71.0  1062.0  \n",
       "40                3.0  1216.0  \n",
       "45               65.0  1102.0  \n",
       "39               50.0  1064.0  "
      ]
     },
     "execution_count": 34,
     "metadata": {},
     "output_type": "execute_result"
    }
   ],
   "source": [
    "#The top two states in college attendance have polar opposite approaches to standardized testing\n",
    "highest_att = df_final.sort_values(by = 'attending_college', ascending = False)\n",
    "highest_att[:10]"
   ]
  },
  {
   "cell_type": "code",
   "execution_count": null,
   "metadata": {},
   "outputs": [],
   "source": []
  },
  {
   "cell_type": "markdown",
   "metadata": {},
   "source": [
    "**To-Do:** *Edit this cell with your findings on trends in the data (step 3 above).*"
   ]
  },
  {
   "cell_type": "markdown",
   "metadata": {},
   "source": [
    "## Visualize the Data\n",
    "\n",
    "There's not a magic bullet recommendation for the right number of plots to understand a given dataset, but visualizing your data is *always* a good idea. Not only does it allow you to quickly convey your findings (even if you have a non-technical audience), it will often reveal trends in your data that escaped you when you were looking only at numbers. It is important to not only create visualizations, but to **interpret your visualizations** as well.\n",
    "\n",
    "**Every plot should**:\n",
    "- Have a title\n",
    "- Have axis labels\n",
    "- Have appropriate tick labels\n",
    "- Text is legible in a plot\n",
    "- Plots demonstrate meaningful and valid relationships\n",
    "- Have an interpretation to aid understanding\n",
    "\n",
    "Here is an example of what your plots should look like following the above guidelines. Note that while the content of this example is unrelated, the principles of visualization hold:\n",
    "\n",
    "![](https://snag.gy/hCBR1U.jpg)\n",
    "*Interpretation: The above image shows that as we increase our spending on advertising, our sales numbers also tend to increase. There is a positive correlation between advertising spending and sales.*\n",
    "\n",
    "---\n",
    "\n",
    "Here are some prompts to get you started with visualizations. Feel free to add additional visualizations as you see fit:\n",
    "1. Use Seaborn's heatmap with pandas `.corr()` to visualize correlations between all numeric features.\n",
    "    - Heatmaps are generally not appropriate for presentations, and should often be excluded from reports as they can be visually overwhelming. **However**, they can be extremely useful in identify relationships of potential interest (as well as identifying potential collinearity before modeling).\n",
    "    - Please take time to format your output, adding a title. Look through some of the additional arguments and options. (Axis labels aren't really necessary, as long as the title is informative).\n",
    "2. Visualize distributions using histograms. If you have a lot, consider writing a custom function and use subplots.\n",
    "    - *OPTIONAL*: Summarize the underlying distributions of your features (in words & statistics)\n",
    "         - Be thorough in your verbal description of these distributions.\n",
    "         - Be sure to back up these summaries with statistics.\n",
    "         - We generally assume that data we sample from a population will be normally distributed. Do we observe this trend? Explain your answers for each distribution and how you think this will affect estimates made from these data.\n",
    "3. Plot and interpret boxplots. \n",
    "    - Boxplots demonstrate central tendency and spread in variables. In a certain sense, these are somewhat redundant with histograms, but you may be better able to identify clear outliers or differences in IQR, etc.\n",
    "    - Multiple values can be plotted to a single boxplot as long as they are of the same relative scale (meaning they have similar min/max values).\n",
    "    - Each boxplot should:\n",
    "        - Only include variables of a similar scale\n",
    "        - Have clear labels for each variable\n",
    "        - Have appropriate titles and labels\n",
    "4. Plot and interpret scatter plots to view relationships between features. Feel free to write a custom function, and subplot if you'd like. Functions save both time and space.\n",
    "    - Your plots should have:\n",
    "        - Two clearly labeled axes\n",
    "        - A proper title\n",
    "        - Colors and symbols that are clear and unmistakable\n",
    "5. Additional plots of your choosing.\n",
    "    - Are there any additional trends or relationships you haven't explored? Was there something interesting you saw that you'd like to dive further into? It's likely that there are a few more plots you might want to generate to support your narrative and recommendations that you are building toward. **As always, make sure you're interpreting your plots as you go**."
   ]
  },
  {
   "cell_type": "code",
   "execution_count": 35,
   "metadata": {},
   "outputs": [
    {
     "data": {
      "image/png": "[encoded data removed]",
      "text/plain": [
       "<Figure size 864x360 with 1 Axes>"
      ]
     },
     "metadata": {
      "needs_background": "light"
     },
     "output_type": "display_data"
    }
   ],
   "source": [
    "#First year freshman attending college immediately after high school are categorized by state\n",
    "# college attendace estimates a normal distribution \n",
    "\n",
    "plt.figure(figsize = (12, 5))\n",
    "\n",
    "\n",
    "sns.histplot(x = df_final['attending_college'], bins = 10,\n",
    "             color = 'mediumseagreen', edgecolor = 'black', linewidth = 1);\n",
    "\n",
    "plt.title(\"Distribution of HS Seniors Attending College the following Year (2018)\", fontsize = 20);\n",
    "plt.ylabel('Count', fontsize = 16)\n",
    "plt.xlabel('% of Students Attending College (by State)', fontsize = 16);\n",
    "plt.savefig(\"../Plots_&_Images/distribution_attending_college\", bbox_inches=\"tight\")\n"
   ]
  },
  {
   "cell_type": "code",
   "execution_count": null,
   "metadata": {},
   "outputs": [],
   "source": []
  },
  {
   "cell_type": "code",
   "execution_count": 36,
   "metadata": {},
   "outputs": [
    {
     "data": {
      "image/png": "[encoded data removed]",
      "text/plain": [
       "<Figure size 432x288 with 1 Axes>"
      ]
     },
     "metadata": {
      "needs_background": "light"
     },
     "output_type": "display_data"
    }
   ],
   "source": [
    "# This boxplot shows two outliers, Alaska and Idaho, Utah is also very close to being an outlier with 46% of their high school seniors attending college\n",
    "sns.boxplot(x = df_final['attending_college']);\n",
    "\n",
    "plt.xlabel('% HS Seniors Attending College', fontsize = 14)\n",
    "plt.title('Two Outliers (Alaska & Idaho) in College Attendance Rates')\n",
    "plt.savefig(\"../Plots_&_Images/attending_boxplot.png\", bbox_inches=\"tight\")\n",
    "plt.show()"
   ]
  },
  {
   "cell_type": "code",
   "execution_count": 37,
   "metadata": {},
   "outputs": [
    {
     "data": {
      "image/png": "[encoded data removed]",
      "text/plain": [
       "<Figure size 864x360 with 1 Axes>"
      ]
     },
     "metadata": {
      "needs_background": "light"
     },
     "output_type": "display_data"
    }
   ],
   "source": [
    "#negative correlation between participation and score with nearly everyone scoring low scores that require high participation\n",
    "plt.figure(figsize = (12,5))\n",
    "plt.scatter(x=df_final['act_participation'], y = [df_final['sat_participation']], alpha = .4, color = 'black');\n",
    "plt.xlabel(\"% Participation in the ACT by State\",fontsize = 12)\n",
    "plt.ylabel(\"% Participation in the SAT by State\",fontsize = 12)\n",
    "plt.title(\"Correlation with States' Participation in the ACT versus SAT (2017)\", fontsize = 15)\n",
    "plt.savefig(\"../Plots_&_Images/ACT_versus_SAT_Participation.png\", bbox_inches=\"tight\")\n",
    "plt.show()"
   ]
  },
  {
   "cell_type": "code",
   "execution_count": 38,
   "metadata": {},
   "outputs": [
    {
     "data": {
      "image/png": "[encoded data removed]",
      "text/plain": [
       "<Figure size 504x1008 with 1 Axes>"
      ]
     },
     "metadata": {
      "needs_background": "light"
     },
     "output_type": "display_data"
    }
   ],
   "source": [
    "all_att = df_final.sort_values(by = 'attending_college', ascending = True)\n",
    "plt.figure(figsize = (7, 14))\n",
    "\n",
    "plt.ylabel('State', fontsize = 14)\n",
    "plt.xlabel('% of HS Seniors Attending College', fontsize = 14)\n",
    "plt.title(\"% HS Seniors Attending College for US States (2018)\", size = 15)\n",
    "plt.barh(all_att['state'],all_att['attending_college']) #plotting an hbar graph for the college attendance for all 50 states\n",
    "\n",
    "plt.xlim(0,100)\n",
    "plt.savefig(\"../Plots_&_Images/attending.png\", bbox_inches=\"tight\")\n",
    "plt.show()"
   ]
  },
  {
   "cell_type": "code",
   "execution_count": 39,
   "metadata": {},
   "outputs": [
    {
     "data": {
      "image/png": "[encoded data removed]",
      "text/plain": [
       "<Figure size 504x1008 with 1 Axes>"
      ]
     },
     "metadata": {
      "needs_background": "light"
     },
     "output_type": "display_data"
    }
   ],
   "source": [
    "# lowest_att = df_final.sort_values(by = 'attending_college', ascending = True)\n",
    "\n",
    "lowest_att.sort_values(by = 'attending_college', ascending = True, inplace = True)\n",
    "plt.figure(figsize = (7, 14))\n",
    "\n",
    "\n",
    "plt.ylabel('State', fontsize = 14)\n",
    "plt.xlabel('% of Students Attending College', fontsize = 14)\n",
    "plt.title(\"States with the Lowest College Attendance (2018)\", size = 16)\n",
    "plt.barh(lowest_att['state'][:10],lowest_att['attending_college'][:10]) #plotting the 10 lowest college attandance states\n",
    "\n",
    "plt.xlim(0,100)\n",
    "plt.show()"
   ]
  },
  {
   "cell_type": "code",
   "execution_count": null,
   "metadata": {},
   "outputs": [],
   "source": []
  },
  {
   "cell_type": "code",
   "execution_count": 40,
   "metadata": {},
   "outputs": [
    {
     "data": {
      "image/png": "[encoded data removed]",
      "text/plain": [
       "<Figure size 504x1008 with 1 Axes>"
      ]
     },
     "metadata": {
      "needs_background": "light"
     },
     "output_type": "display_data"
    }
   ],
   "source": [
    "#highest_participants\n",
    "highest_att.sort_values(by = 'attending_college', ascending = False, inplace = True)\n",
    "plt.figure(figsize = (7, 14))\n",
    "\n",
    "\n",
    "plt.ylabel('State', fontsize = 14)\n",
    "plt.xlabel('% of Students Attending College', fontsize = 14)\n",
    "plt.title(\"States with the Highest College Attendance (2018)\", size = 16)\n",
    "plt.barh(highest_att['state'][:10],highest_att['attending_college'][:10])\n",
    "\n",
    "plt.xlim(0,100)\n",
    "\n",
    "plt.show()"
   ]
  },
  {
   "cell_type": "markdown",
   "metadata": {},
   "source": [
    "## Conclusions and Recommendations"
   ]
  },
  {
   "cell_type": "markdown",
   "metadata": {},
   "source": [
    "Based on your exploration of the data, what are you key takeaways and recommendations? Make sure to answer your question of interest or address your problem statement here."
   ]
  },
  {
   "cell_type": "markdown",
   "metadata": {},
   "source": [
    "## Conclusion"
   ]
  },
  {
   "cell_type": "markdown",
   "metadata": {},
   "source": [
    "College attendance data for the Fall of 2018 was investigated to determine if students were more likely to attend college based on the standardized test they chose to take. The national average for high school schools to attend college immediately after high school was 62.3% in 2018. The median of 62.2% was remarkably close to the mean, supporting the normal distribution. The boxplot above indicated two outliers in the college attendance data (Alaska and Idaho). Both outlier's posted rates approximately 20% below national average. Further discussion on these outliers can be viewed in the *Recommendations* section below.\n",
    "\n",
    "Participation data for the ACT and SAT was correlated with a state's high school students of 2017 attending college in Fall 2018. College freshman attendance rates by state had -0.1 correlation for ACT participation and 0.14 for SAT respectively. This indicates that there was no correlation between the standardized test students chose to take (or state's preferred exam) with college attendance. This can be understood visually by examining the \"highest_att\" table above. The top two states posting the highest college attendance rates (Mississippi and Connecticut) have inverse participation rates for the ACT and SAT. The data does not suggest a state's decision of a particular standardized test is the contributing factor for state by state college attendance fluctuations. Potential factors affecting student's ability or choice to attend college will be discussed in the *Recommendations* section."
   ]
  },
  {
   "cell_type": "markdown",
   "metadata": {},
   "source": [
    "## Recommendations"
   ]
  },
  {
   "cell_type": "markdown",
   "metadata": {},
   "source": [
    "If a state's choice of standardized test is not a contributing factor for college attendance rates, then what factors may be significant? Shawn Lea Temple's disertation *Factors that Influence Students' Desires to Attend Higher Education* provides some insight. She states \"There were six main reasons that students did not continue their education: socioeconmic status, cultural and social capital, family structure and expectations, financial reasons and the general organization of the high school.\" While her study was primarily qualitative, there are quantitative data that could be collected for further analysis.\n",
    "\n",
    "It is recommended college tuition rates, local job markets, and K-12 public school funding data be collected and correlated with college attendance rates. It is probable college tuition rates are a contributing factor, as students may be less willing to incur the large amount of debt required to obtain a degree in the 21st century. If local job markets don't require college education to make a good living, then student's could be uninspired by the prospects of getting a college degree. K-12 public school funding could affect a student's ability to be eligble for college level difficulty, and poorly funded schools could be demotivating for students. There are countless parameters affecting a students ability to attend college, but examination of these recommended factors could prove some factors are more important than others."
   ]
  },
  {
   "cell_type": "markdown",
   "metadata": {},
   "source": [
    "**Sources**\n",
    "\n",
    "College Attendance was collected here:\n",
    "\n",
    "1. http://www.higheredinfo.org/dbrowser/index.php?submeasure=63&year=2018&level=nation&mode=data&state= \n",
    "\n",
    "*Factors that Influence Student's Desires to Attend College* (Dissertation by Shawn Lea Temple)\n",
    "\n",
    "2. https://scholarship.shu.edu/cgi/viewcontent.cgi?article=1420&context=dissertations"
   ]
  },
  {
   "cell_type": "markdown",
   "metadata": {},
   "source": [
    "Don't forget to create your README!\n",
    "\n",
    "**To-Do:** *If you combine your problem statement, data dictionary, brief summary of your analysis, and conclusions/recommendations, you have an amazing README.md file that quickly aligns your audience to the contents of your project.* Don't forget to cite your data sources!"
   ]
  }
 ],
 "metadata": {
  "anaconda-cloud": {},
  "kernelspec": {
   "display_name": "Python 3",
   "language": "python",
   "name": "python3"
  },
  "language_info": {
   "codemirror_mode": {
    "name": "ipython",
    "version": 3
   },
   "file_extension": ".py",
   "mimetype": "text/x-python",
   "name": "python",
   "nbconvert_exporter": "python",
   "pygments_lexer": "ipython3",
   "version": "3.8.5"
  }
 },
 "nbformat": 4,
 "nbformat_minor": 4
}
