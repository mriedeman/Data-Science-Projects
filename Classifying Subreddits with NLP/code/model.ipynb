{
 "cells": [
  {
   "cell_type": "markdown",
   "metadata": {},
   "source": [
    "## Binary Classification Modeling with Logistic Regression, Random Forests, and Naïve Bayes"
   ]
  },
  {
   "cell_type": "markdown",
   "metadata": {},
   "source": [
    "*Imports*"
   ]
  },
  {
   "cell_type": "code",
   "execution_count": 116,
   "metadata": {},
   "outputs": [],
   "source": [
    "import pandas as pd\n",
    "import numpy as np\n",
    "import matplotlib.pyplot as plt\n",
    "import seaborn as sns\n",
    "import pickle\n",
    "from sklearn.model_selection import cross_val_score, GridSearchCV, train_test_split\n",
    "from sklearn.pipeline import Pipeline\n",
    "from sklearn.linear_model import LogisticRegression\n",
    "from sklearn.ensemble import RandomForestClassifier\n",
    "from sklearn.naive_bayes import MultinomialNB\n",
    "from sklearn.preprocessing import StandardScaler\n",
    "from sklearn.feature_extraction.text import CountVectorizer,TfidfVectorizer\n",
    "from sklearn.metrics import confusion_matrix, plot_confusion_matrix\n",
    "from sklearn.svm import SVC"
   ]
  },
  {
   "cell_type": "markdown",
   "metadata": {},
   "source": [
    "*Dataset*"
   ]
  },
  {
   "cell_type": "code",
   "execution_count": 2,
   "metadata": {},
   "outputs": [
    {
     "data": {
      "text/html": [
       "<div>\n",
       "<style scoped>\n",
       "    .dataframe tbody tr th:only-of-type {\n",
       "        vertical-align: middle;\n",
       "    }\n",
       "\n",
       "    .dataframe tbody tr th {\n",
       "        vertical-align: top;\n",
       "    }\n",
       "\n",
       "    .dataframe thead th {\n",
       "        text-align: right;\n",
       "    }\n",
       "</style>\n",
       "<table border=\"1\" class=\"dataframe\">\n",
       "  <thead>\n",
       "    <tr style=\"text-align: right;\">\n",
       "      <th></th>\n",
       "      <th>Comments</th>\n",
       "      <th>Team</th>\n",
       "    </tr>\n",
       "  </thead>\n",
       "  <tbody>\n",
       "    <tr>\n",
       "      <th>0</th>\n",
       "      <td>Not scared of Bauer. Let's fucking rattle him.</td>\n",
       "      <td>Giants</td>\n",
       "    </tr>\n",
       "    <tr>\n",
       "      <th>1</th>\n",
       "      <td>Obligatory going to the game today. Heard ther...</td>\n",
       "      <td>Giants</td>\n",
       "    </tr>\n",
       "    <tr>\n",
       "      <th>2</th>\n",
       "      <td>https://www.mlb.com/all-star/ballot \\n\\nHave y...</td>\n",
       "      <td>Giants</td>\n",
       "    </tr>\n",
       "  </tbody>\n",
       "</table>\n",
       "</div>"
      ],
      "text/plain": [
       "                                            Comments    Team\n",
       "0     Not scared of Bauer. Let's fucking rattle him.  Giants\n",
       "1  Obligatory going to the game today. Heard ther...  Giants\n",
       "2  https://www.mlb.com/all-star/ballot \\n\\nHave y...  Giants"
      ]
     },
     "execution_count": 2,
     "metadata": {},
     "output_type": "execute_result"
    }
   ],
   "source": [
    "corpus = pd.read_csv(\"../datasets/rivalry_df.csv\")\n",
    "\n",
    "corpus.head(3)"
   ]
  },
  {
   "cell_type": "markdown",
   "metadata": {},
   "source": [
    "*Check for nulls*"
   ]
  },
  {
   "cell_type": "code",
   "execution_count": 3,
   "metadata": {},
   "outputs": [
    {
     "data": {
      "text/plain": [
       "Comments    0\n",
       "Team        0\n",
       "dtype: int64"
      ]
     },
     "execution_count": 3,
     "metadata": {},
     "output_type": "execute_result"
    }
   ],
   "source": [
    "corpus.isnull().sum()"
   ]
  },
  {
   "cell_type": "markdown",
   "metadata": {},
   "source": [
    "*Check Datatypes*"
   ]
  },
  {
   "cell_type": "code",
   "execution_count": 4,
   "metadata": {},
   "outputs": [
    {
     "data": {
      "text/plain": [
       "Comments    object\n",
       "Team        object\n",
       "dtype: object"
      ]
     },
     "execution_count": 4,
     "metadata": {},
     "output_type": "execute_result"
    }
   ],
   "source": [
    "corpus.dtypes"
   ]
  },
  {
   "cell_type": "markdown",
   "metadata": {},
   "source": [
    "### Baseline Score\n",
    "\n",
    "*The initial baseline score is 62.8%, which lends to a mildly uneven class distribution."
   ]
  },
  {
   "cell_type": "code",
   "execution_count": 5,
   "metadata": {},
   "outputs": [
    {
     "data": {
      "text/plain": [
       "Giants     0.627532\n",
       "Dodgers    0.372468\n",
       "Name: Team, dtype: float64"
      ]
     },
     "execution_count": 5,
     "metadata": {},
     "output_type": "execute_result"
    }
   ],
   "source": [
    "corpus['Team'].value_counts(normalize = True)"
   ]
  },
  {
   "cell_type": "markdown",
   "metadata": {},
   "source": [
    "Vectorize and put into a dataframe"
   ]
  },
  {
   "cell_type": "markdown",
   "metadata": {},
   "source": [
    "### EDA"
   ]
  },
  {
   "cell_type": "markdown",
   "metadata": {},
   "source": [
    "**Top 10 words**"
   ]
  },
  {
   "cell_type": "code",
   "execution_count": 68,
   "metadata": {},
   "outputs": [],
   "source": [
    "#removed bot spam and added them as stop words\n",
    "add_stop_words = ['just', 'https','github', 'troxellophilus','like','com','kcadqxnqa_4', 'youtube', 'clerk']\n",
    "stop_words = (CountVectorizer(stop_words = 'english').get_stop_words())\n",
    "stop_words = stop_words.union(add_stop_words)"
   ]
  },
  {
   "cell_type": "code",
   "execution_count": 129,
   "metadata": {},
   "outputs": [
    {
     "data": {
      "image/png": "[encoded data removed]",
      "text/plain": [
       "<Figure size 432x288 with 1 Axes>"
      ]
     },
     "metadata": {
      "needs_background": "light"
     },
     "output_type": "display_data"
    }
   ],
   "source": [
    "cv_words= CountVectorizer(ngram_range = (1,1), stop_words = stop_words)\n",
    "\n",
    "words_df = pd.DataFrame(cv_words.fit_transform(corpus['Comments']).todense(), \n",
    "                          columns=cv_words.get_feature_names())\n",
    "\n",
    "# plot top occuring words\n",
    "words_df.sum().sort_values(ascending=False).head(10).plot(kind='barh');\n",
    "\n",
    "plt.title('Top 10 Words',fontsize = 16)\n",
    "plt.xlabel('Word Count')\n",
    "plt.ylabel('Words')\n",
    "plt.savefig(\"../Images/top_10_words\", bbox_inches=\"tight\")"
   ]
  },
  {
   "cell_type": "markdown",
   "metadata": {},
   "source": [
    "**Top 10 Bigrams**"
   ]
  },
  {
   "cell_type": "code",
   "execution_count": 128,
   "metadata": {},
   "outputs": [
    {
     "data": {
      "image/png": "[encoded data removed]",
      "text/plain": [
       "<Figure size 432x288 with 1 Axes>"
      ]
     },
     "metadata": {
      "needs_background": "light"
     },
     "output_type": "display_data"
    }
   ],
   "source": [
    "cv_bigrams = CountVectorizer(ngram_range = (2,2), stop_words = stop_words)\n",
    "\n",
    "bigrams_df = pd.DataFrame(cv_bigrams.fit_transform(corpus['Comments']).todense(), \n",
    "                          columns=cv_bigrams.get_feature_names())\n",
    "\n",
    "# plot top occuring words\n",
    "bigrams_df.sum().sort_values(ascending=False).head(10).plot(kind='barh');\n",
    "\n",
    "plt.title('Top 10 Bigrams',fontsize = 16)\n",
    "plt.xlabel('Word Count')\n",
    "plt.ylabel('Bigrams')\n",
    "plt.savefig(\"../Images/top_10_bigrams\", bbox_inches=\"tight\")"
   ]
  },
  {
   "cell_type": "markdown",
   "metadata": {},
   "source": [
    "**Top 10 Trigrams**\n"
   ]
  },
  {
   "cell_type": "code",
   "execution_count": 130,
   "metadata": {},
   "outputs": [
    {
     "data": {
      "image/png": "[encoded data removed]",
      "text/plain": [
       "<Figure size 432x288 with 1 Axes>"
      ]
     },
     "metadata": {
      "needs_background": "light"
     },
     "output_type": "display_data"
    }
   ],
   "source": [
    "cv_trigrams = CountVectorizer(ngram_range = (3,3), stop_words = stop_words)\n",
    "\n",
    "trigrams_df = pd.DataFrame(cv_trigrams.fit_transform(corpus['Comments']).todense(), \n",
    "                          columns=cv_trigrams.get_feature_names())\n",
    "\n",
    "# plot top occuring words\n",
    "trigrams_df.sum().sort_values(ascending=False).head(10).plot(kind='barh');\n",
    "\n",
    "plt.title('Top 10 Trigrams',fontsize = 16)\n",
    "plt.xlabel('Word Count')\n",
    "plt.ylabel('Trigrams')\n",
    "plt.savefig(\"../Images/top_10_trigrams\", bbox_inches=\"tight\")"
   ]
  },
  {
   "cell_type": "markdown",
   "metadata": {},
   "source": [
    "### Model Pipeline 1: Random Forest"
   ]
  },
  {
   "cell_type": "code",
   "execution_count": 33,
   "metadata": {},
   "outputs": [
    {
     "name": "stdout",
     "output_type": "stream",
     "text": [
      "Fitting 5 folds for each of 72 candidates, totalling 360 fits\n"
     ]
    }
   ],
   "source": [
    "pipe_1 = Pipeline([\n",
    "    ('cv', CountVectorizer(stop_words = stop_words, ngram_range = (1,3))),\n",
    "    ('rf', RandomForestClassifier())\n",
    "])\n",
    "\n",
    "params_1 = {\n",
    "    'rf__n_estimators' : [75, 100, 125],\n",
    "    'rf__max_features' : [None, 'auto'],\n",
    "    'rf__max_depth'    : [2,3,4,5],\n",
    "    'rf__min_samples_split' : [3,4,5],\n",
    "    \n",
    "}\n",
    "\n",
    "gs_1 = GridSearchCV(pipe_1, param_grid = params_1, cv = 5, verbose = 1)\n",
    "gs_1.fit(corpus['Comments'], corpus['Team'])\n",
    "\n",
    "#Save the Gridsearch models \n",
    "\n",
    "# with open('../datasets/random_forest_pipe_1.pkl', 'wb') as file:\n",
    "#     pickle.dump(gs_1, file)\n",
    "with open('../datasets/random_forest_pipe_1.pkl', 'rb') as file:\n",
    "    gs_1_random_forest = pickle.load(file)\n",
    "\n",
    "    \n",
    "search_results_1 = gs_1_random_forest.cv_results_\n",
    "top_estimator_1 = gs_1_random_forest.best_estimator_\n",
    "top_score_1 = gs_1_random_forest.best_score_\n",
    "top_parameters_1 = gs_1_random_forest.best_params_"
   ]
  },
  {
   "cell_type": "code",
   "execution_count": 35,
   "metadata": {},
   "outputs": [
    {
     "data": {
      "text/html": [
       "<div>\n",
       "<style scoped>\n",
       "    .dataframe tbody tr th:only-of-type {\n",
       "        vertical-align: middle;\n",
       "    }\n",
       "\n",
       "    .dataframe tbody tr th {\n",
       "        vertical-align: top;\n",
       "    }\n",
       "\n",
       "    .dataframe thead th {\n",
       "        text-align: right;\n",
       "    }\n",
       "</style>\n",
       "<table border=\"1\" class=\"dataframe\">\n",
       "  <thead>\n",
       "    <tr style=\"text-align: right;\">\n",
       "      <th></th>\n",
       "      <th>mean_fit_time</th>\n",
       "      <th>std_fit_time</th>\n",
       "      <th>mean_score_time</th>\n",
       "      <th>std_score_time</th>\n",
       "      <th>param_rf__max_depth</th>\n",
       "      <th>param_rf__max_features</th>\n",
       "      <th>param_rf__min_samples_split</th>\n",
       "      <th>param_rf__n_estimators</th>\n",
       "      <th>params</th>\n",
       "      <th>split0_test_score</th>\n",
       "      <th>split1_test_score</th>\n",
       "      <th>split2_test_score</th>\n",
       "      <th>split3_test_score</th>\n",
       "      <th>split4_test_score</th>\n",
       "      <th>mean_test_score</th>\n",
       "      <th>std_test_score</th>\n",
       "      <th>rank_test_score</th>\n",
       "    </tr>\n",
       "  </thead>\n",
       "  <tbody>\n",
       "    <tr>\n",
       "      <th>0</th>\n",
       "      <td>0.820586</td>\n",
       "      <td>0.068124</td>\n",
       "      <td>0.034101</td>\n",
       "      <td>0.005351</td>\n",
       "      <td>2</td>\n",
       "      <td>None</td>\n",
       "      <td>3</td>\n",
       "      <td>75</td>\n",
       "      <td>{'rf__max_depth': 2, 'rf__max_features': None,...</td>\n",
       "      <td>0.636076</td>\n",
       "      <td>0.646361</td>\n",
       "      <td>0.647943</td>\n",
       "      <td>0.638449</td>\n",
       "      <td>0.631329</td>\n",
       "      <td>0.640032</td>\n",
       "      <td>0.006269</td>\n",
       "      <td>28</td>\n",
       "    </tr>\n",
       "    <tr>\n",
       "      <th>1</th>\n",
       "      <td>1.019639</td>\n",
       "      <td>0.068539</td>\n",
       "      <td>0.036830</td>\n",
       "      <td>0.007764</td>\n",
       "      <td>2</td>\n",
       "      <td>None</td>\n",
       "      <td>3</td>\n",
       "      <td>100</td>\n",
       "      <td>{'rf__max_depth': 2, 'rf__max_features': None,...</td>\n",
       "      <td>0.636076</td>\n",
       "      <td>0.646361</td>\n",
       "      <td>0.648734</td>\n",
       "      <td>0.634494</td>\n",
       "      <td>0.631329</td>\n",
       "      <td>0.639399</td>\n",
       "      <td>0.006868</td>\n",
       "      <td>31</td>\n",
       "    </tr>\n",
       "    <tr>\n",
       "      <th>2</th>\n",
       "      <td>1.222444</td>\n",
       "      <td>0.067512</td>\n",
       "      <td>0.035480</td>\n",
       "      <td>0.001347</td>\n",
       "      <td>2</td>\n",
       "      <td>None</td>\n",
       "      <td>3</td>\n",
       "      <td>125</td>\n",
       "      <td>{'rf__max_depth': 2, 'rf__max_features': None,...</td>\n",
       "      <td>0.636076</td>\n",
       "      <td>0.646361</td>\n",
       "      <td>0.647943</td>\n",
       "      <td>0.634494</td>\n",
       "      <td>0.631329</td>\n",
       "      <td>0.639241</td>\n",
       "      <td>0.006657</td>\n",
       "      <td>32</td>\n",
       "    </tr>\n",
       "  </tbody>\n",
       "</table>\n",
       "</div>"
      ],
      "text/plain": [
       "   mean_fit_time  std_fit_time  mean_score_time  std_score_time  \\\n",
       "0       0.820586      0.068124         0.034101        0.005351   \n",
       "1       1.019639      0.068539         0.036830        0.007764   \n",
       "2       1.222444      0.067512         0.035480        0.001347   \n",
       "\n",
       "  param_rf__max_depth param_rf__max_features param_rf__min_samples_split  \\\n",
       "0                   2                   None                           3   \n",
       "1                   2                   None                           3   \n",
       "2                   2                   None                           3   \n",
       "\n",
       "  param_rf__n_estimators                                             params  \\\n",
       "0                     75  {'rf__max_depth': 2, 'rf__max_features': None,...   \n",
       "1                    100  {'rf__max_depth': 2, 'rf__max_features': None,...   \n",
       "2                    125  {'rf__max_depth': 2, 'rf__max_features': None,...   \n",
       "\n",
       "   split0_test_score  split1_test_score  split2_test_score  split3_test_score  \\\n",
       "0           0.636076           0.646361           0.647943           0.638449   \n",
       "1           0.636076           0.646361           0.648734           0.634494   \n",
       "2           0.636076           0.646361           0.647943           0.634494   \n",
       "\n",
       "   split4_test_score  mean_test_score  std_test_score  rank_test_score  \n",
       "0           0.631329         0.640032        0.006269               28  \n",
       "1           0.631329         0.639399        0.006868               31  \n",
       "2           0.631329         0.639241        0.006657               32  "
      ]
     },
     "execution_count": 35,
     "metadata": {},
     "output_type": "execute_result"
    }
   ],
   "source": [
    "gs_df_1 = pd.DataFrame(search_results_1)\n",
    "gs_df_1.head(3)"
   ]
  },
  {
   "cell_type": "code",
   "execution_count": 112,
   "metadata": {},
   "outputs": [
    {
     "data": {
      "text/plain": [
       "0.6574367088607594"
      ]
     },
     "execution_count": 112,
     "metadata": {},
     "output_type": "execute_result"
    }
   ],
   "source": [
    "top_score_1"
   ]
  },
  {
   "cell_type": "code",
   "execution_count": 133,
   "metadata": {},
   "outputs": [
    {
     "data": {
      "image/png": "[encoded data removed]",
      "text/plain": [
       "<Figure size 432x288 with 2 Axes>"
      ]
     },
     "metadata": {
      "needs_background": "light"
     },
     "output_type": "display_data"
    }
   ],
   "source": [
    "X = corpus['Comments']\n",
    "y = corpus['Team']\n",
    "plot_confusion_matrix(gs_1, X, y, cmap='Blues', values_format='d');\n",
    "plt.title(\"Confusion Matrix for Model 1\")\n",
    "plt.savefig(\"../Images/confusion_matrix_gs_1\", bbox_inches=\"tight\")"
   ]
  },
  {
   "cell_type": "markdown",
   "metadata": {},
   "source": [
    "### Model Pipeline 2: Logistic Regression"
   ]
  },
  {
   "cell_type": "code",
   "execution_count": 84,
   "metadata": {},
   "outputs": [
    {
     "name": "stdout",
     "output_type": "stream",
     "text": [
      "Fitting 5 folds for each of 2 candidates, totalling 10 fits\n"
     ]
    }
   ],
   "source": [
    "#Establish the model pipeline and parameter grid\n",
    "\n",
    "pipe_2 = Pipeline([\n",
    "    ('cv', CountVectorizer(stop_words = 'english', ngram_range = (1,3))),\n",
    "    ('logreg', LogisticRegression(solver = 'saga'))\n",
    "])\n",
    "    \n",
    "\n",
    "\n",
    "params_2 = {\n",
    "    'logreg__penalty': ['l2','l1'],\n",
    "    'logreg__max_iter':[5000]\n",
    "}\n",
    "\n",
    "#Run a grid search on using the Logistic Regression Hyperparameters\n",
    "\n",
    "gs_2 = GridSearchCV(pipe_2, param_grid = params_2, cv = 5, verbose = 1)\n",
    "gs_2.fit(corpus['Comments'], corpus['Team'])\n",
    "\n",
    "\n",
    "#Save the Gridsearch models \n",
    "\n",
    "# with open('../datasets/logreg_pipe_2.pkl', 'wb') as file:\n",
    "#     pickle.dump(gs_2, file)\n",
    "with open('../datasets/logreg_pipe_2.pkl', 'rb') as file:\n",
    "    gs_2_logreg = pickle.load(file)\n",
    "\n",
    "    \n",
    "search_results_2 = gs_2_logreg.cv_results_\n",
    "top_estimator_2 = gs_2_logreg.best_estimator_\n",
    "top_score_2 = gs_2_logreg.best_score_\n",
    "top_parameters_2 = gs_2_logreg.best_params_\n",
    "\n"
   ]
  },
  {
   "cell_type": "code",
   "execution_count": 90,
   "metadata": {},
   "outputs": [
    {
     "data": {
      "text/html": [
       "<div>\n",
       "<style scoped>\n",
       "    .dataframe tbody tr th:only-of-type {\n",
       "        vertical-align: middle;\n",
       "    }\n",
       "\n",
       "    .dataframe tbody tr th {\n",
       "        vertical-align: top;\n",
       "    }\n",
       "\n",
       "    .dataframe thead th {\n",
       "        text-align: right;\n",
       "    }\n",
       "</style>\n",
       "<table border=\"1\" class=\"dataframe\">\n",
       "  <thead>\n",
       "    <tr style=\"text-align: right;\">\n",
       "      <th></th>\n",
       "      <th>mean_fit_time</th>\n",
       "      <th>std_fit_time</th>\n",
       "      <th>mean_score_time</th>\n",
       "      <th>std_score_time</th>\n",
       "      <th>param_logreg__max_iter</th>\n",
       "      <th>param_logreg__penalty</th>\n",
       "      <th>params</th>\n",
       "      <th>split0_test_score</th>\n",
       "      <th>split1_test_score</th>\n",
       "      <th>split2_test_score</th>\n",
       "      <th>split3_test_score</th>\n",
       "      <th>split4_test_score</th>\n",
       "      <th>mean_test_score</th>\n",
       "      <th>std_test_score</th>\n",
       "      <th>rank_test_score</th>\n",
       "    </tr>\n",
       "  </thead>\n",
       "  <tbody>\n",
       "    <tr>\n",
       "      <th>0</th>\n",
       "      <td>3.752177</td>\n",
       "      <td>0.633027</td>\n",
       "      <td>0.029785</td>\n",
       "      <td>0.005565</td>\n",
       "      <td>5000</td>\n",
       "      <td>l2</td>\n",
       "      <td>{'logreg__max_iter': 5000, 'logreg__penalty': ...</td>\n",
       "      <td>0.735759</td>\n",
       "      <td>0.710443</td>\n",
       "      <td>0.710443</td>\n",
       "      <td>0.670095</td>\n",
       "      <td>0.648734</td>\n",
       "      <td>0.695095</td>\n",
       "      <td>0.031302</td>\n",
       "      <td>1</td>\n",
       "    </tr>\n",
       "    <tr>\n",
       "      <th>1</th>\n",
       "      <td>88.696714</td>\n",
       "      <td>7.043769</td>\n",
       "      <td>0.029158</td>\n",
       "      <td>0.006250</td>\n",
       "      <td>5000</td>\n",
       "      <td>l1</td>\n",
       "      <td>{'logreg__max_iter': 5000, 'logreg__penalty': ...</td>\n",
       "      <td>0.716772</td>\n",
       "      <td>0.708070</td>\n",
       "      <td>0.707278</td>\n",
       "      <td>0.655063</td>\n",
       "      <td>0.632911</td>\n",
       "      <td>0.684019</td>\n",
       "      <td>0.033594</td>\n",
       "      <td>2</td>\n",
       "    </tr>\n",
       "  </tbody>\n",
       "</table>\n",
       "</div>"
      ],
      "text/plain": [
       "   mean_fit_time  std_fit_time  mean_score_time  std_score_time  \\\n",
       "0       3.752177      0.633027         0.029785        0.005565   \n",
       "1      88.696714      7.043769         0.029158        0.006250   \n",
       "\n",
       "  param_logreg__max_iter param_logreg__penalty  \\\n",
       "0                   5000                    l2   \n",
       "1                   5000                    l1   \n",
       "\n",
       "                                              params  split0_test_score  \\\n",
       "0  {'logreg__max_iter': 5000, 'logreg__penalty': ...           0.735759   \n",
       "1  {'logreg__max_iter': 5000, 'logreg__penalty': ...           0.716772   \n",
       "\n",
       "   split1_test_score  split2_test_score  split3_test_score  split4_test_score  \\\n",
       "0           0.710443           0.710443           0.670095           0.648734   \n",
       "1           0.708070           0.707278           0.655063           0.632911   \n",
       "\n",
       "   mean_test_score  std_test_score  rank_test_score  \n",
       "0         0.695095        0.031302                1  \n",
       "1         0.684019        0.033594                2  "
      ]
     },
     "execution_count": 90,
     "metadata": {},
     "output_type": "execute_result"
    }
   ],
   "source": [
    "gs_df_2 = pd.DataFrame(search_results_2)\n",
    "gs_df_2"
   ]
  },
  {
   "cell_type": "code",
   "execution_count": 109,
   "metadata": {},
   "outputs": [
    {
     "data": {
      "text/plain": [
       "0.6950949367088608"
      ]
     },
     "execution_count": 109,
     "metadata": {},
     "output_type": "execute_result"
    }
   ],
   "source": [
    "top_score_2"
   ]
  },
  {
   "cell_type": "code",
   "execution_count": 132,
   "metadata": {},
   "outputs": [
    {
     "data": {
      "image/png": "[encoded data removed]",
      "text/plain": [
       "<Figure size 432x288 with 2 Axes>"
      ]
     },
     "metadata": {
      "needs_background": "light"
     },
     "output_type": "display_data"
    }
   ],
   "source": [
    "X = corpus['Comments']\n",
    "y = corpus['Team']\n",
    "plot_confusion_matrix(gs_2, X, y, cmap='Blues', values_format='d');\n",
    "plt.title(\"Confusion Matrix for Model 2\")\n",
    "plt.savefig(\"../Images/confusion_matrix_gs_2\", bbox_inches=\"tight\")"
   ]
  },
  {
   "cell_type": "markdown",
   "metadata": {},
   "source": [
    "### Model Pipeline 3: Naïve Bayes"
   ]
  },
  {
   "cell_type": "code",
   "execution_count": 124,
   "metadata": {},
   "outputs": [
    {
     "name": "stdout",
     "output_type": "stream",
     "text": [
      "Fitting 5 folds for each of 1 candidates, totalling 5 fits\n"
     ]
    }
   ],
   "source": [
    "\n",
    "pipe_3 = Pipeline([\n",
    "    ('cv', CountVectorizer()),\n",
    "    ('nb', MultinomialNB())\n",
    "])\n",
    "\n",
    "\n",
    "params_3 = {\n",
    "    'cv__stop_words': [stop_words],\n",
    "    'cv__ngram_range':[(1,3)]\n",
    "}\n",
    "\n",
    "gs_3 = GridSearchCV(pipe_3, param_grid = params_3, cv = 5, verbose = 1)\n",
    "gs_3.fit(corpus['Comments'], corpus['Team'])\n",
    "\n",
    "\n",
    "#Save the Gridsearch models \n",
    "\n",
    "# with open('../datasets/NB_pipe_3.pkl', 'wb') as file:\n",
    "#     pickle.dump(gs_3, file)\n",
    "with open('../datasets/NB_pipe_3.pkl', 'rb') as file:\n",
    "    gs_3_NB = pickle.load(file)\n",
    "\n",
    "    \n",
    "search_results_3 = gs_3_NB.cv_results_\n",
    "top_estimator_3 = gs_3_NB.best_estimator_\n",
    "top_score_3 = gs_3_NB.best_score_\n",
    "top_parameters_3 = gs_3_NB.best_params_"
   ]
  },
  {
   "cell_type": "code",
   "execution_count": 125,
   "metadata": {},
   "outputs": [
    {
     "data": {
      "text/html": [
       "<div>\n",
       "<style scoped>\n",
       "    .dataframe tbody tr th:only-of-type {\n",
       "        vertical-align: middle;\n",
       "    }\n",
       "\n",
       "    .dataframe tbody tr th {\n",
       "        vertical-align: top;\n",
       "    }\n",
       "\n",
       "    .dataframe thead th {\n",
       "        text-align: right;\n",
       "    }\n",
       "</style>\n",
       "<table border=\"1\" class=\"dataframe\">\n",
       "  <thead>\n",
       "    <tr style=\"text-align: right;\">\n",
       "      <th></th>\n",
       "      <th>mean_fit_time</th>\n",
       "      <th>std_fit_time</th>\n",
       "      <th>mean_score_time</th>\n",
       "      <th>std_score_time</th>\n",
       "      <th>param_cv__ngram_range</th>\n",
       "      <th>param_cv__stop_words</th>\n",
       "      <th>params</th>\n",
       "      <th>split0_test_score</th>\n",
       "      <th>split1_test_score</th>\n",
       "      <th>split2_test_score</th>\n",
       "      <th>split3_test_score</th>\n",
       "      <th>split4_test_score</th>\n",
       "      <th>mean_test_score</th>\n",
       "      <th>std_test_score</th>\n",
       "      <th>rank_test_score</th>\n",
       "    </tr>\n",
       "  </thead>\n",
       "  <tbody>\n",
       "    <tr>\n",
       "      <th>0</th>\n",
       "      <td>0.186466</td>\n",
       "      <td>0.026145</td>\n",
       "      <td>0.026309</td>\n",
       "      <td>0.00666</td>\n",
       "      <td>(1, 3)</td>\n",
       "      <td>(sixty, together, else, since, anywhere, pleas...</td>\n",
       "      <td>{'cv__ngram_range': (1, 3), 'cv__stop_words': ...</td>\n",
       "      <td>0.727848</td>\n",
       "      <td>0.693829</td>\n",
       "      <td>0.72943</td>\n",
       "      <td>0.685918</td>\n",
       "      <td>0.656646</td>\n",
       "      <td>0.698734</td>\n",
       "      <td>0.027385</td>\n",
       "      <td>1</td>\n",
       "    </tr>\n",
       "  </tbody>\n",
       "</table>\n",
       "</div>"
      ],
      "text/plain": [
       "   mean_fit_time  std_fit_time  mean_score_time  std_score_time  \\\n",
       "0       0.186466      0.026145         0.026309         0.00666   \n",
       "\n",
       "  param_cv__ngram_range                               param_cv__stop_words  \\\n",
       "0                (1, 3)  (sixty, together, else, since, anywhere, pleas...   \n",
       "\n",
       "                                              params  split0_test_score  \\\n",
       "0  {'cv__ngram_range': (1, 3), 'cv__stop_words': ...           0.727848   \n",
       "\n",
       "   split1_test_score  split2_test_score  split3_test_score  split4_test_score  \\\n",
       "0           0.693829            0.72943           0.685918           0.656646   \n",
       "\n",
       "   mean_test_score  std_test_score  rank_test_score  \n",
       "0         0.698734        0.027385                1  "
      ]
     },
     "execution_count": 125,
     "metadata": {},
     "output_type": "execute_result"
    }
   ],
   "source": [
    "gs_df_3 = pd.DataFrame(search_results_3)\n",
    "gs_df_3"
   ]
  },
  {
   "cell_type": "code",
   "execution_count": 126,
   "metadata": {},
   "outputs": [
    {
     "data": {
      "text/plain": [
       "0.6987341772151898"
      ]
     },
     "execution_count": 126,
     "metadata": {},
     "output_type": "execute_result"
    }
   ],
   "source": [
    "top_score_3"
   ]
  },
  {
   "cell_type": "code",
   "execution_count": 131,
   "metadata": {},
   "outputs": [
    {
     "data": {
      "image/png": "[encoded data removed]",
      "text/plain": [
       "<Figure size 432x288 with 2 Axes>"
      ]
     },
     "metadata": {
      "needs_background": "light"
     },
     "output_type": "display_data"
    }
   ],
   "source": [
    "X = corpus['Comments']\n",
    "y = corpus['Team']\n",
    "plot_confusion_matrix(gs_3, X, y, cmap='Blues', values_format='d');\n",
    "plt.title(\"Confusion Matrix for Model 3\")\n",
    "plt.savefig(\"../Images/confusion_matrix_gs_3\", bbox_inches=\"tight\")"
   ]
  },
  {
   "cell_type": "markdown",
   "metadata": {},
   "source": [
    "### Model Pipeline 4: Logistic Regression with TfidfVectorizer"
   ]
  },
  {
   "cell_type": "code",
   "execution_count": 99,
   "metadata": {},
   "outputs": [
    {
     "name": "stdout",
     "output_type": "stream",
     "text": [
      "Fitting 5 folds for each of 54 candidates, totalling 270 fits\n"
     ]
    }
   ],
   "source": [
    "pipe_4 = Pipeline([  \n",
    "    ('tf', TfidfVectorizer()),\n",
    "    ('lr', LogisticRegression(solver = 'liblinear'))\n",
    "])\n",
    "\n",
    "params_4 = {\n",
    "\n",
    "    'tf__max_features':[1000,2000,3000],\n",
    "    'tf__min_df':[1,2,3],\n",
    "    'tf__ngram_range':[(1,1), (1,2),(1,3)],\n",
    "    'tf__stop_words': [None, stop_words],\n",
    "    \n",
    "\n",
    "    \n",
    "}\n",
    "\n",
    "gs_4 = GridSearchCV(pipe_4, param_grid = params_4, cv = 5, verbose = 1)\n",
    "gs_4.fit(corpus['Comments'], corpus['Team'])\n",
    "\n",
    "# with open('../datasets/logreg_pipe_4.pkl', 'wb') as file:\n",
    "#     pickle.dump(gs_4, file)\n",
    "with open('../datasets/logreg_pipe_4.pkl', 'rb') as file:\n",
    "    gs_4_logreg = pickle.load(file)\n",
    "    \n",
    "\n",
    "search_results_4 = gs_4_logreg.cv_results_\n",
    "top_estimator_4 = gs_4_logreg.best_estimator_\n",
    "top_score_4 = gs_4_logreg.best_score_\n",
    "top_parameters_4 = gs_4_logreg.best_params_\n"
   ]
  },
  {
   "cell_type": "code",
   "execution_count": 100,
   "metadata": {},
   "outputs": [
    {
     "data": {
      "text/html": [
       "<div>\n",
       "<style scoped>\n",
       "    .dataframe tbody tr th:only-of-type {\n",
       "        vertical-align: middle;\n",
       "    }\n",
       "\n",
       "    .dataframe tbody tr th {\n",
       "        vertical-align: top;\n",
       "    }\n",
       "\n",
       "    .dataframe thead th {\n",
       "        text-align: right;\n",
       "    }\n",
       "</style>\n",
       "<table border=\"1\" class=\"dataframe\">\n",
       "  <thead>\n",
       "    <tr style=\"text-align: right;\">\n",
       "      <th></th>\n",
       "      <th>mean_fit_time</th>\n",
       "      <th>std_fit_time</th>\n",
       "      <th>mean_score_time</th>\n",
       "      <th>std_score_time</th>\n",
       "      <th>param_logreg__max_iter</th>\n",
       "      <th>param_logreg__penalty</th>\n",
       "      <th>params</th>\n",
       "      <th>split0_test_score</th>\n",
       "      <th>split1_test_score</th>\n",
       "      <th>split2_test_score</th>\n",
       "      <th>split3_test_score</th>\n",
       "      <th>split4_test_score</th>\n",
       "      <th>mean_test_score</th>\n",
       "      <th>std_test_score</th>\n",
       "      <th>rank_test_score</th>\n",
       "    </tr>\n",
       "  </thead>\n",
       "  <tbody>\n",
       "    <tr>\n",
       "      <th>0</th>\n",
       "      <td>3.752177</td>\n",
       "      <td>0.633027</td>\n",
       "      <td>0.029785</td>\n",
       "      <td>0.005565</td>\n",
       "      <td>5000</td>\n",
       "      <td>l2</td>\n",
       "      <td>{'logreg__max_iter': 5000, 'logreg__penalty': ...</td>\n",
       "      <td>0.735759</td>\n",
       "      <td>0.710443</td>\n",
       "      <td>0.710443</td>\n",
       "      <td>0.670095</td>\n",
       "      <td>0.648734</td>\n",
       "      <td>0.695095</td>\n",
       "      <td>0.031302</td>\n",
       "      <td>1</td>\n",
       "    </tr>\n",
       "    <tr>\n",
       "      <th>1</th>\n",
       "      <td>88.696714</td>\n",
       "      <td>7.043769</td>\n",
       "      <td>0.029158</td>\n",
       "      <td>0.006250</td>\n",
       "      <td>5000</td>\n",
       "      <td>l1</td>\n",
       "      <td>{'logreg__max_iter': 5000, 'logreg__penalty': ...</td>\n",
       "      <td>0.716772</td>\n",
       "      <td>0.708070</td>\n",
       "      <td>0.707278</td>\n",
       "      <td>0.655063</td>\n",
       "      <td>0.632911</td>\n",
       "      <td>0.684019</td>\n",
       "      <td>0.033594</td>\n",
       "      <td>2</td>\n",
       "    </tr>\n",
       "  </tbody>\n",
       "</table>\n",
       "</div>"
      ],
      "text/plain": [
       "   mean_fit_time  std_fit_time  mean_score_time  std_score_time  \\\n",
       "0       3.752177      0.633027         0.029785        0.005565   \n",
       "1      88.696714      7.043769         0.029158        0.006250   \n",
       "\n",
       "  param_logreg__max_iter param_logreg__penalty  \\\n",
       "0                   5000                    l2   \n",
       "1                   5000                    l1   \n",
       "\n",
       "                                              params  split0_test_score  \\\n",
       "0  {'logreg__max_iter': 5000, 'logreg__penalty': ...           0.735759   \n",
       "1  {'logreg__max_iter': 5000, 'logreg__penalty': ...           0.716772   \n",
       "\n",
       "   split1_test_score  split2_test_score  split3_test_score  split4_test_score  \\\n",
       "0           0.710443           0.710443           0.670095           0.648734   \n",
       "1           0.708070           0.707278           0.655063           0.632911   \n",
       "\n",
       "   mean_test_score  std_test_score  rank_test_score  \n",
       "0         0.695095        0.031302                1  \n",
       "1         0.684019        0.033594                2  "
      ]
     },
     "execution_count": 100,
     "metadata": {},
     "output_type": "execute_result"
    }
   ],
   "source": [
    "gs_df_4 = pd.DataFrame(search_results_4)\n",
    "gs_df_4"
   ]
  },
  {
   "cell_type": "code",
   "execution_count": 114,
   "metadata": {},
   "outputs": [
    {
     "data": {
      "text/plain": [
       "0.6950949367088608"
      ]
     },
     "execution_count": 114,
     "metadata": {},
     "output_type": "execute_result"
    }
   ],
   "source": [
    "top_score_4"
   ]
  },
  {
   "cell_type": "code",
   "execution_count": 135,
   "metadata": {},
   "outputs": [
    {
     "data": {
      "image/png": "[encoded data removed]",
      "text/plain": [
       "<Figure size 432x288 with 2 Axes>"
      ]
     },
     "metadata": {
      "needs_background": "light"
     },
     "output_type": "display_data"
    },
    {
     "data": {
      "text/plain": [
       "<Figure size 864x864 with 0 Axes>"
      ]
     },
     "metadata": {},
     "output_type": "display_data"
    }
   ],
   "source": [
    "X = corpus['Comments']\n",
    "y = corpus['Team']\n",
    "plot_confusion_matrix(gs_4, X, y, cmap='Blues', values_format='d');\n",
    "plt.title(\"Confusion Matrix for Model 4\")\n",
    "plt.figure(figsize = (12,12))\n",
    "plt.savefig(\"../Images/confusion_matrix_gs_4\", bbox_inches=\"tight\");"
   ]
  },
  {
   "cell_type": "code",
   "execution_count": null,
   "metadata": {},
   "outputs": [],
   "source": []
  }
 ],
 "metadata": {
  "kernelspec": {
   "display_name": "Python 3",
   "language": "python",
   "name": "python3"
  },
  "language_info": {
   "codemirror_mode": {
    "name": "ipython",
    "version": 3
   },
   "file_extension": ".py",
   "mimetype": "text/x-python",
   "name": "python",
   "nbconvert_exporter": "python",
   "pygments_lexer": "ipython3",
   "version": "3.8.5"
  }
 },
 "nbformat": 4,
 "nbformat_minor": 4
}
