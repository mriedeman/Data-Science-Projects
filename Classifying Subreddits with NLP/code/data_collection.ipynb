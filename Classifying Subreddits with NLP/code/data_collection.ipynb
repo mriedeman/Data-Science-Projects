{
 "cells": [
  {
   "cell_type": "markdown",
   "metadata": {},
   "source": [
    "# Data Collection"
   ]
  },
  {
   "cell_type": "markdown",
   "metadata": {},
   "source": [
    "The code below uses reddit's pushift api and the praw api wrapper to extract reddit comments from two posts. These two posts are the teams' respective game threads from the r/SFGiants and r/Dodgers subreddits. A game thread is where fans post comments and interact with each other while watching the game. The context for the comments was the two team's June 28th matchup against eachother in Dodger Stadium. The starting pitchers were Anthony DeSclafani (8-2, 2.77 ERA) and Trevor Bauer (7-5, 2.57 ERA). The Dodgers defeated the Giants 3-2, cutting the Giants lead in the division to 2.5 games."
   ]
  },
  {
   "cell_type": "code",
   "execution_count": 1,
   "metadata": {},
   "outputs": [],
   "source": [
    "import praw\n",
    "import requests\n",
    "import pandas as pd"
   ]
  },
  {
   "cell_type": "code",
   "execution_count": 2,
   "metadata": {},
   "outputs": [],
   "source": [
    "url= 'https://api.pushshift.io/reddit/search/submission'"
   ]
  },
  {
   "cell_type": "code",
   "execution_count": 3,
   "metadata": {},
   "outputs": [],
   "source": [
    "params = {\n",
    "    'subreddit' : 'sfgiants',\n",
    "    'author' :'sfgbot'\n",
    "}"
   ]
  },
  {
   "cell_type": "code",
   "execution_count": 4,
   "metadata": {},
   "outputs": [],
   "source": [
    "res = requests.get(url, params)"
   ]
  },
  {
   "cell_type": "code",
   "execution_count": 5,
   "metadata": {},
   "outputs": [
    {
     "data": {
      "text/plain": [
       "200"
      ]
     },
     "execution_count": 5,
     "metadata": {},
     "output_type": "execute_result"
    }
   ],
   "source": [
    "#check status\n",
    "res.status_code"
   ]
  },
  {
   "cell_type": "code",
   "execution_count": 6,
   "metadata": {},
   "outputs": [],
   "source": [
    "#convert to json\n",
    "data = res.json()"
   ]
  },
  {
   "cell_type": "code",
   "execution_count": 7,
   "metadata": {},
   "outputs": [],
   "source": [
    "posts = data['data']"
   ]
  },
  {
   "cell_type": "code",
   "execution_count": 8,
   "metadata": {},
   "outputs": [
    {
     "data": {
      "text/plain": [
       "'oa5ymf'"
      ]
     },
     "execution_count": 8,
     "metadata": {},
     "output_type": "execute_result"
    }
   ],
   "source": [
    "#api drill down to id\n",
    "posts[0]['id']"
   ]
  },
  {
   "cell_type": "code",
   "execution_count": 9,
   "metadata": {},
   "outputs": [
    {
     "data": {
      "text/html": [
       "<div>\n",
       "<style scoped>\n",
       "    .dataframe tbody tr th:only-of-type {\n",
       "        vertical-align: middle;\n",
       "    }\n",
       "\n",
       "    .dataframe tbody tr th {\n",
       "        vertical-align: top;\n",
       "    }\n",
       "\n",
       "    .dataframe thead th {\n",
       "        text-align: right;\n",
       "    }\n",
       "</style>\n",
       "<table border=\"1\" class=\"dataframe\">\n",
       "  <thead>\n",
       "    <tr style=\"text-align: right;\">\n",
       "      <th></th>\n",
       "      <th>subreddit</th>\n",
       "      <th>selftext</th>\n",
       "      <th>title</th>\n",
       "      <th>id</th>\n",
       "    </tr>\n",
       "  </thead>\n",
       "  <tbody>\n",
       "    <tr>\n",
       "      <th>0</th>\n",
       "      <td>SFGiants</td>\n",
       "      <td>### Giants (50-28) @ Dodgers (48-31)\\n\\nFirst ...</td>\n",
       "      <td>Gameday Thread 6/29/21 Giants (Gausman) @ Dodg...</td>\n",
       "      <td>oa5ymf</td>\n",
       "    </tr>\n",
       "    <tr>\n",
       "      <th>1</th>\n",
       "      <td>SFGiants</td>\n",
       "      <td>### Giants 2 @ Dodgers 3\\n\\n**Purpose of this ...</td>\n",
       "      <td>POSTGAME THREAD: Giants @ Dodgers, 6/28. Join ...</td>\n",
       "      <td>oa1qzn</td>\n",
       "    </tr>\n",
       "    <tr>\n",
       "      <th>2</th>\n",
       "      <td>SFGiants</td>\n",
       "      <td>### Giants (50-27) @ Dodgers (47-31)\\n\\nFirst ...</td>\n",
       "      <td>Gameday Thread 6/28/21 Giants (DeSclafani) @ D...</td>\n",
       "      <td>o9hxxu</td>\n",
       "    </tr>\n",
       "    <tr>\n",
       "      <th>3</th>\n",
       "      <td>SFGiants</td>\n",
       "      <td>### Athletics 6 @ Giants 2\\n\\n**Purpose of thi...</td>\n",
       "      <td>POSTGAME THREAD: Athletics @ Giants, 6/27. Joi...</td>\n",
       "      <td>o97thy</td>\n",
       "    </tr>\n",
       "    <tr>\n",
       "      <th>4</th>\n",
       "      <td>SFGiants</td>\n",
       "      <td>### Athletics (46-33) @ Giants (50-26)\\n\\nFirs...</td>\n",
       "      <td>Gameday Thread 6/27/21 Athletics (Irvin) @ Gia...</td>\n",
       "      <td>o8uxrz</td>\n",
       "    </tr>\n",
       "  </tbody>\n",
       "</table>\n",
       "</div>"
      ],
      "text/plain": [
       "  subreddit                                           selftext  \\\n",
       "0  SFGiants  ### Giants (50-28) @ Dodgers (48-31)\\n\\nFirst ...   \n",
       "1  SFGiants  ### Giants 2 @ Dodgers 3\\n\\n**Purpose of this ...   \n",
       "2  SFGiants  ### Giants (50-27) @ Dodgers (47-31)\\n\\nFirst ...   \n",
       "3  SFGiants  ### Athletics 6 @ Giants 2\\n\\n**Purpose of thi...   \n",
       "4  SFGiants  ### Athletics (46-33) @ Giants (50-26)\\n\\nFirs...   \n",
       "\n",
       "                                               title      id  \n",
       "0  Gameday Thread 6/29/21 Giants (Gausman) @ Dodg...  oa5ymf  \n",
       "1  POSTGAME THREAD: Giants @ Dodgers, 6/28. Join ...  oa1qzn  \n",
       "2  Gameday Thread 6/28/21 Giants (DeSclafani) @ D...  o9hxxu  \n",
       "3  POSTGAME THREAD: Athletics @ Giants, 6/27. Joi...  o97thy  \n",
       "4  Gameday Thread 6/27/21 Athletics (Irvin) @ Gia...  o8uxrz  "
      ]
     },
     "execution_count": 9,
     "metadata": {},
     "output_type": "execute_result"
    }
   ],
   "source": [
    "df = pd.DataFrame(posts) #all of the keys of the dictionary are column heads, \n",
    "\n",
    "df[['subreddit', 'selftext', 'title','id']].head()"
   ]
  },
  {
   "cell_type": "markdown",
   "metadata": {},
   "source": [
    "**List of Sublmission Ids for just game threads**"
   ]
  },
  {
   "cell_type": "code",
   "execution_count": 10,
   "metadata": {},
   "outputs": [],
   "source": [
    "submission_ids = [code for thread, code in zip(df['title'],df['id']) if 'Dodgers' in thread]"
   ]
  },
  {
   "cell_type": "markdown",
   "metadata": {},
   "source": [
    "Extracted comments in thread using praw api wrapper.\n",
    "\n",
    "Praw Documentation ([*source*](https://praw.readthedocs.io/en/latest/tutorials/comments.html))\n",
    "\n",
    "Praw Youtube Tutorial by Sentdex ([*source*](https://www.youtube.com/watch?v=KX2jvnQ3u60&ab_channel=sentdex))"
   ]
  },
  {
   "cell_type": "code",
   "execution_count": 11,
   "metadata": {},
   "outputs": [],
   "source": [
    "\n",
    "reddit = praw.Reddit(\n",
    "    \n",
    "    client_id=\"ZKKDfvdcVbHI7g\",\n",
    "    client_secret=\"NH9M7mAcGC9Y7TEUeY1M4rQKf-1zJg\",\n",
    "    username=\"dsmsprojects\",\n",
    "    password=\"3_gZ?KyiGg6.@uC\",\n",
    "    user_agent=\"prawproject\",\n",
    ")"
   ]
  },
  {
   "cell_type": "markdown",
   "metadata": {},
   "source": [
    "In this section a game thread submission for 6/28/2021 is extracted using the submissions id obtained from pushshift api."
   ]
  },
  {
   "cell_type": "code",
   "execution_count": 12,
   "metadata": {},
   "outputs": [],
   "source": [
    "giantsthread = reddit.submission(id='o9hxxu')"
   ]
  },
  {
   "cell_type": "code",
   "execution_count": 13,
   "metadata": {},
   "outputs": [],
   "source": [
    "#subreddit = reddit.subreddit('sfgiants')"
   ]
  },
  {
   "cell_type": "code",
   "execution_count": 14,
   "metadata": {},
   "outputs": [
    {
     "data": {
      "text/html": [
       "<div>\n",
       "<style scoped>\n",
       "    .dataframe tbody tr th:only-of-type {\n",
       "        vertical-align: middle;\n",
       "    }\n",
       "\n",
       "    .dataframe tbody tr th {\n",
       "        vertical-align: top;\n",
       "    }\n",
       "\n",
       "    .dataframe thead th {\n",
       "        text-align: right;\n",
       "    }\n",
       "</style>\n",
       "<table border=\"1\" class=\"dataframe\">\n",
       "  <thead>\n",
       "    <tr style=\"text-align: right;\">\n",
       "      <th></th>\n",
       "      <th>Comments</th>\n",
       "    </tr>\n",
       "  </thead>\n",
       "  <tbody>\n",
       "    <tr>\n",
       "      <th>0</th>\n",
       "      <td>Not scared of Bauer. Let's fucking rattle him.</td>\n",
       "    </tr>\n",
       "    <tr>\n",
       "      <th>1</th>\n",
       "      <td>Obligatory going to the game today. Heard ther...</td>\n",
       "    </tr>\n",
       "    <tr>\n",
       "      <th>2</th>\n",
       "      <td>https://www.mlb.com/all-star/ballot \\n\\nHave y...</td>\n",
       "    </tr>\n",
       "    <tr>\n",
       "      <th>3</th>\n",
       "      <td>games past 6pm should be illegal. i’m old and ...</td>\n",
       "    </tr>\n",
       "    <tr>\n",
       "      <th>4</th>\n",
       "      <td>The thing about the dodgers that I have to say...</td>\n",
       "    </tr>\n",
       "    <tr>\n",
       "      <th>...</th>\n",
       "      <td>...</td>\n",
       "    </tr>\n",
       "    <tr>\n",
       "      <th>3961</th>\n",
       "      <td>Extreme hatred of the wave is justifiable. \\n\\...</td>\n",
       "    </tr>\n",
       "    <tr>\n",
       "      <th>3962</th>\n",
       "      <td>Yeah!!!!</td>\n",
       "    </tr>\n",
       "    <tr>\n",
       "      <th>3963</th>\n",
       "      <td>The same as 2/$10 Barefoot? Asking for a friend</td>\n",
       "    </tr>\n",
       "    <tr>\n",
       "      <th>3964</th>\n",
       "      <td>It ain't right.</td>\n",
       "    </tr>\n",
       "    <tr>\n",
       "      <th>3965</th>\n",
       "      <td>spelling champions</td>\n",
       "    </tr>\n",
       "  </tbody>\n",
       "</table>\n",
       "<p>3966 rows × 1 columns</p>\n",
       "</div>"
      ],
      "text/plain": [
       "                                               Comments\n",
       "0        Not scared of Bauer. Let's fucking rattle him.\n",
       "1     Obligatory going to the game today. Heard ther...\n",
       "2     https://www.mlb.com/all-star/ballot \\n\\nHave y...\n",
       "3     games past 6pm should be illegal. i’m old and ...\n",
       "4     The thing about the dodgers that I have to say...\n",
       "...                                                 ...\n",
       "3961  Extreme hatred of the wave is justifiable. \\n\\...\n",
       "3962                                           Yeah!!!!\n",
       "3963    The same as 2/$10 Barefoot? Asking for a friend\n",
       "3964                                    It ain't right.\n",
       "3965                                 spelling champions\n",
       "\n",
       "[3966 rows x 1 columns]"
      ]
     },
     "execution_count": 14,
     "metadata": {},
     "output_type": "execute_result"
    }
   ],
   "source": [
    "#this code takes a while to run\n",
    "giants_df = pd.DataFrame()\n",
    "giantsthread.comments.replace_more(limit=None) #allows more than 500 comments to be extracted\n",
    "comments = giantsthread.comments.list() #allows replys to comments to also be extracted\n",
    "for comment in comments:\n",
    "    \n",
    "    try:\n",
    "        giants_df = giants_df.append({'Comments': comment.body}, ignore_index=True) #add each comment as a row into the giants_df\n",
    "    except: AttributeError #ignores error that occurs when comment.body is applied to the end of the thread and there isn't anything in \"More Comments\"\n",
    "    \n",
    "giants_df"
   ]
  },
  {
   "cell_type": "markdown",
   "metadata": {},
   "source": [
    "Add a column for the team. This is the first choice in our binary classification model. The other choice will be the dodgers."
   ]
  },
  {
   "cell_type": "code",
   "execution_count": 15,
   "metadata": {},
   "outputs": [
    {
     "data": {
      "text/html": [
       "<div>\n",
       "<style scoped>\n",
       "    .dataframe tbody tr th:only-of-type {\n",
       "        vertical-align: middle;\n",
       "    }\n",
       "\n",
       "    .dataframe tbody tr th {\n",
       "        vertical-align: top;\n",
       "    }\n",
       "\n",
       "    .dataframe thead th {\n",
       "        text-align: right;\n",
       "    }\n",
       "</style>\n",
       "<table border=\"1\" class=\"dataframe\">\n",
       "  <thead>\n",
       "    <tr style=\"text-align: right;\">\n",
       "      <th></th>\n",
       "      <th>Comments</th>\n",
       "      <th>Team</th>\n",
       "    </tr>\n",
       "  </thead>\n",
       "  <tbody>\n",
       "    <tr>\n",
       "      <th>0</th>\n",
       "      <td>Not scared of Bauer. Let's fucking rattle him.</td>\n",
       "      <td>Giants</td>\n",
       "    </tr>\n",
       "    <tr>\n",
       "      <th>1</th>\n",
       "      <td>Obligatory going to the game today. Heard ther...</td>\n",
       "      <td>Giants</td>\n",
       "    </tr>\n",
       "    <tr>\n",
       "      <th>2</th>\n",
       "      <td>https://www.mlb.com/all-star/ballot \\n\\nHave y...</td>\n",
       "      <td>Giants</td>\n",
       "    </tr>\n",
       "    <tr>\n",
       "      <th>3</th>\n",
       "      <td>games past 6pm should be illegal. i’m old and ...</td>\n",
       "      <td>Giants</td>\n",
       "    </tr>\n",
       "    <tr>\n",
       "      <th>4</th>\n",
       "      <td>The thing about the dodgers that I have to say...</td>\n",
       "      <td>Giants</td>\n",
       "    </tr>\n",
       "  </tbody>\n",
       "</table>\n",
       "</div>"
      ],
      "text/plain": [
       "                                            Comments    Team\n",
       "0     Not scared of Bauer. Let's fucking rattle him.  Giants\n",
       "1  Obligatory going to the game today. Heard ther...  Giants\n",
       "2  https://www.mlb.com/all-star/ballot \\n\\nHave y...  Giants\n",
       "3  games past 6pm should be illegal. i’m old and ...  Giants\n",
       "4  The thing about the dodgers that I have to say...  Giants"
      ]
     },
     "execution_count": 15,
     "metadata": {},
     "output_type": "execute_result"
    }
   ],
   "source": [
    "giants_df['Team'] = 'Giants'\n",
    "\n",
    "giants_df.head()"
   ]
  },
  {
   "cell_type": "code",
   "execution_count": 16,
   "metadata": {},
   "outputs": [],
   "source": [
    "params_2 = {\n",
    "'subreddit' : 'dodgers',\n",
    "'author' :'dodgerbot'\n",
    "}"
   ]
  },
  {
   "cell_type": "code",
   "execution_count": 17,
   "metadata": {},
   "outputs": [],
   "source": [
    "res_2 = requests.get(url, params_2)"
   ]
  },
  {
   "cell_type": "code",
   "execution_count": 18,
   "metadata": {},
   "outputs": [
    {
     "data": {
      "text/plain": [
       "200"
      ]
     },
     "execution_count": 18,
     "metadata": {},
     "output_type": "execute_result"
    }
   ],
   "source": [
    "res_2.status_code"
   ]
  },
  {
   "cell_type": "code",
   "execution_count": 19,
   "metadata": {},
   "outputs": [],
   "source": [
    "data_2 = res_2.json()"
   ]
  },
  {
   "cell_type": "code",
   "execution_count": 20,
   "metadata": {},
   "outputs": [],
   "source": [
    "posts_2 = data_2['data']"
   ]
  },
  {
   "cell_type": "code",
   "execution_count": 21,
   "metadata": {},
   "outputs": [
    {
     "data": {
      "text/plain": [
       "'oa8uo9'"
      ]
     },
     "execution_count": 21,
     "metadata": {},
     "output_type": "execute_result"
    }
   ],
   "source": [
    "#api drill down to id\n",
    "posts_2[0]['id']"
   ]
  },
  {
   "cell_type": "code",
   "execution_count": 22,
   "metadata": {},
   "outputs": [
    {
     "data": {
      "text/html": [
       "<div>\n",
       "<style scoped>\n",
       "    .dataframe tbody tr th:only-of-type {\n",
       "        vertical-align: middle;\n",
       "    }\n",
       "\n",
       "    .dataframe tbody tr th {\n",
       "        vertical-align: top;\n",
       "    }\n",
       "\n",
       "    .dataframe thead th {\n",
       "        text-align: right;\n",
       "    }\n",
       "</style>\n",
       "<table border=\"1\" class=\"dataframe\">\n",
       "  <thead>\n",
       "    <tr style=\"text-align: right;\">\n",
       "      <th></th>\n",
       "      <th>subreddit</th>\n",
       "      <th>selftext</th>\n",
       "      <th>title</th>\n",
       "      <th>id</th>\n",
       "    </tr>\n",
       "  </thead>\n",
       "  <tbody>\n",
       "    <tr>\n",
       "      <th>0</th>\n",
       "      <td>Dodgers</td>\n",
       "      <td>## Today's Matchup\\n\\n## ⚾ Dodgers vs. Giants ...</td>\n",
       "      <td>Daily Chat 6/29 ⚾ Game Day</td>\n",
       "      <td>oa8uo9</td>\n",
       "    </tr>\n",
       "    <tr>\n",
       "      <th>1</th>\n",
       "      <td>Dodgers</td>\n",
       "      <td>### Line Score - Final\\n\\n| |1|2|3|4|5|6|7|8|9...</td>\n",
       "      <td>Postgame Thread ⚾ Giants 2 @ Dodgers 3</td>\n",
       "      <td>oa1rel</td>\n",
       "    </tr>\n",
       "    <tr>\n",
       "      <th>2</th>\n",
       "      <td>Dodgers</td>\n",
       "      <td>### Giants (50-27) @ Dodgers (47-31) [](http:/...</td>\n",
       "      <td>Game Chat 6/28 - Giants (50-27) @ Dodgers (47-...</td>\n",
       "      <td>o9xssr</td>\n",
       "    </tr>\n",
       "    <tr>\n",
       "      <th>3</th>\n",
       "      <td>Dodgers</td>\n",
       "      <td>## Today's Matchup\\n\\n## ⚾ Dodgers vs. Giants ...</td>\n",
       "      <td>Daily Chat 6/28 ⚾ Game Day</td>\n",
       "      <td>o9ktqs</td>\n",
       "    </tr>\n",
       "    <tr>\n",
       "      <th>4</th>\n",
       "      <td>Dodgers</td>\n",
       "      <td>### Line Score - Final\\n\\n| |1|2|3|4|5|6|7|8|9...</td>\n",
       "      <td>Postgame Thread ⚾ Cubs 1 @ Dodgers 7</td>\n",
       "      <td>o9ailb</td>\n",
       "    </tr>\n",
       "  </tbody>\n",
       "</table>\n",
       "</div>"
      ],
      "text/plain": [
       "  subreddit                                           selftext  \\\n",
       "0   Dodgers  ## Today's Matchup\\n\\n## ⚾ Dodgers vs. Giants ...   \n",
       "1   Dodgers  ### Line Score - Final\\n\\n| |1|2|3|4|5|6|7|8|9...   \n",
       "2   Dodgers  ### Giants (50-27) @ Dodgers (47-31) [](http:/...   \n",
       "3   Dodgers  ## Today's Matchup\\n\\n## ⚾ Dodgers vs. Giants ...   \n",
       "4   Dodgers  ### Line Score - Final\\n\\n| |1|2|3|4|5|6|7|8|9...   \n",
       "\n",
       "                                               title      id  \n",
       "0                         Daily Chat 6/29 ⚾ Game Day  oa8uo9  \n",
       "1             Postgame Thread ⚾ Giants 2 @ Dodgers 3  oa1rel  \n",
       "2  Game Chat 6/28 - Giants (50-27) @ Dodgers (47-...  o9xssr  \n",
       "3                         Daily Chat 6/28 ⚾ Game Day  o9ktqs  \n",
       "4               Postgame Thread ⚾ Cubs 1 @ Dodgers 7  o9ailb  "
      ]
     },
     "execution_count": 22,
     "metadata": {},
     "output_type": "execute_result"
    }
   ],
   "source": [
    "df_2 = pd.DataFrame(posts_2) #all of the keys of the dictionary are column heads\n",
    "\n",
    "df_2[['subreddit', 'selftext', 'title','id']].head()"
   ]
  },
  {
   "cell_type": "markdown",
   "metadata": {},
   "source": [
    "Below filters the submission ids for only Giants/Dodgers matchups. The for loop below could designed to loop through multiple games by changing the submission id, but one game was sufficient data."
   ]
  },
  {
   "cell_type": "code",
   "execution_count": 23,
   "metadata": {},
   "outputs": [
    {
     "data": {
      "text/plain": [
       "['oa1rel', 'o9xssr']"
      ]
     },
     "execution_count": 23,
     "metadata": {},
     "output_type": "execute_result"
    }
   ],
   "source": [
    "submission_ids_2 = [code for thread, code in zip(df_2['title'], df_2['id']) if 'Giants' in thread]\n",
    "\n",
    "submission_ids_2"
   ]
  },
  {
   "cell_type": "code",
   "execution_count": 24,
   "metadata": {},
   "outputs": [],
   "source": [
    "dodgers_thread = reddit.submission(id='o9xssr')"
   ]
  },
  {
   "cell_type": "code",
   "execution_count": 25,
   "metadata": {},
   "outputs": [
    {
     "data": {
      "text/html": [
       "<div>\n",
       "<style scoped>\n",
       "    .dataframe tbody tr th:only-of-type {\n",
       "        vertical-align: middle;\n",
       "    }\n",
       "\n",
       "    .dataframe tbody tr th {\n",
       "        vertical-align: top;\n",
       "    }\n",
       "\n",
       "    .dataframe thead th {\n",
       "        text-align: right;\n",
       "    }\n",
       "</style>\n",
       "<table border=\"1\" class=\"dataframe\">\n",
       "  <thead>\n",
       "    <tr style=\"text-align: right;\">\n",
       "      <th></th>\n",
       "      <th>Comments</th>\n",
       "    </tr>\n",
       "  </thead>\n",
       "  <tbody>\n",
       "    <tr>\n",
       "      <th>0</th>\n",
       "      <td>Kenley throwing three straight sliders to Pose...</td>\n",
       "    </tr>\n",
       "    <tr>\n",
       "      <th>1</th>\n",
       "      <td>Not going to lie, I’ve been going through a bi...</td>\n",
       "    </tr>\n",
       "    <tr>\n",
       "      <th>2</th>\n",
       "      <td>Kenley with a 1.42 ERA, pretty good for a wash...</td>\n",
       "    </tr>\n",
       "    <tr>\n",
       "      <th>3</th>\n",
       "      <td>I talked shit about Pollock and he’s been goin...</td>\n",
       "    </tr>\n",
       "    <tr>\n",
       "      <th>4</th>\n",
       "      <td>People acting like two ER in 6 innings is bad,...</td>\n",
       "    </tr>\n",
       "    <tr>\n",
       "      <th>...</th>\n",
       "      <td>...</td>\n",
       "    </tr>\n",
       "    <tr>\n",
       "      <th>2349</th>\n",
       "      <td>What's wrong with liking assholes?</td>\n",
       "    </tr>\n",
       "    <tr>\n",
       "      <th>2350</th>\n",
       "      <td>FIP doesn't invalidate ERA aka results. it sup...</td>\n",
       "    </tr>\n",
       "    <tr>\n",
       "      <th>2351</th>\n",
       "      <td>Look as a bisexual I like people that like my ...</td>\n",
       "    </tr>\n",
       "    <tr>\n",
       "      <th>2352</th>\n",
       "      <td>How about xERA? That’s  a whole run over his E...</td>\n",
       "    </tr>\n",
       "    <tr>\n",
       "      <th>2353</th>\n",
       "      <td>Lmao!! The jints are like nipple chafing? That...</td>\n",
       "    </tr>\n",
       "  </tbody>\n",
       "</table>\n",
       "<p>2354 rows × 1 columns</p>\n",
       "</div>"
      ],
      "text/plain": [
       "                                               Comments\n",
       "0     Kenley throwing three straight sliders to Pose...\n",
       "1     Not going to lie, I’ve been going through a bi...\n",
       "2     Kenley with a 1.42 ERA, pretty good for a wash...\n",
       "3     I talked shit about Pollock and he’s been goin...\n",
       "4     People acting like two ER in 6 innings is bad,...\n",
       "...                                                 ...\n",
       "2349                 What's wrong with liking assholes?\n",
       "2350  FIP doesn't invalidate ERA aka results. it sup...\n",
       "2351  Look as a bisexual I like people that like my ...\n",
       "2352  How about xERA? That’s  a whole run over his E...\n",
       "2353  Lmao!! The jints are like nipple chafing? That...\n",
       "\n",
       "[2354 rows x 1 columns]"
      ]
     },
     "execution_count": 25,
     "metadata": {},
     "output_type": "execute_result"
    }
   ],
   "source": [
    "dodgers_df = pd.DataFrame()\n",
    "dodgers_thread.comments.replace_more(limit=None)\n",
    "comments_2 = dodgers_thread.comments.list()\n",
    "for comment in comments_2:\n",
    "    \n",
    "    try:\n",
    "        dodgers_df = dodgers_df.append({'Comments': comment.body}, ignore_index=True)\n",
    "    except: AttributeError\n",
    "    \n",
    "dodgers_df"
   ]
  },
  {
   "cell_type": "code",
   "execution_count": 26,
   "metadata": {},
   "outputs": [
    {
     "data": {
      "text/html": [
       "<div>\n",
       "<style scoped>\n",
       "    .dataframe tbody tr th:only-of-type {\n",
       "        vertical-align: middle;\n",
       "    }\n",
       "\n",
       "    .dataframe tbody tr th {\n",
       "        vertical-align: top;\n",
       "    }\n",
       "\n",
       "    .dataframe thead th {\n",
       "        text-align: right;\n",
       "    }\n",
       "</style>\n",
       "<table border=\"1\" class=\"dataframe\">\n",
       "  <thead>\n",
       "    <tr style=\"text-align: right;\">\n",
       "      <th></th>\n",
       "      <th>Comments</th>\n",
       "      <th>Team</th>\n",
       "    </tr>\n",
       "  </thead>\n",
       "  <tbody>\n",
       "    <tr>\n",
       "      <th>0</th>\n",
       "      <td>Kenley throwing three straight sliders to Pose...</td>\n",
       "      <td>Dodgers</td>\n",
       "    </tr>\n",
       "    <tr>\n",
       "      <th>1</th>\n",
       "      <td>Not going to lie, I’ve been going through a bi...</td>\n",
       "      <td>Dodgers</td>\n",
       "    </tr>\n",
       "    <tr>\n",
       "      <th>2</th>\n",
       "      <td>Kenley with a 1.42 ERA, pretty good for a wash...</td>\n",
       "      <td>Dodgers</td>\n",
       "    </tr>\n",
       "    <tr>\n",
       "      <th>3</th>\n",
       "      <td>I talked shit about Pollock and he’s been goin...</td>\n",
       "      <td>Dodgers</td>\n",
       "    </tr>\n",
       "    <tr>\n",
       "      <th>4</th>\n",
       "      <td>People acting like two ER in 6 innings is bad,...</td>\n",
       "      <td>Dodgers</td>\n",
       "    </tr>\n",
       "  </tbody>\n",
       "</table>\n",
       "</div>"
      ],
      "text/plain": [
       "                                            Comments     Team\n",
       "0  Kenley throwing three straight sliders to Pose...  Dodgers\n",
       "1  Not going to lie, I’ve been going through a bi...  Dodgers\n",
       "2  Kenley with a 1.42 ERA, pretty good for a wash...  Dodgers\n",
       "3  I talked shit about Pollock and he’s been goin...  Dodgers\n",
       "4  People acting like two ER in 6 innings is bad,...  Dodgers"
      ]
     },
     "execution_count": 26,
     "metadata": {},
     "output_type": "execute_result"
    }
   ],
   "source": [
    "dodgers_df['Team'] = 'Dodgers'\n",
    "\n",
    "dodgers_df.head()"
   ]
  },
  {
   "cell_type": "code",
   "execution_count": 27,
   "metadata": {},
   "outputs": [
    {
     "data": {
      "text/plain": [
       "(6320, 2)"
      ]
     },
     "execution_count": 27,
     "metadata": {},
     "output_type": "execute_result"
    }
   ],
   "source": [
    "#combine the dataset for each team's comments to be used for the binary classification model\n",
    "rivalry_df = pd.concat([giants_df,dodgers_df])\n",
    "\n",
    "rivalry_df.shape"
   ]
  },
  {
   "cell_type": "code",
   "execution_count": 29,
   "metadata": {},
   "outputs": [],
   "source": [
    "#export to csv file, the modeling will be completed in the model.ipynb file\n",
    "rivalry_df.to_csv('../datasets/rivalry_df.csv', index = False)"
   ]
  }
 ],
 "metadata": {
  "kernelspec": {
   "display_name": "Python 3",
   "language": "python",
   "name": "python3"
  },
  "language_info": {
   "codemirror_mode": {
    "name": "ipython",
    "version": 3
   },
   "file_extension": ".py",
   "mimetype": "text/x-python",
   "name": "python",
   "nbconvert_exporter": "python",
   "pygments_lexer": "ipython3",
   "version": "3.8.5"
  }
 },
 "nbformat": 4,
 "nbformat_minor": 4
}
